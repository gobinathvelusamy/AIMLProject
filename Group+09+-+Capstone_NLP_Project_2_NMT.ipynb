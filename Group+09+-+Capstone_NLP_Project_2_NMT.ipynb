{
 "cells": [
  {
   "cell_type": "markdown",
   "metadata": {
    "id": "G-q_US85iNpI"
   },
   "source": [
    "**Name:** Group 9\n",
    "\n",
    "**Title:** Capstone NLP Project_2 - NMT"
   ]
  },
  {
   "cell_type": "markdown",
   "metadata": {
    "id": "TKr7alUDp4Q1"
   },
   "source": [
    "**Part A**"
   ]
  },
  {
   "cell_type": "markdown",
   "metadata": {
    "id": "LGMhhW6gnmge"
   },
   "source": [
    "• **DOMAIN:**  MACHINE TRANSLATION.\n",
    "\n",
    "• **CONTEXT:**  Machine Translation is the automated translation of source material into another language without human intervention. The database comes from ACL2014 Ninth workshop on Statistical Machine Translation. This workshop mainly focusses on language translation between European \n",
    "language pairs. The idea behind the workshop is to provide the ability for two parties to communicate and exchange the ideas from different \n",
    "countries.\n",
    "\n",
    "• **DATA DESCRIPTION:** The database is basically sentences in German/English of various events. Three datasets are obtained from Statistical Machine Translation workshop. Either the dataset can be downloaded from the link or can be used from the shared files. \n",
    "\n",
    "Three datasets are, \n",
    "- Europarl v7\n",
    "- Common Crawl corpus\n",
    "- News Commentary\n",
    "\n",
    "Link to download the dataset: https://statmt.org/wmt14/translation-task.html\n",
    "\n",
    "• **PROJECT OBJECTIVE:**  Design a Machine Translation model that can be used to translate sentences from German language to English language or vice-versa.\n",
    "\n",
    "**Project Tasks:** [ Total Score: 30 Marks]\n",
    "1. Milestone 1: [ Score: 40 points ]\n",
    "- Input: Context and Dataset\n",
    "- Process:\n",
    "    - Step 1: Import and merge all the three datasets. [ 5 points ]\n",
    "    - Step 2: Data cleansing [ 7 points ]\n",
    "    - Step 3: NLP pre processing - Dataset suitable to be used for AIML model learning [ 8 points ]\n",
    "    - Step 4: Design, train and test simple RNN & LSTM model [ 10 points ]\n",
    "    - Step 5: Interim report [ 10 points ]\n",
    "- Submission: Interim report, Jupyter Notebook with all the steps in Milestone-1"
   ]
  },
  {
   "cell_type": "markdown",
   "metadata": {
    "id": "8cgjKeiHMPL9"
   },
   "source": [
    "**Milestone 1**"
   ]
  },
  {
   "cell_type": "code",
   "execution_count": 1,
   "metadata": {
    "colab": {
     "base_uri": "https://localhost:8080/"
    },
    "id": "MizCRBljmA7R",
    "outputId": "8c2330ed-2eb7-4890-e950-7cfa3c13f464"
   },
   "outputs": [
    {
     "name": "stdout",
     "output_type": "stream",
     "text": [
      "Mounted at /content/drive\n"
     ]
    }
   ],
   "source": [
    "from google.colab import drive\n",
    "drive.mount('/content/drive')"
   ]
  },
  {
   "cell_type": "code",
   "execution_count": 2,
   "metadata": {
    "id": "nF76cnD36SA5"
   },
   "outputs": [],
   "source": [
    "# Importing required libraries\n",
    "\n",
    "import pandas as pd\n",
    "import numpy as np\n",
    "import matplotlib.pyplot as plt\n",
    "import seaborn as sns\n",
    "from google.colab import files\n",
    "import io\n",
    "import os"
   ]
  },
  {
   "cell_type": "code",
   "execution_count": 3,
   "metadata": {
    "id": "BdlEt3wF6SA6"
   },
   "outputs": [],
   "source": [
    "import tensorflow as tf\n",
    "import tensorflow.keras as keras\n",
    "from tensorflow.keras import models\n",
    "from tensorflow.keras import layers\n",
    "from tensorflow.keras import optimizers\n",
    "from tensorflow.keras import losses\n",
    "from tensorflow.keras import metrics\n",
    "from keras.models import load_model\n",
    "from keras.utils.vis_utils import plot_model\n",
    "\n",
    "from tensorflow.keras.preprocessing.text import Tokenizer\n",
    "from tensorflow.keras.preprocessing.sequence import pad_sequences\n",
    "from tensorflow.keras.layers import Dense, LSTM, Input, Embedding, Activation, RepeatVector, Dropout, BatchNormalization, Flatten, Bidirectional, TimeDistributed, SimpleRNN\n",
    "from tensorflow.keras.optimizers import Adam\n",
    "from tensorflow.keras.losses import sparse_categorical_crossentropy\n",
    "from tensorflow.keras.models import Model, Sequential\n",
    "from tensorflow.keras.initializers import Constant\n",
    "from tensorflow.keras.callbacks import ModelCheckpoint, ReduceLROnPlateau\n",
    "\n",
    "import nltk\n",
    "from nltk.translate.bleu_score import sentence_bleu, SmoothingFunction\n",
    "from nltk.stem.wordnet import WordNetLemmatizer\n",
    "from nltk.stem import PorterStemmer\n",
    "from nltk.corpus import stopwords\n",
    "from nltk.tokenize import RegexpTokenizer\n",
    "\n",
    "pd.set_option('display.max_colwidth', 200)\n",
    "\n",
    "import random\n",
    "random.seed(0)\n",
    "import re\n",
    "import string\n",
    "import warnings\n",
    "warnings.filterwarnings(\"ignore\")\n",
    "from numpy import array, argmax, random, take\n",
    "\n",
    "nltk.download('stopwords',quiet=True) \n",
    "nltk.download('wordnet', quiet=True)\n",
    "\n",
    "from sklearn.model_selection import train_test_split\n",
    "from sklearn.preprocessing import LabelBinarizer\n",
    "from sklearn.feature_extraction.text import CountVectorizer\n",
    "from sklearn.feature_extraction.text import TfidfVectorizer\n",
    "from sklearn.manifold import TSNE\n",
    "from sklearn.metrics.pairwise import cosine_similarity"
   ]
  },
  {
   "cell_type": "markdown",
   "metadata": {
    "id": "rq0Znio8KrkT"
   },
   "source": [
    "**Import and merge all the three datasets**"
   ]
  },
  {
   "cell_type": "code",
   "execution_count": 4,
   "metadata": {
    "id": "BUc2OYjFb4s6"
   },
   "outputs": [],
   "source": [
    "# Opening the source files\n",
    "\n",
    "europarl_en_dataset = open('/content/drive/My Drive/PGP_AIML/ColabNotebooks/europarl-v7_en_de.txt', encoding='utf-8')\n",
    "europarl_de_dataset = open('/content/drive/My Drive/PGP_AIML/ColabNotebooks/europarl-v7_de_en.txt', encoding='utf-8')\n",
    "\n",
    "commoncrawl_en_dataset = open('/content/drive/My Drive/PGP_AIML/ColabNotebooks/commoncrawl_en_de.txt', encoding='utf-8')\n",
    "commoncrawl_de_dataset = open('/content/drive/My Drive/PGP_AIML/ColabNotebooks/commoncrawl_de_en.txt', encoding='utf-8')\n",
    "\n",
    "newscommentary_en_dataset = open('/content/drive/My Drive/PGP_AIML/ColabNotebooks/news-commentary-v9_en_de.txt', encoding='utf-8')\n",
    "newscommentary_de_dataset = open('/content/drive/My Drive/PGP_AIML/ColabNotebooks/news-commentary-v9_de_en.txt', encoding='utf-8')\n",
    "\n",
    "# Reading the content of the source files\n",
    "\n",
    "europarl_en = europarl_en_dataset.readlines()\n",
    "europarl_de = europarl_de_dataset.readlines()\n",
    "\n",
    "commoncrawl_en = commoncrawl_en_dataset.readlines()\n",
    "commoncrawl_de = commoncrawl_de_dataset.readlines()\n",
    "\n",
    "newscommentary_en = newscommentary_en_dataset.readlines()\n",
    "newscommentary_de = newscommentary_de_dataset.readlines()\n",
    "\n",
    "# Creating the dataframe of the source files\n",
    "\n",
    "europarl_en_df = pd.DataFrame(europarl_en, columns=['English'])\n",
    "europarl_de_df = pd.DataFrame(europarl_de, columns = ['German'])\n",
    "\n",
    "commoncrawl_en_df = pd.DataFrame(commoncrawl_en, columns=['English'])\n",
    "commoncrawl_de_df = pd.DataFrame(commoncrawl_de, columns = ['German'])\n",
    "\n",
    "newscommentary_en_df = pd.DataFrame(newscommentary_en, columns=['English'])\n",
    "newscommentary_de_df = pd.DataFrame(newscommentary_de, columns = ['German'])"
   ]
  },
  {
   "cell_type": "code",
   "execution_count": 5,
   "metadata": {
    "colab": {
     "base_uri": "https://localhost:8080/",
     "height": 206
    },
    "id": "pKddNXileQ2n",
    "outputId": "7c9cb782-2db8-4c59-efa3-20becc8864bf"
   },
   "outputs": [
    {
     "data": {
      "text/html": [
       "\n",
       "  <div id=\"df-05d13ede-4470-4a4b-b1c4-af4df19b68c7\">\n",
       "    <div class=\"colab-df-container\">\n",
       "      <div>\n",
       "<style scoped>\n",
       "    .dataframe tbody tr th:only-of-type {\n",
       "        vertical-align: middle;\n",
       "    }\n",
       "\n",
       "    .dataframe tbody tr th {\n",
       "        vertical-align: top;\n",
       "    }\n",
       "\n",
       "    .dataframe thead th {\n",
       "        text-align: right;\n",
       "    }\n",
       "</style>\n",
       "<table border=\"1\" class=\"dataframe\">\n",
       "  <thead>\n",
       "    <tr style=\"text-align: right;\">\n",
       "      <th></th>\n",
       "      <th>English</th>\n",
       "    </tr>\n",
       "  </thead>\n",
       "  <tbody>\n",
       "    <tr>\n",
       "      <th>0</th>\n",
       "      <td>Resumption of the session\\n</td>\n",
       "    </tr>\n",
       "    <tr>\n",
       "      <th>1</th>\n",
       "      <td>I declare resumed the session of the European Parliament adjourned on Friday 17 December 1999, and I would like once again to wish you a happy new year in the hope that you enjoyed a pleasant fest...</td>\n",
       "    </tr>\n",
       "    <tr>\n",
       "      <th>2</th>\n",
       "      <td>Although, as you will have seen, the dreaded 'millennium bug' failed to materialise, still the people in a number of countries suffered a series of natural disasters that truly were dreadful.\\n</td>\n",
       "    </tr>\n",
       "    <tr>\n",
       "      <th>3</th>\n",
       "      <td>You have requested a debate on this subject in the course of the next few days, during this part-session.\\n</td>\n",
       "    </tr>\n",
       "    <tr>\n",
       "      <th>4</th>\n",
       "      <td>In the meantime, I should like to observe a minute' s silence, as a number of Members have requested, on behalf of all the victims concerned, particularly those of the terrible storms, in the vari...</td>\n",
       "    </tr>\n",
       "  </tbody>\n",
       "</table>\n",
       "</div>\n",
       "      <button class=\"colab-df-convert\" onclick=\"convertToInteractive('df-05d13ede-4470-4a4b-b1c4-af4df19b68c7')\"\n",
       "              title=\"Convert this dataframe to an interactive table.\"\n",
       "              style=\"display:none;\">\n",
       "        \n",
       "  <svg xmlns=\"http://www.w3.org/2000/svg\" height=\"24px\"viewBox=\"0 0 24 24\"\n",
       "       width=\"24px\">\n",
       "    <path d=\"M0 0h24v24H0V0z\" fill=\"none\"/>\n",
       "    <path d=\"M18.56 5.44l.94 2.06.94-2.06 2.06-.94-2.06-.94-.94-2.06-.94 2.06-2.06.94zm-11 1L8.5 8.5l.94-2.06 2.06-.94-2.06-.94L8.5 2.5l-.94 2.06-2.06.94zm10 10l.94 2.06.94-2.06 2.06-.94-2.06-.94-.94-2.06-.94 2.06-2.06.94z\"/><path d=\"M17.41 7.96l-1.37-1.37c-.4-.4-.92-.59-1.43-.59-.52 0-1.04.2-1.43.59L10.3 9.45l-7.72 7.72c-.78.78-.78 2.05 0 2.83L4 21.41c.39.39.9.59 1.41.59.51 0 1.02-.2 1.41-.59l7.78-7.78 2.81-2.81c.8-.78.8-2.07 0-2.86zM5.41 20L4 18.59l7.72-7.72 1.47 1.35L5.41 20z\"/>\n",
       "  </svg>\n",
       "      </button>\n",
       "      \n",
       "  <style>\n",
       "    .colab-df-container {\n",
       "      display:flex;\n",
       "      flex-wrap:wrap;\n",
       "      gap: 12px;\n",
       "    }\n",
       "\n",
       "    .colab-df-convert {\n",
       "      background-color: #E8F0FE;\n",
       "      border: none;\n",
       "      border-radius: 50%;\n",
       "      cursor: pointer;\n",
       "      display: none;\n",
       "      fill: #1967D2;\n",
       "      height: 32px;\n",
       "      padding: 0 0 0 0;\n",
       "      width: 32px;\n",
       "    }\n",
       "\n",
       "    .colab-df-convert:hover {\n",
       "      background-color: #E2EBFA;\n",
       "      box-shadow: 0px 1px 2px rgba(60, 64, 67, 0.3), 0px 1px 3px 1px rgba(60, 64, 67, 0.15);\n",
       "      fill: #174EA6;\n",
       "    }\n",
       "\n",
       "    [theme=dark] .colab-df-convert {\n",
       "      background-color: #3B4455;\n",
       "      fill: #D2E3FC;\n",
       "    }\n",
       "\n",
       "    [theme=dark] .colab-df-convert:hover {\n",
       "      background-color: #434B5C;\n",
       "      box-shadow: 0px 1px 3px 1px rgba(0, 0, 0, 0.15);\n",
       "      filter: drop-shadow(0px 1px 2px rgba(0, 0, 0, 0.3));\n",
       "      fill: #FFFFFF;\n",
       "    }\n",
       "  </style>\n",
       "\n",
       "      <script>\n",
       "        const buttonEl =\n",
       "          document.querySelector('#df-05d13ede-4470-4a4b-b1c4-af4df19b68c7 button.colab-df-convert');\n",
       "        buttonEl.style.display =\n",
       "          google.colab.kernel.accessAllowed ? 'block' : 'none';\n",
       "\n",
       "        async function convertToInteractive(key) {\n",
       "          const element = document.querySelector('#df-05d13ede-4470-4a4b-b1c4-af4df19b68c7');\n",
       "          const dataTable =\n",
       "            await google.colab.kernel.invokeFunction('convertToInteractive',\n",
       "                                                     [key], {});\n",
       "          if (!dataTable) return;\n",
       "\n",
       "          const docLinkHtml = 'Like what you see? Visit the ' +\n",
       "            '<a target=\"_blank\" href=https://colab.research.google.com/notebooks/data_table.ipynb>data table notebook</a>'\n",
       "            + ' to learn more about interactive tables.';\n",
       "          element.innerHTML = '';\n",
       "          dataTable['output_type'] = 'display_data';\n",
       "          await google.colab.output.renderOutput(dataTable, element);\n",
       "          const docLink = document.createElement('div');\n",
       "          docLink.innerHTML = docLinkHtml;\n",
       "          element.appendChild(docLink);\n",
       "        }\n",
       "      </script>\n",
       "    </div>\n",
       "  </div>\n",
       "  "
      ],
      "text/plain": [
       "                                                                                                                                                                                                   English\n",
       "0                                                                                                                                                                              Resumption of the session\\n\n",
       "1  I declare resumed the session of the European Parliament adjourned on Friday 17 December 1999, and I would like once again to wish you a happy new year in the hope that you enjoyed a pleasant fest...\n",
       "2        Although, as you will have seen, the dreaded 'millennium bug' failed to materialise, still the people in a number of countries suffered a series of natural disasters that truly were dreadful.\\n\n",
       "3                                                                                              You have requested a debate on this subject in the course of the next few days, during this part-session.\\n\n",
       "4  In the meantime, I should like to observe a minute' s silence, as a number of Members have requested, on behalf of all the victims concerned, particularly those of the terrible storms, in the vari..."
      ]
     },
     "execution_count": 5,
     "metadata": {},
     "output_type": "execute_result"
    }
   ],
   "source": [
    "# Observing the head of europarl_en dataframe\n",
    "\n",
    "europarl_en_df.head(5)"
   ]
  },
  {
   "cell_type": "code",
   "execution_count": 6,
   "metadata": {
    "colab": {
     "base_uri": "https://localhost:8080/",
     "height": 206
    },
    "id": "WE3iqCYReUrZ",
    "outputId": "c0c3cf7d-5ae3-4216-ec03-53dd5f00968f"
   },
   "outputs": [
    {
     "data": {
      "text/html": [
       "\n",
       "  <div id=\"df-4f839e97-ded6-4f8c-aac2-5949b1b5455d\">\n",
       "    <div class=\"colab-df-container\">\n",
       "      <div>\n",
       "<style scoped>\n",
       "    .dataframe tbody tr th:only-of-type {\n",
       "        vertical-align: middle;\n",
       "    }\n",
       "\n",
       "    .dataframe tbody tr th {\n",
       "        vertical-align: top;\n",
       "    }\n",
       "\n",
       "    .dataframe thead th {\n",
       "        text-align: right;\n",
       "    }\n",
       "</style>\n",
       "<table border=\"1\" class=\"dataframe\">\n",
       "  <thead>\n",
       "    <tr style=\"text-align: right;\">\n",
       "      <th></th>\n",
       "      <th>German</th>\n",
       "    </tr>\n",
       "  </thead>\n",
       "  <tbody>\n",
       "    <tr>\n",
       "      <th>0</th>\n",
       "      <td>Wiederaufnahme der Sitzungsperiode\\n</td>\n",
       "    </tr>\n",
       "    <tr>\n",
       "      <th>1</th>\n",
       "      <td>Ich erkläre die am Freitag, dem 17. Dezember unterbrochene Sitzungsperiode des Europäischen Parlaments für wiederaufgenommen, wünsche Ihnen nochmals alles Gute zum Jahreswechsel und hoffe, daß Sie...</td>\n",
       "    </tr>\n",
       "    <tr>\n",
       "      <th>2</th>\n",
       "      <td>Wie Sie feststellen konnten, ist der gefürchtete \"Millenium-Bug \" nicht eingetreten. Doch sind Bürger einiger unserer Mitgliedstaaten Opfer von schrecklichen Naturkatastrophen geworden.\\n</td>\n",
       "    </tr>\n",
       "    <tr>\n",
       "      <th>3</th>\n",
       "      <td>Im Parlament besteht der Wunsch nach einer Aussprache im Verlauf dieser Sitzungsperiode in den nächsten Tagen.\\n</td>\n",
       "    </tr>\n",
       "    <tr>\n",
       "      <th>4</th>\n",
       "      <td>Heute möchte ich Sie bitten - das ist auch der Wunsch einiger Kolleginnen und Kollegen -, allen Opfern der Stürme, insbesondere in den verschiedenen Ländern der Europäischen Union, in einer Schwei...</td>\n",
       "    </tr>\n",
       "  </tbody>\n",
       "</table>\n",
       "</div>\n",
       "      <button class=\"colab-df-convert\" onclick=\"convertToInteractive('df-4f839e97-ded6-4f8c-aac2-5949b1b5455d')\"\n",
       "              title=\"Convert this dataframe to an interactive table.\"\n",
       "              style=\"display:none;\">\n",
       "        \n",
       "  <svg xmlns=\"http://www.w3.org/2000/svg\" height=\"24px\"viewBox=\"0 0 24 24\"\n",
       "       width=\"24px\">\n",
       "    <path d=\"M0 0h24v24H0V0z\" fill=\"none\"/>\n",
       "    <path d=\"M18.56 5.44l.94 2.06.94-2.06 2.06-.94-2.06-.94-.94-2.06-.94 2.06-2.06.94zm-11 1L8.5 8.5l.94-2.06 2.06-.94-2.06-.94L8.5 2.5l-.94 2.06-2.06.94zm10 10l.94 2.06.94-2.06 2.06-.94-2.06-.94-.94-2.06-.94 2.06-2.06.94z\"/><path d=\"M17.41 7.96l-1.37-1.37c-.4-.4-.92-.59-1.43-.59-.52 0-1.04.2-1.43.59L10.3 9.45l-7.72 7.72c-.78.78-.78 2.05 0 2.83L4 21.41c.39.39.9.59 1.41.59.51 0 1.02-.2 1.41-.59l7.78-7.78 2.81-2.81c.8-.78.8-2.07 0-2.86zM5.41 20L4 18.59l7.72-7.72 1.47 1.35L5.41 20z\"/>\n",
       "  </svg>\n",
       "      </button>\n",
       "      \n",
       "  <style>\n",
       "    .colab-df-container {\n",
       "      display:flex;\n",
       "      flex-wrap:wrap;\n",
       "      gap: 12px;\n",
       "    }\n",
       "\n",
       "    .colab-df-convert {\n",
       "      background-color: #E8F0FE;\n",
       "      border: none;\n",
       "      border-radius: 50%;\n",
       "      cursor: pointer;\n",
       "      display: none;\n",
       "      fill: #1967D2;\n",
       "      height: 32px;\n",
       "      padding: 0 0 0 0;\n",
       "      width: 32px;\n",
       "    }\n",
       "\n",
       "    .colab-df-convert:hover {\n",
       "      background-color: #E2EBFA;\n",
       "      box-shadow: 0px 1px 2px rgba(60, 64, 67, 0.3), 0px 1px 3px 1px rgba(60, 64, 67, 0.15);\n",
       "      fill: #174EA6;\n",
       "    }\n",
       "\n",
       "    [theme=dark] .colab-df-convert {\n",
       "      background-color: #3B4455;\n",
       "      fill: #D2E3FC;\n",
       "    }\n",
       "\n",
       "    [theme=dark] .colab-df-convert:hover {\n",
       "      background-color: #434B5C;\n",
       "      box-shadow: 0px 1px 3px 1px rgba(0, 0, 0, 0.15);\n",
       "      filter: drop-shadow(0px 1px 2px rgba(0, 0, 0, 0.3));\n",
       "      fill: #FFFFFF;\n",
       "    }\n",
       "  </style>\n",
       "\n",
       "      <script>\n",
       "        const buttonEl =\n",
       "          document.querySelector('#df-4f839e97-ded6-4f8c-aac2-5949b1b5455d button.colab-df-convert');\n",
       "        buttonEl.style.display =\n",
       "          google.colab.kernel.accessAllowed ? 'block' : 'none';\n",
       "\n",
       "        async function convertToInteractive(key) {\n",
       "          const element = document.querySelector('#df-4f839e97-ded6-4f8c-aac2-5949b1b5455d');\n",
       "          const dataTable =\n",
       "            await google.colab.kernel.invokeFunction('convertToInteractive',\n",
       "                                                     [key], {});\n",
       "          if (!dataTable) return;\n",
       "\n",
       "          const docLinkHtml = 'Like what you see? Visit the ' +\n",
       "            '<a target=\"_blank\" href=https://colab.research.google.com/notebooks/data_table.ipynb>data table notebook</a>'\n",
       "            + ' to learn more about interactive tables.';\n",
       "          element.innerHTML = '';\n",
       "          dataTable['output_type'] = 'display_data';\n",
       "          await google.colab.output.renderOutput(dataTable, element);\n",
       "          const docLink = document.createElement('div');\n",
       "          docLink.innerHTML = docLinkHtml;\n",
       "          element.appendChild(docLink);\n",
       "        }\n",
       "      </script>\n",
       "    </div>\n",
       "  </div>\n",
       "  "
      ],
      "text/plain": [
       "                                                                                                                                                                                                    German\n",
       "0                                                                                                                                                                     Wiederaufnahme der Sitzungsperiode\\n\n",
       "1  Ich erkläre die am Freitag, dem 17. Dezember unterbrochene Sitzungsperiode des Europäischen Parlaments für wiederaufgenommen, wünsche Ihnen nochmals alles Gute zum Jahreswechsel und hoffe, daß Sie...\n",
       "2              Wie Sie feststellen konnten, ist der gefürchtete \"Millenium-Bug \" nicht eingetreten. Doch sind Bürger einiger unserer Mitgliedstaaten Opfer von schrecklichen Naturkatastrophen geworden.\\n\n",
       "3                                                                                         Im Parlament besteht der Wunsch nach einer Aussprache im Verlauf dieser Sitzungsperiode in den nächsten Tagen.\\n\n",
       "4  Heute möchte ich Sie bitten - das ist auch der Wunsch einiger Kolleginnen und Kollegen -, allen Opfern der Stürme, insbesondere in den verschiedenen Ländern der Europäischen Union, in einer Schwei..."
      ]
     },
     "execution_count": 6,
     "metadata": {},
     "output_type": "execute_result"
    }
   ],
   "source": [
    "# Observing the head of europarl_de dataframe\n",
    "\n",
    "europarl_de_df.head(5)"
   ]
  },
  {
   "cell_type": "code",
   "execution_count": 7,
   "metadata": {
    "colab": {
     "base_uri": "https://localhost:8080/",
     "height": 206
    },
    "id": "W03VxJ2hhvAg",
    "outputId": "a3277c28-5fec-4eeb-9b4c-0cef3e42540c"
   },
   "outputs": [
    {
     "data": {
      "text/html": [
       "\n",
       "  <div id=\"df-ba209ddf-3051-4429-b386-b6a58f232a2c\">\n",
       "    <div class=\"colab-df-container\">\n",
       "      <div>\n",
       "<style scoped>\n",
       "    .dataframe tbody tr th:only-of-type {\n",
       "        vertical-align: middle;\n",
       "    }\n",
       "\n",
       "    .dataframe tbody tr th {\n",
       "        vertical-align: top;\n",
       "    }\n",
       "\n",
       "    .dataframe thead th {\n",
       "        text-align: right;\n",
       "    }\n",
       "</style>\n",
       "<table border=\"1\" class=\"dataframe\">\n",
       "  <thead>\n",
       "    <tr style=\"text-align: right;\">\n",
       "      <th></th>\n",
       "      <th>English</th>\n",
       "    </tr>\n",
       "  </thead>\n",
       "  <tbody>\n",
       "    <tr>\n",
       "      <th>0</th>\n",
       "      <td>iron cement is a ready for use paste which is laid as a fillet by putty knife or finger in the mould edges (corners) of the steel ingot mould.\\n</td>\n",
       "    </tr>\n",
       "    <tr>\n",
       "      <th>1</th>\n",
       "      <td>iron cement protects the ingot against the hot, abrasive steel casting process.\\n</td>\n",
       "    </tr>\n",
       "    <tr>\n",
       "      <th>2</th>\n",
       "      <td>a fire restant repair cement for fire places, ovens, open fireplaces etc.\\n</td>\n",
       "    </tr>\n",
       "    <tr>\n",
       "      <th>3</th>\n",
       "      <td>Construction and repair of highways and...\\n</td>\n",
       "    </tr>\n",
       "    <tr>\n",
       "      <th>4</th>\n",
       "      <td>An announcement must be commercial character.\\n</td>\n",
       "    </tr>\n",
       "  </tbody>\n",
       "</table>\n",
       "</div>\n",
       "      <button class=\"colab-df-convert\" onclick=\"convertToInteractive('df-ba209ddf-3051-4429-b386-b6a58f232a2c')\"\n",
       "              title=\"Convert this dataframe to an interactive table.\"\n",
       "              style=\"display:none;\">\n",
       "        \n",
       "  <svg xmlns=\"http://www.w3.org/2000/svg\" height=\"24px\"viewBox=\"0 0 24 24\"\n",
       "       width=\"24px\">\n",
       "    <path d=\"M0 0h24v24H0V0z\" fill=\"none\"/>\n",
       "    <path d=\"M18.56 5.44l.94 2.06.94-2.06 2.06-.94-2.06-.94-.94-2.06-.94 2.06-2.06.94zm-11 1L8.5 8.5l.94-2.06 2.06-.94-2.06-.94L8.5 2.5l-.94 2.06-2.06.94zm10 10l.94 2.06.94-2.06 2.06-.94-2.06-.94-.94-2.06-.94 2.06-2.06.94z\"/><path d=\"M17.41 7.96l-1.37-1.37c-.4-.4-.92-.59-1.43-.59-.52 0-1.04.2-1.43.59L10.3 9.45l-7.72 7.72c-.78.78-.78 2.05 0 2.83L4 21.41c.39.39.9.59 1.41.59.51 0 1.02-.2 1.41-.59l7.78-7.78 2.81-2.81c.8-.78.8-2.07 0-2.86zM5.41 20L4 18.59l7.72-7.72 1.47 1.35L5.41 20z\"/>\n",
       "  </svg>\n",
       "      </button>\n",
       "      \n",
       "  <style>\n",
       "    .colab-df-container {\n",
       "      display:flex;\n",
       "      flex-wrap:wrap;\n",
       "      gap: 12px;\n",
       "    }\n",
       "\n",
       "    .colab-df-convert {\n",
       "      background-color: #E8F0FE;\n",
       "      border: none;\n",
       "      border-radius: 50%;\n",
       "      cursor: pointer;\n",
       "      display: none;\n",
       "      fill: #1967D2;\n",
       "      height: 32px;\n",
       "      padding: 0 0 0 0;\n",
       "      width: 32px;\n",
       "    }\n",
       "\n",
       "    .colab-df-convert:hover {\n",
       "      background-color: #E2EBFA;\n",
       "      box-shadow: 0px 1px 2px rgba(60, 64, 67, 0.3), 0px 1px 3px 1px rgba(60, 64, 67, 0.15);\n",
       "      fill: #174EA6;\n",
       "    }\n",
       "\n",
       "    [theme=dark] .colab-df-convert {\n",
       "      background-color: #3B4455;\n",
       "      fill: #D2E3FC;\n",
       "    }\n",
       "\n",
       "    [theme=dark] .colab-df-convert:hover {\n",
       "      background-color: #434B5C;\n",
       "      box-shadow: 0px 1px 3px 1px rgba(0, 0, 0, 0.15);\n",
       "      filter: drop-shadow(0px 1px 2px rgba(0, 0, 0, 0.3));\n",
       "      fill: #FFFFFF;\n",
       "    }\n",
       "  </style>\n",
       "\n",
       "      <script>\n",
       "        const buttonEl =\n",
       "          document.querySelector('#df-ba209ddf-3051-4429-b386-b6a58f232a2c button.colab-df-convert');\n",
       "        buttonEl.style.display =\n",
       "          google.colab.kernel.accessAllowed ? 'block' : 'none';\n",
       "\n",
       "        async function convertToInteractive(key) {\n",
       "          const element = document.querySelector('#df-ba209ddf-3051-4429-b386-b6a58f232a2c');\n",
       "          const dataTable =\n",
       "            await google.colab.kernel.invokeFunction('convertToInteractive',\n",
       "                                                     [key], {});\n",
       "          if (!dataTable) return;\n",
       "\n",
       "          const docLinkHtml = 'Like what you see? Visit the ' +\n",
       "            '<a target=\"_blank\" href=https://colab.research.google.com/notebooks/data_table.ipynb>data table notebook</a>'\n",
       "            + ' to learn more about interactive tables.';\n",
       "          element.innerHTML = '';\n",
       "          dataTable['output_type'] = 'display_data';\n",
       "          await google.colab.output.renderOutput(dataTable, element);\n",
       "          const docLink = document.createElement('div');\n",
       "          docLink.innerHTML = docLinkHtml;\n",
       "          element.appendChild(docLink);\n",
       "        }\n",
       "      </script>\n",
       "    </div>\n",
       "  </div>\n",
       "  "
      ],
      "text/plain": [
       "                                                                                                                                            English\n",
       "0  iron cement is a ready for use paste which is laid as a fillet by putty knife or finger in the mould edges (corners) of the steel ingot mould.\\n\n",
       "1                                                                 iron cement protects the ingot against the hot, abrasive steel casting process.\\n\n",
       "2                                                                       a fire restant repair cement for fire places, ovens, open fireplaces etc.\\n\n",
       "3                                                                                                      Construction and repair of highways and...\\n\n",
       "4                                                                                                   An announcement must be commercial character.\\n"
      ]
     },
     "execution_count": 7,
     "metadata": {},
     "output_type": "execute_result"
    }
   ],
   "source": [
    "# Observing the head of commoncrawl_en dataframe\n",
    "\n",
    "commoncrawl_en_df.head(5)"
   ]
  },
  {
   "cell_type": "code",
   "execution_count": 8,
   "metadata": {
    "colab": {
     "base_uri": "https://localhost:8080/",
     "height": 206
    },
    "id": "_CcW02nVhv2F",
    "outputId": "f391aa5b-75eb-4012-c5bf-8c9c724adcc3"
   },
   "outputs": [
    {
     "data": {
      "text/html": [
       "\n",
       "  <div id=\"df-f81cf166-0f41-45eb-aa6d-082dedfb03e4\">\n",
       "    <div class=\"colab-df-container\">\n",
       "      <div>\n",
       "<style scoped>\n",
       "    .dataframe tbody tr th:only-of-type {\n",
       "        vertical-align: middle;\n",
       "    }\n",
       "\n",
       "    .dataframe tbody tr th {\n",
       "        vertical-align: top;\n",
       "    }\n",
       "\n",
       "    .dataframe thead th {\n",
       "        text-align: right;\n",
       "    }\n",
       "</style>\n",
       "<table border=\"1\" class=\"dataframe\">\n",
       "  <thead>\n",
       "    <tr style=\"text-align: right;\">\n",
       "      <th></th>\n",
       "      <th>German</th>\n",
       "    </tr>\n",
       "  </thead>\n",
       "  <tbody>\n",
       "    <tr>\n",
       "      <th>0</th>\n",
       "      <td>iron cement ist eine gebrauchs-fertige Paste, die mit einem Spachtel oder den Fingern als Hohlkehle in die Formecken (Winkel) der Stahlguss -Kokille aufgetragen wird.\\n</td>\n",
       "    </tr>\n",
       "    <tr>\n",
       "      <th>1</th>\n",
       "      <td>Nach der Aushärtung schützt iron cement die Kokille gegen den heissen, abrasiven Stahlguss .\\n</td>\n",
       "    </tr>\n",
       "    <tr>\n",
       "      <th>2</th>\n",
       "      <td>feuerfester Reparaturkitt für Feuerungsanlagen, Öfen, offene Feuerstellen etc.\\n</td>\n",
       "    </tr>\n",
       "    <tr>\n",
       "      <th>3</th>\n",
       "      <td>Der Bau und die Reparatur der Autostraßen...\\n</td>\n",
       "    </tr>\n",
       "    <tr>\n",
       "      <th>4</th>\n",
       "      <td>die Mitteilungen sollen den geschäftlichen kommerziellen Charakter tragen.\\n</td>\n",
       "    </tr>\n",
       "  </tbody>\n",
       "</table>\n",
       "</div>\n",
       "      <button class=\"colab-df-convert\" onclick=\"convertToInteractive('df-f81cf166-0f41-45eb-aa6d-082dedfb03e4')\"\n",
       "              title=\"Convert this dataframe to an interactive table.\"\n",
       "              style=\"display:none;\">\n",
       "        \n",
       "  <svg xmlns=\"http://www.w3.org/2000/svg\" height=\"24px\"viewBox=\"0 0 24 24\"\n",
       "       width=\"24px\">\n",
       "    <path d=\"M0 0h24v24H0V0z\" fill=\"none\"/>\n",
       "    <path d=\"M18.56 5.44l.94 2.06.94-2.06 2.06-.94-2.06-.94-.94-2.06-.94 2.06-2.06.94zm-11 1L8.5 8.5l.94-2.06 2.06-.94-2.06-.94L8.5 2.5l-.94 2.06-2.06.94zm10 10l.94 2.06.94-2.06 2.06-.94-2.06-.94-.94-2.06-.94 2.06-2.06.94z\"/><path d=\"M17.41 7.96l-1.37-1.37c-.4-.4-.92-.59-1.43-.59-.52 0-1.04.2-1.43.59L10.3 9.45l-7.72 7.72c-.78.78-.78 2.05 0 2.83L4 21.41c.39.39.9.59 1.41.59.51 0 1.02-.2 1.41-.59l7.78-7.78 2.81-2.81c.8-.78.8-2.07 0-2.86zM5.41 20L4 18.59l7.72-7.72 1.47 1.35L5.41 20z\"/>\n",
       "  </svg>\n",
       "      </button>\n",
       "      \n",
       "  <style>\n",
       "    .colab-df-container {\n",
       "      display:flex;\n",
       "      flex-wrap:wrap;\n",
       "      gap: 12px;\n",
       "    }\n",
       "\n",
       "    .colab-df-convert {\n",
       "      background-color: #E8F0FE;\n",
       "      border: none;\n",
       "      border-radius: 50%;\n",
       "      cursor: pointer;\n",
       "      display: none;\n",
       "      fill: #1967D2;\n",
       "      height: 32px;\n",
       "      padding: 0 0 0 0;\n",
       "      width: 32px;\n",
       "    }\n",
       "\n",
       "    .colab-df-convert:hover {\n",
       "      background-color: #E2EBFA;\n",
       "      box-shadow: 0px 1px 2px rgba(60, 64, 67, 0.3), 0px 1px 3px 1px rgba(60, 64, 67, 0.15);\n",
       "      fill: #174EA6;\n",
       "    }\n",
       "\n",
       "    [theme=dark] .colab-df-convert {\n",
       "      background-color: #3B4455;\n",
       "      fill: #D2E3FC;\n",
       "    }\n",
       "\n",
       "    [theme=dark] .colab-df-convert:hover {\n",
       "      background-color: #434B5C;\n",
       "      box-shadow: 0px 1px 3px 1px rgba(0, 0, 0, 0.15);\n",
       "      filter: drop-shadow(0px 1px 2px rgba(0, 0, 0, 0.3));\n",
       "      fill: #FFFFFF;\n",
       "    }\n",
       "  </style>\n",
       "\n",
       "      <script>\n",
       "        const buttonEl =\n",
       "          document.querySelector('#df-f81cf166-0f41-45eb-aa6d-082dedfb03e4 button.colab-df-convert');\n",
       "        buttonEl.style.display =\n",
       "          google.colab.kernel.accessAllowed ? 'block' : 'none';\n",
       "\n",
       "        async function convertToInteractive(key) {\n",
       "          const element = document.querySelector('#df-f81cf166-0f41-45eb-aa6d-082dedfb03e4');\n",
       "          const dataTable =\n",
       "            await google.colab.kernel.invokeFunction('convertToInteractive',\n",
       "                                                     [key], {});\n",
       "          if (!dataTable) return;\n",
       "\n",
       "          const docLinkHtml = 'Like what you see? Visit the ' +\n",
       "            '<a target=\"_blank\" href=https://colab.research.google.com/notebooks/data_table.ipynb>data table notebook</a>'\n",
       "            + ' to learn more about interactive tables.';\n",
       "          element.innerHTML = '';\n",
       "          dataTable['output_type'] = 'display_data';\n",
       "          await google.colab.output.renderOutput(dataTable, element);\n",
       "          const docLink = document.createElement('div');\n",
       "          docLink.innerHTML = docLinkHtml;\n",
       "          element.appendChild(docLink);\n",
       "        }\n",
       "      </script>\n",
       "    </div>\n",
       "  </div>\n",
       "  "
      ],
      "text/plain": [
       "                                                                                                                                                                     German\n",
       "0  iron cement ist eine gebrauchs-fertige Paste, die mit einem Spachtel oder den Fingern als Hohlkehle in die Formecken (Winkel) der Stahlguss -Kokille aufgetragen wird.\\n\n",
       "1                                                                            Nach der Aushärtung schützt iron cement die Kokille gegen den heissen, abrasiven Stahlguss .\\n\n",
       "2                                                                                          feuerfester Reparaturkitt für Feuerungsanlagen, Öfen, offene Feuerstellen etc.\\n\n",
       "3                                                                                                                            Der Bau und die Reparatur der Autostraßen...\\n\n",
       "4                                                                                              die Mitteilungen sollen den geschäftlichen kommerziellen Charakter tragen.\\n"
      ]
     },
     "execution_count": 8,
     "metadata": {},
     "output_type": "execute_result"
    }
   ],
   "source": [
    "# Observing the head of commoncrawl_de dataframe\n",
    "\n",
    "commoncrawl_de_df.head(5)"
   ]
  },
  {
   "cell_type": "code",
   "execution_count": 9,
   "metadata": {
    "colab": {
     "base_uri": "https://localhost:8080/",
     "height": 206
    },
    "id": "JYzPsRjah0yw",
    "outputId": "1429a8b4-8260-4182-9a99-70eb7a936fc7"
   },
   "outputs": [
    {
     "data": {
      "text/html": [
       "\n",
       "  <div id=\"df-6d8900f4-f864-424e-8038-153bf182c2ba\">\n",
       "    <div class=\"colab-df-container\">\n",
       "      <div>\n",
       "<style scoped>\n",
       "    .dataframe tbody tr th:only-of-type {\n",
       "        vertical-align: middle;\n",
       "    }\n",
       "\n",
       "    .dataframe tbody tr th {\n",
       "        vertical-align: top;\n",
       "    }\n",
       "\n",
       "    .dataframe thead th {\n",
       "        text-align: right;\n",
       "    }\n",
       "</style>\n",
       "<table border=\"1\" class=\"dataframe\">\n",
       "  <thead>\n",
       "    <tr style=\"text-align: right;\">\n",
       "      <th></th>\n",
       "      <th>English</th>\n",
       "    </tr>\n",
       "  </thead>\n",
       "  <tbody>\n",
       "    <tr>\n",
       "      <th>0</th>\n",
       "      <td>$10,000 Gold?\\n</td>\n",
       "    </tr>\n",
       "    <tr>\n",
       "      <th>1</th>\n",
       "      <td>SAN FRANCISCO – It has never been easy to have a rational conversation about the value of gold.\\n</td>\n",
       "    </tr>\n",
       "    <tr>\n",
       "      <th>2</th>\n",
       "      <td>Lately, with gold prices up more than 300% over the last decade, it is harder than ever.\\n</td>\n",
       "    </tr>\n",
       "    <tr>\n",
       "      <th>3</th>\n",
       "      <td>Just last December, fellow economists Martin Feldstein and Nouriel Roubini each penned op-eds bravely questioning bullish market sentiment, sensibly pointing out gold’s risks.\\n</td>\n",
       "    </tr>\n",
       "    <tr>\n",
       "      <th>4</th>\n",
       "      <td>Wouldn’t you know it?\\n</td>\n",
       "    </tr>\n",
       "  </tbody>\n",
       "</table>\n",
       "</div>\n",
       "      <button class=\"colab-df-convert\" onclick=\"convertToInteractive('df-6d8900f4-f864-424e-8038-153bf182c2ba')\"\n",
       "              title=\"Convert this dataframe to an interactive table.\"\n",
       "              style=\"display:none;\">\n",
       "        \n",
       "  <svg xmlns=\"http://www.w3.org/2000/svg\" height=\"24px\"viewBox=\"0 0 24 24\"\n",
       "       width=\"24px\">\n",
       "    <path d=\"M0 0h24v24H0V0z\" fill=\"none\"/>\n",
       "    <path d=\"M18.56 5.44l.94 2.06.94-2.06 2.06-.94-2.06-.94-.94-2.06-.94 2.06-2.06.94zm-11 1L8.5 8.5l.94-2.06 2.06-.94-2.06-.94L8.5 2.5l-.94 2.06-2.06.94zm10 10l.94 2.06.94-2.06 2.06-.94-2.06-.94-.94-2.06-.94 2.06-2.06.94z\"/><path d=\"M17.41 7.96l-1.37-1.37c-.4-.4-.92-.59-1.43-.59-.52 0-1.04.2-1.43.59L10.3 9.45l-7.72 7.72c-.78.78-.78 2.05 0 2.83L4 21.41c.39.39.9.59 1.41.59.51 0 1.02-.2 1.41-.59l7.78-7.78 2.81-2.81c.8-.78.8-2.07 0-2.86zM5.41 20L4 18.59l7.72-7.72 1.47 1.35L5.41 20z\"/>\n",
       "  </svg>\n",
       "      </button>\n",
       "      \n",
       "  <style>\n",
       "    .colab-df-container {\n",
       "      display:flex;\n",
       "      flex-wrap:wrap;\n",
       "      gap: 12px;\n",
       "    }\n",
       "\n",
       "    .colab-df-convert {\n",
       "      background-color: #E8F0FE;\n",
       "      border: none;\n",
       "      border-radius: 50%;\n",
       "      cursor: pointer;\n",
       "      display: none;\n",
       "      fill: #1967D2;\n",
       "      height: 32px;\n",
       "      padding: 0 0 0 0;\n",
       "      width: 32px;\n",
       "    }\n",
       "\n",
       "    .colab-df-convert:hover {\n",
       "      background-color: #E2EBFA;\n",
       "      box-shadow: 0px 1px 2px rgba(60, 64, 67, 0.3), 0px 1px 3px 1px rgba(60, 64, 67, 0.15);\n",
       "      fill: #174EA6;\n",
       "    }\n",
       "\n",
       "    [theme=dark] .colab-df-convert {\n",
       "      background-color: #3B4455;\n",
       "      fill: #D2E3FC;\n",
       "    }\n",
       "\n",
       "    [theme=dark] .colab-df-convert:hover {\n",
       "      background-color: #434B5C;\n",
       "      box-shadow: 0px 1px 3px 1px rgba(0, 0, 0, 0.15);\n",
       "      filter: drop-shadow(0px 1px 2px rgba(0, 0, 0, 0.3));\n",
       "      fill: #FFFFFF;\n",
       "    }\n",
       "  </style>\n",
       "\n",
       "      <script>\n",
       "        const buttonEl =\n",
       "          document.querySelector('#df-6d8900f4-f864-424e-8038-153bf182c2ba button.colab-df-convert');\n",
       "        buttonEl.style.display =\n",
       "          google.colab.kernel.accessAllowed ? 'block' : 'none';\n",
       "\n",
       "        async function convertToInteractive(key) {\n",
       "          const element = document.querySelector('#df-6d8900f4-f864-424e-8038-153bf182c2ba');\n",
       "          const dataTable =\n",
       "            await google.colab.kernel.invokeFunction('convertToInteractive',\n",
       "                                                     [key], {});\n",
       "          if (!dataTable) return;\n",
       "\n",
       "          const docLinkHtml = 'Like what you see? Visit the ' +\n",
       "            '<a target=\"_blank\" href=https://colab.research.google.com/notebooks/data_table.ipynb>data table notebook</a>'\n",
       "            + ' to learn more about interactive tables.';\n",
       "          element.innerHTML = '';\n",
       "          dataTable['output_type'] = 'display_data';\n",
       "          await google.colab.output.renderOutput(dataTable, element);\n",
       "          const docLink = document.createElement('div');\n",
       "          docLink.innerHTML = docLinkHtml;\n",
       "          element.appendChild(docLink);\n",
       "        }\n",
       "      </script>\n",
       "    </div>\n",
       "  </div>\n",
       "  "
      ],
      "text/plain": [
       "                                                                                                                                                                             English\n",
       "0                                                                                                                                                                    $10,000 Gold?\\n\n",
       "1                                                                                  SAN FRANCISCO – It has never been easy to have a rational conversation about the value of gold.\\n\n",
       "2                                                                                         Lately, with gold prices up more than 300% over the last decade, it is harder than ever.\\n\n",
       "3  Just last December, fellow economists Martin Feldstein and Nouriel Roubini each penned op-eds bravely questioning bullish market sentiment, sensibly pointing out gold’s risks.\\n\n",
       "4                                                                                                                                                            Wouldn’t you know it?\\n"
      ]
     },
     "execution_count": 9,
     "metadata": {},
     "output_type": "execute_result"
    }
   ],
   "source": [
    "# Observing the head of newscommentary_en dataframe\n",
    "\n",
    "newscommentary_en_df.head(5)"
   ]
  },
  {
   "cell_type": "code",
   "execution_count": 10,
   "metadata": {
    "colab": {
     "base_uri": "https://localhost:8080/",
     "height": 206
    },
    "id": "lc9q849Mh5d3",
    "outputId": "f72edd75-f5a4-46c4-e757-f19b955aa00a"
   },
   "outputs": [
    {
     "data": {
      "text/html": [
       "\n",
       "  <div id=\"df-9ccfe716-9e11-4f88-b3ff-0030316d9a28\">\n",
       "    <div class=\"colab-df-container\">\n",
       "      <div>\n",
       "<style scoped>\n",
       "    .dataframe tbody tr th:only-of-type {\n",
       "        vertical-align: middle;\n",
       "    }\n",
       "\n",
       "    .dataframe tbody tr th {\n",
       "        vertical-align: top;\n",
       "    }\n",
       "\n",
       "    .dataframe thead th {\n",
       "        text-align: right;\n",
       "    }\n",
       "</style>\n",
       "<table border=\"1\" class=\"dataframe\">\n",
       "  <thead>\n",
       "    <tr style=\"text-align: right;\">\n",
       "      <th></th>\n",
       "      <th>German</th>\n",
       "    </tr>\n",
       "  </thead>\n",
       "  <tbody>\n",
       "    <tr>\n",
       "      <th>0</th>\n",
       "      <td>Steigt Gold auf 10.000 Dollar?\\n</td>\n",
       "    </tr>\n",
       "    <tr>\n",
       "      <th>1</th>\n",
       "      <td>SAN FRANCISCO – Es war noch nie leicht, ein rationales Gespräch über den Wert von Gold zu führen.\\n</td>\n",
       "    </tr>\n",
       "    <tr>\n",
       "      <th>2</th>\n",
       "      <td>In letzter Zeit allerdings ist dies schwieriger denn je, ist doch der Goldpreis im letzten Jahrzehnt um über 300 Prozent angestiegen.\\n</td>\n",
       "    </tr>\n",
       "    <tr>\n",
       "      <th>3</th>\n",
       "      <td>Erst letzten Dezember verfassten meine Kollegen Martin Feldstein und Nouriel Roubini Kommentare, in denen sie mutig die vorherrschende optimistische Marktstimmung hinterfragten und sehr überlegt a...</td>\n",
       "    </tr>\n",
       "    <tr>\n",
       "      <th>4</th>\n",
       "      <td>Und es kam, wie es kommen musste.\\n</td>\n",
       "    </tr>\n",
       "  </tbody>\n",
       "</table>\n",
       "</div>\n",
       "      <button class=\"colab-df-convert\" onclick=\"convertToInteractive('df-9ccfe716-9e11-4f88-b3ff-0030316d9a28')\"\n",
       "              title=\"Convert this dataframe to an interactive table.\"\n",
       "              style=\"display:none;\">\n",
       "        \n",
       "  <svg xmlns=\"http://www.w3.org/2000/svg\" height=\"24px\"viewBox=\"0 0 24 24\"\n",
       "       width=\"24px\">\n",
       "    <path d=\"M0 0h24v24H0V0z\" fill=\"none\"/>\n",
       "    <path d=\"M18.56 5.44l.94 2.06.94-2.06 2.06-.94-2.06-.94-.94-2.06-.94 2.06-2.06.94zm-11 1L8.5 8.5l.94-2.06 2.06-.94-2.06-.94L8.5 2.5l-.94 2.06-2.06.94zm10 10l.94 2.06.94-2.06 2.06-.94-2.06-.94-.94-2.06-.94 2.06-2.06.94z\"/><path d=\"M17.41 7.96l-1.37-1.37c-.4-.4-.92-.59-1.43-.59-.52 0-1.04.2-1.43.59L10.3 9.45l-7.72 7.72c-.78.78-.78 2.05 0 2.83L4 21.41c.39.39.9.59 1.41.59.51 0 1.02-.2 1.41-.59l7.78-7.78 2.81-2.81c.8-.78.8-2.07 0-2.86zM5.41 20L4 18.59l7.72-7.72 1.47 1.35L5.41 20z\"/>\n",
       "  </svg>\n",
       "      </button>\n",
       "      \n",
       "  <style>\n",
       "    .colab-df-container {\n",
       "      display:flex;\n",
       "      flex-wrap:wrap;\n",
       "      gap: 12px;\n",
       "    }\n",
       "\n",
       "    .colab-df-convert {\n",
       "      background-color: #E8F0FE;\n",
       "      border: none;\n",
       "      border-radius: 50%;\n",
       "      cursor: pointer;\n",
       "      display: none;\n",
       "      fill: #1967D2;\n",
       "      height: 32px;\n",
       "      padding: 0 0 0 0;\n",
       "      width: 32px;\n",
       "    }\n",
       "\n",
       "    .colab-df-convert:hover {\n",
       "      background-color: #E2EBFA;\n",
       "      box-shadow: 0px 1px 2px rgba(60, 64, 67, 0.3), 0px 1px 3px 1px rgba(60, 64, 67, 0.15);\n",
       "      fill: #174EA6;\n",
       "    }\n",
       "\n",
       "    [theme=dark] .colab-df-convert {\n",
       "      background-color: #3B4455;\n",
       "      fill: #D2E3FC;\n",
       "    }\n",
       "\n",
       "    [theme=dark] .colab-df-convert:hover {\n",
       "      background-color: #434B5C;\n",
       "      box-shadow: 0px 1px 3px 1px rgba(0, 0, 0, 0.15);\n",
       "      filter: drop-shadow(0px 1px 2px rgba(0, 0, 0, 0.3));\n",
       "      fill: #FFFFFF;\n",
       "    }\n",
       "  </style>\n",
       "\n",
       "      <script>\n",
       "        const buttonEl =\n",
       "          document.querySelector('#df-9ccfe716-9e11-4f88-b3ff-0030316d9a28 button.colab-df-convert');\n",
       "        buttonEl.style.display =\n",
       "          google.colab.kernel.accessAllowed ? 'block' : 'none';\n",
       "\n",
       "        async function convertToInteractive(key) {\n",
       "          const element = document.querySelector('#df-9ccfe716-9e11-4f88-b3ff-0030316d9a28');\n",
       "          const dataTable =\n",
       "            await google.colab.kernel.invokeFunction('convertToInteractive',\n",
       "                                                     [key], {});\n",
       "          if (!dataTable) return;\n",
       "\n",
       "          const docLinkHtml = 'Like what you see? Visit the ' +\n",
       "            '<a target=\"_blank\" href=https://colab.research.google.com/notebooks/data_table.ipynb>data table notebook</a>'\n",
       "            + ' to learn more about interactive tables.';\n",
       "          element.innerHTML = '';\n",
       "          dataTable['output_type'] = 'display_data';\n",
       "          await google.colab.output.renderOutput(dataTable, element);\n",
       "          const docLink = document.createElement('div');\n",
       "          docLink.innerHTML = docLinkHtml;\n",
       "          element.appendChild(docLink);\n",
       "        }\n",
       "      </script>\n",
       "    </div>\n",
       "  </div>\n",
       "  "
      ],
      "text/plain": [
       "                                                                                                                                                                                                    German\n",
       "0                                                                                                                                                                         Steigt Gold auf 10.000 Dollar?\\n\n",
       "1                                                                                                      SAN FRANCISCO – Es war noch nie leicht, ein rationales Gespräch über den Wert von Gold zu führen.\\n\n",
       "2                                                                  In letzter Zeit allerdings ist dies schwieriger denn je, ist doch der Goldpreis im letzten Jahrzehnt um über 300 Prozent angestiegen.\\n\n",
       "3  Erst letzten Dezember verfassten meine Kollegen Martin Feldstein und Nouriel Roubini Kommentare, in denen sie mutig die vorherrschende optimistische Marktstimmung hinterfragten und sehr überlegt a...\n",
       "4                                                                                                                                                                      Und es kam, wie es kommen musste.\\n"
      ]
     },
     "execution_count": 10,
     "metadata": {},
     "output_type": "execute_result"
    }
   ],
   "source": [
    "# Observing the head of newscommentary_de dataframe\n",
    "\n",
    "newscommentary_de_df.head(5)"
   ]
  },
  {
   "cell_type": "code",
   "execution_count": 11,
   "metadata": {
    "colab": {
     "base_uri": "https://localhost:8080/"
    },
    "id": "PVZ-KNsY5chv",
    "outputId": "7b3e9310-6e52-45d2-f097-2b0ca57d3036"
   },
   "outputs": [
    {
     "name": "stdout",
     "output_type": "stream",
     "text": [
      "(1920209, 1)\n",
      "(1920209, 1)\n",
      "(2399123, 1)\n",
      "(2399123, 1)\n",
      "(201995, 1)\n",
      "(201854, 1)\n"
     ]
    }
   ],
   "source": [
    "# Observing the shape of all 6 dataframes\n",
    "\n",
    "print(europarl_en_df.shape) \n",
    "print(europarl_de_df.shape)\n",
    "\n",
    "print(commoncrawl_en_df.shape)\n",
    "print(commoncrawl_de_df.shape)\n",
    "\n",
    "print(newscommentary_en_df.shape)\n",
    "print(newscommentary_de_df.shape)"
   ]
  },
  {
   "cell_type": "code",
   "execution_count": 12,
   "metadata": {
    "id": "_iXYw5Q3yPSb"
   },
   "outputs": [],
   "source": [
    "# Checking for the duplicate records in newscommentary dataframes\n",
    "\n",
    "newscommentary_de_duplicate = newscommentary_de_df[newscommentary_de_df.duplicated()]\n",
    "newscommentary_en_duplicate = newscommentary_en_df[newscommentary_en_df.duplicated()]"
   ]
  },
  {
   "cell_type": "code",
   "execution_count": 13,
   "metadata": {
    "colab": {
     "base_uri": "https://localhost:8080/"
    },
    "id": "mXSiX9cVzpUT",
    "outputId": "5f73c3b3-f318-4d06-a008-4a0980396396"
   },
   "outputs": [
    {
     "data": {
      "text/plain": [
       "0         False\n",
       "1         False\n",
       "2         False\n",
       "3         False\n",
       "4         False\n",
       "          ...  \n",
       "201849    False\n",
       "201850    False\n",
       "201851    False\n",
       "201852    False\n",
       "201853    False\n",
       "Length: 201854, dtype: bool"
      ]
     },
     "execution_count": 13,
     "metadata": {},
     "output_type": "execute_result"
    }
   ],
   "source": [
    "# Checking for the duplicate records in newscommentary_de dataframe\n",
    "\n",
    "newscommentary_de_df.duplicated()"
   ]
  },
  {
   "cell_type": "code",
   "execution_count": 14,
   "metadata": {
    "colab": {
     "base_uri": "https://localhost:8080/"
    },
    "id": "0pBckKr9z2ZE",
    "outputId": "54f31585-9c2b-47d7-f278-1831f916153a"
   },
   "outputs": [
    {
     "data": {
      "text/plain": [
       "0         False\n",
       "1         False\n",
       "2         False\n",
       "3         False\n",
       "4         False\n",
       "          ...  \n",
       "201990    False\n",
       "201991    False\n",
       "201992    False\n",
       "201993    False\n",
       "201994    False\n",
       "Length: 201995, dtype: bool"
      ]
     },
     "execution_count": 14,
     "metadata": {},
     "output_type": "execute_result"
    }
   ],
   "source": [
    "# Checking for the duplicate records in newscommentary_en dataframe\n",
    "\n",
    "newscommentary_en_df.duplicated()"
   ]
  },
  {
   "cell_type": "code",
   "execution_count": 15,
   "metadata": {
    "colab": {
     "base_uri": "https://localhost:8080/",
     "height": 268
    },
    "id": "QT2prml05at_",
    "outputId": "e3c27794-e2d2-431c-f20b-c5a68f30c626"
   },
   "outputs": [
    {
     "data": {
      "text/html": [
       "\n",
       "  <div id=\"df-aa6e04e2-ad4e-4aa7-b014-4e3b748fb789\">\n",
       "    <div class=\"colab-df-container\">\n",
       "      <div>\n",
       "<style scoped>\n",
       "    .dataframe tbody tr th:only-of-type {\n",
       "        vertical-align: middle;\n",
       "    }\n",
       "\n",
       "    .dataframe tbody tr th {\n",
       "        vertical-align: top;\n",
       "    }\n",
       "\n",
       "    .dataframe thead th {\n",
       "        text-align: right;\n",
       "    }\n",
       "</style>\n",
       "<table border=\"1\" class=\"dataframe\">\n",
       "  <thead>\n",
       "    <tr style=\"text-align: right;\">\n",
       "      <th></th>\n",
       "      <th>English</th>\n",
       "      <th>German</th>\n",
       "    </tr>\n",
       "  </thead>\n",
       "  <tbody>\n",
       "    <tr>\n",
       "      <th>0</th>\n",
       "      <td>$10,000 Gold?\\n</td>\n",
       "      <td>Steigt Gold auf 10.000 Dollar?\\n</td>\n",
       "    </tr>\n",
       "    <tr>\n",
       "      <th>1</th>\n",
       "      <td>SAN FRANCISCO – It has never been easy to have a rational conversation about the value of gold.\\n</td>\n",
       "      <td>SAN FRANCISCO – Es war noch nie leicht, ein rationales Gespräch über den Wert von Gold zu führen.\\n</td>\n",
       "    </tr>\n",
       "    <tr>\n",
       "      <th>2</th>\n",
       "      <td>Lately, with gold prices up more than 300% over the last decade, it is harder than ever.\\n</td>\n",
       "      <td>In letzter Zeit allerdings ist dies schwieriger denn je, ist doch der Goldpreis im letzten Jahrzehnt um über 300 Prozent angestiegen.\\n</td>\n",
       "    </tr>\n",
       "    <tr>\n",
       "      <th>3</th>\n",
       "      <td>Just last December, fellow economists Martin Feldstein and Nouriel Roubini each penned op-eds bravely questioning bullish market sentiment, sensibly pointing out gold’s risks.\\n</td>\n",
       "      <td>Erst letzten Dezember verfassten meine Kollegen Martin Feldstein und Nouriel Roubini Kommentare, in denen sie mutig die vorherrschende optimistische Marktstimmung hinterfragten und sehr überlegt a...</td>\n",
       "    </tr>\n",
       "    <tr>\n",
       "      <th>4</th>\n",
       "      <td>Wouldn’t you know it?\\n</td>\n",
       "      <td>Und es kam, wie es kommen musste.\\n</td>\n",
       "    </tr>\n",
       "  </tbody>\n",
       "</table>\n",
       "</div>\n",
       "      <button class=\"colab-df-convert\" onclick=\"convertToInteractive('df-aa6e04e2-ad4e-4aa7-b014-4e3b748fb789')\"\n",
       "              title=\"Convert this dataframe to an interactive table.\"\n",
       "              style=\"display:none;\">\n",
       "        \n",
       "  <svg xmlns=\"http://www.w3.org/2000/svg\" height=\"24px\"viewBox=\"0 0 24 24\"\n",
       "       width=\"24px\">\n",
       "    <path d=\"M0 0h24v24H0V0z\" fill=\"none\"/>\n",
       "    <path d=\"M18.56 5.44l.94 2.06.94-2.06 2.06-.94-2.06-.94-.94-2.06-.94 2.06-2.06.94zm-11 1L8.5 8.5l.94-2.06 2.06-.94-2.06-.94L8.5 2.5l-.94 2.06-2.06.94zm10 10l.94 2.06.94-2.06 2.06-.94-2.06-.94-.94-2.06-.94 2.06-2.06.94z\"/><path d=\"M17.41 7.96l-1.37-1.37c-.4-.4-.92-.59-1.43-.59-.52 0-1.04.2-1.43.59L10.3 9.45l-7.72 7.72c-.78.78-.78 2.05 0 2.83L4 21.41c.39.39.9.59 1.41.59.51 0 1.02-.2 1.41-.59l7.78-7.78 2.81-2.81c.8-.78.8-2.07 0-2.86zM5.41 20L4 18.59l7.72-7.72 1.47 1.35L5.41 20z\"/>\n",
       "  </svg>\n",
       "      </button>\n",
       "      \n",
       "  <style>\n",
       "    .colab-df-container {\n",
       "      display:flex;\n",
       "      flex-wrap:wrap;\n",
       "      gap: 12px;\n",
       "    }\n",
       "\n",
       "    .colab-df-convert {\n",
       "      background-color: #E8F0FE;\n",
       "      border: none;\n",
       "      border-radius: 50%;\n",
       "      cursor: pointer;\n",
       "      display: none;\n",
       "      fill: #1967D2;\n",
       "      height: 32px;\n",
       "      padding: 0 0 0 0;\n",
       "      width: 32px;\n",
       "    }\n",
       "\n",
       "    .colab-df-convert:hover {\n",
       "      background-color: #E2EBFA;\n",
       "      box-shadow: 0px 1px 2px rgba(60, 64, 67, 0.3), 0px 1px 3px 1px rgba(60, 64, 67, 0.15);\n",
       "      fill: #174EA6;\n",
       "    }\n",
       "\n",
       "    [theme=dark] .colab-df-convert {\n",
       "      background-color: #3B4455;\n",
       "      fill: #D2E3FC;\n",
       "    }\n",
       "\n",
       "    [theme=dark] .colab-df-convert:hover {\n",
       "      background-color: #434B5C;\n",
       "      box-shadow: 0px 1px 3px 1px rgba(0, 0, 0, 0.15);\n",
       "      filter: drop-shadow(0px 1px 2px rgba(0, 0, 0, 0.3));\n",
       "      fill: #FFFFFF;\n",
       "    }\n",
       "  </style>\n",
       "\n",
       "      <script>\n",
       "        const buttonEl =\n",
       "          document.querySelector('#df-aa6e04e2-ad4e-4aa7-b014-4e3b748fb789 button.colab-df-convert');\n",
       "        buttonEl.style.display =\n",
       "          google.colab.kernel.accessAllowed ? 'block' : 'none';\n",
       "\n",
       "        async function convertToInteractive(key) {\n",
       "          const element = document.querySelector('#df-aa6e04e2-ad4e-4aa7-b014-4e3b748fb789');\n",
       "          const dataTable =\n",
       "            await google.colab.kernel.invokeFunction('convertToInteractive',\n",
       "                                                     [key], {});\n",
       "          if (!dataTable) return;\n",
       "\n",
       "          const docLinkHtml = 'Like what you see? Visit the ' +\n",
       "            '<a target=\"_blank\" href=https://colab.research.google.com/notebooks/data_table.ipynb>data table notebook</a>'\n",
       "            + ' to learn more about interactive tables.';\n",
       "          element.innerHTML = '';\n",
       "          dataTable['output_type'] = 'display_data';\n",
       "          await google.colab.output.renderOutput(dataTable, element);\n",
       "          const docLink = document.createElement('div');\n",
       "          docLink.innerHTML = docLinkHtml;\n",
       "          element.appendChild(docLink);\n",
       "        }\n",
       "      </script>\n",
       "    </div>\n",
       "  </div>\n",
       "  "
      ],
      "text/plain": [
       "                                                                                                                                                                             English  \\\n",
       "0                                                                                                                                                                    $10,000 Gold?\\n   \n",
       "1                                                                                  SAN FRANCISCO – It has never been easy to have a rational conversation about the value of gold.\\n   \n",
       "2                                                                                         Lately, with gold prices up more than 300% over the last decade, it is harder than ever.\\n   \n",
       "3  Just last December, fellow economists Martin Feldstein and Nouriel Roubini each penned op-eds bravely questioning bullish market sentiment, sensibly pointing out gold’s risks.\\n   \n",
       "4                                                                                                                                                            Wouldn’t you know it?\\n   \n",
       "\n",
       "                                                                                                                                                                                                    German  \n",
       "0                                                                                                                                                                         Steigt Gold auf 10.000 Dollar?\\n  \n",
       "1                                                                                                      SAN FRANCISCO – Es war noch nie leicht, ein rationales Gespräch über den Wert von Gold zu führen.\\n  \n",
       "2                                                                  In letzter Zeit allerdings ist dies schwieriger denn je, ist doch der Goldpreis im letzten Jahrzehnt um über 300 Prozent angestiegen.\\n  \n",
       "3  Erst letzten Dezember verfassten meine Kollegen Martin Feldstein und Nouriel Roubini Kommentare, in denen sie mutig die vorherrschende optimistische Marktstimmung hinterfragten und sehr überlegt a...  \n",
       "4                                                                                                                                                                      Und es kam, wie es kommen musste.\\n  "
      ]
     },
     "execution_count": 15,
     "metadata": {},
     "output_type": "execute_result"
    }
   ],
   "source": [
    "# Joining newcommentry dataframes and observing top 5 entries of joined dataframe\n",
    "\n",
    "newscommentary_df = newscommentary_en_df.join(newscommentary_de_df)\n",
    "\n",
    "newscommentary_df.head(5)"
   ]
  },
  {
   "cell_type": "code",
   "execution_count": 16,
   "metadata": {
    "colab": {
     "base_uri": "https://localhost:8080/"
    },
    "id": "-gvno2fG5_J_",
    "outputId": "9f905aa1-e90b-49a1-dd78-5a9735f28b83"
   },
   "outputs": [
    {
     "name": "stdout",
     "output_type": "stream",
     "text": [
      "<class 'pandas.core.frame.DataFrame'>\n",
      "RangeIndex: 201995 entries, 0 to 201994\n",
      "Data columns (total 2 columns):\n",
      " #   Column   Non-Null Count   Dtype \n",
      "---  ------   --------------   ----- \n",
      " 0   English  201995 non-null  object\n",
      " 1   German   201854 non-null  object\n",
      "dtypes: object(2)\n",
      "memory usage: 3.1+ MB\n"
     ]
    }
   ],
   "source": [
    "# Observing the information of newscommentry joined dataframe\n",
    "\n",
    "newscommentary_df.info()"
   ]
  },
  {
   "cell_type": "code",
   "execution_count": 17,
   "metadata": {
    "colab": {
     "base_uri": "https://localhost:8080/",
     "height": 268
    },
    "id": "gXULBSy466O4",
    "outputId": "4d73f5d1-e91e-4453-c83a-1f6b81e925b5"
   },
   "outputs": [
    {
     "data": {
      "text/html": [
       "\n",
       "  <div id=\"df-9a9c15d7-f368-48bc-b38f-22c76b0ee1dc\">\n",
       "    <div class=\"colab-df-container\">\n",
       "      <div>\n",
       "<style scoped>\n",
       "    .dataframe tbody tr th:only-of-type {\n",
       "        vertical-align: middle;\n",
       "    }\n",
       "\n",
       "    .dataframe tbody tr th {\n",
       "        vertical-align: top;\n",
       "    }\n",
       "\n",
       "    .dataframe thead th {\n",
       "        text-align: right;\n",
       "    }\n",
       "</style>\n",
       "<table border=\"1\" class=\"dataframe\">\n",
       "  <thead>\n",
       "    <tr style=\"text-align: right;\">\n",
       "      <th></th>\n",
       "      <th>English</th>\n",
       "      <th>German</th>\n",
       "    </tr>\n",
       "  </thead>\n",
       "  <tbody>\n",
       "    <tr>\n",
       "      <th>0</th>\n",
       "      <td>iron cement is a ready for use paste which is laid as a fillet by putty knife or finger in the mould edges (corners) of the steel ingot mould.\\n</td>\n",
       "      <td>iron cement ist eine gebrauchs-fertige Paste, die mit einem Spachtel oder den Fingern als Hohlkehle in die Formecken (Winkel) der Stahlguss -Kokille aufgetragen wird.\\n</td>\n",
       "    </tr>\n",
       "    <tr>\n",
       "      <th>1</th>\n",
       "      <td>iron cement protects the ingot against the hot, abrasive steel casting process.\\n</td>\n",
       "      <td>Nach der Aushärtung schützt iron cement die Kokille gegen den heissen, abrasiven Stahlguss .\\n</td>\n",
       "    </tr>\n",
       "    <tr>\n",
       "      <th>2</th>\n",
       "      <td>a fire restant repair cement for fire places, ovens, open fireplaces etc.\\n</td>\n",
       "      <td>feuerfester Reparaturkitt für Feuerungsanlagen, Öfen, offene Feuerstellen etc.\\n</td>\n",
       "    </tr>\n",
       "    <tr>\n",
       "      <th>3</th>\n",
       "      <td>Construction and repair of highways and...\\n</td>\n",
       "      <td>Der Bau und die Reparatur der Autostraßen...\\n</td>\n",
       "    </tr>\n",
       "    <tr>\n",
       "      <th>4</th>\n",
       "      <td>An announcement must be commercial character.\\n</td>\n",
       "      <td>die Mitteilungen sollen den geschäftlichen kommerziellen Charakter tragen.\\n</td>\n",
       "    </tr>\n",
       "  </tbody>\n",
       "</table>\n",
       "</div>\n",
       "      <button class=\"colab-df-convert\" onclick=\"convertToInteractive('df-9a9c15d7-f368-48bc-b38f-22c76b0ee1dc')\"\n",
       "              title=\"Convert this dataframe to an interactive table.\"\n",
       "              style=\"display:none;\">\n",
       "        \n",
       "  <svg xmlns=\"http://www.w3.org/2000/svg\" height=\"24px\"viewBox=\"0 0 24 24\"\n",
       "       width=\"24px\">\n",
       "    <path d=\"M0 0h24v24H0V0z\" fill=\"none\"/>\n",
       "    <path d=\"M18.56 5.44l.94 2.06.94-2.06 2.06-.94-2.06-.94-.94-2.06-.94 2.06-2.06.94zm-11 1L8.5 8.5l.94-2.06 2.06-.94-2.06-.94L8.5 2.5l-.94 2.06-2.06.94zm10 10l.94 2.06.94-2.06 2.06-.94-2.06-.94-.94-2.06-.94 2.06-2.06.94z\"/><path d=\"M17.41 7.96l-1.37-1.37c-.4-.4-.92-.59-1.43-.59-.52 0-1.04.2-1.43.59L10.3 9.45l-7.72 7.72c-.78.78-.78 2.05 0 2.83L4 21.41c.39.39.9.59 1.41.59.51 0 1.02-.2 1.41-.59l7.78-7.78 2.81-2.81c.8-.78.8-2.07 0-2.86zM5.41 20L4 18.59l7.72-7.72 1.47 1.35L5.41 20z\"/>\n",
       "  </svg>\n",
       "      </button>\n",
       "      \n",
       "  <style>\n",
       "    .colab-df-container {\n",
       "      display:flex;\n",
       "      flex-wrap:wrap;\n",
       "      gap: 12px;\n",
       "    }\n",
       "\n",
       "    .colab-df-convert {\n",
       "      background-color: #E8F0FE;\n",
       "      border: none;\n",
       "      border-radius: 50%;\n",
       "      cursor: pointer;\n",
       "      display: none;\n",
       "      fill: #1967D2;\n",
       "      height: 32px;\n",
       "      padding: 0 0 0 0;\n",
       "      width: 32px;\n",
       "    }\n",
       "\n",
       "    .colab-df-convert:hover {\n",
       "      background-color: #E2EBFA;\n",
       "      box-shadow: 0px 1px 2px rgba(60, 64, 67, 0.3), 0px 1px 3px 1px rgba(60, 64, 67, 0.15);\n",
       "      fill: #174EA6;\n",
       "    }\n",
       "\n",
       "    [theme=dark] .colab-df-convert {\n",
       "      background-color: #3B4455;\n",
       "      fill: #D2E3FC;\n",
       "    }\n",
       "\n",
       "    [theme=dark] .colab-df-convert:hover {\n",
       "      background-color: #434B5C;\n",
       "      box-shadow: 0px 1px 3px 1px rgba(0, 0, 0, 0.15);\n",
       "      filter: drop-shadow(0px 1px 2px rgba(0, 0, 0, 0.3));\n",
       "      fill: #FFFFFF;\n",
       "    }\n",
       "  </style>\n",
       "\n",
       "      <script>\n",
       "        const buttonEl =\n",
       "          document.querySelector('#df-9a9c15d7-f368-48bc-b38f-22c76b0ee1dc button.colab-df-convert');\n",
       "        buttonEl.style.display =\n",
       "          google.colab.kernel.accessAllowed ? 'block' : 'none';\n",
       "\n",
       "        async function convertToInteractive(key) {\n",
       "          const element = document.querySelector('#df-9a9c15d7-f368-48bc-b38f-22c76b0ee1dc');\n",
       "          const dataTable =\n",
       "            await google.colab.kernel.invokeFunction('convertToInteractive',\n",
       "                                                     [key], {});\n",
       "          if (!dataTable) return;\n",
       "\n",
       "          const docLinkHtml = 'Like what you see? Visit the ' +\n",
       "            '<a target=\"_blank\" href=https://colab.research.google.com/notebooks/data_table.ipynb>data table notebook</a>'\n",
       "            + ' to learn more about interactive tables.';\n",
       "          element.innerHTML = '';\n",
       "          dataTable['output_type'] = 'display_data';\n",
       "          await google.colab.output.renderOutput(dataTable, element);\n",
       "          const docLink = document.createElement('div');\n",
       "          docLink.innerHTML = docLinkHtml;\n",
       "          element.appendChild(docLink);\n",
       "        }\n",
       "      </script>\n",
       "    </div>\n",
       "  </div>\n",
       "  "
      ],
      "text/plain": [
       "                                                                                                                                            English  \\\n",
       "0  iron cement is a ready for use paste which is laid as a fillet by putty knife or finger in the mould edges (corners) of the steel ingot mould.\\n   \n",
       "1                                                                 iron cement protects the ingot against the hot, abrasive steel casting process.\\n   \n",
       "2                                                                       a fire restant repair cement for fire places, ovens, open fireplaces etc.\\n   \n",
       "3                                                                                                      Construction and repair of highways and...\\n   \n",
       "4                                                                                                   An announcement must be commercial character.\\n   \n",
       "\n",
       "                                                                                                                                                                     German  \n",
       "0  iron cement ist eine gebrauchs-fertige Paste, die mit einem Spachtel oder den Fingern als Hohlkehle in die Formecken (Winkel) der Stahlguss -Kokille aufgetragen wird.\\n  \n",
       "1                                                                            Nach der Aushärtung schützt iron cement die Kokille gegen den heissen, abrasiven Stahlguss .\\n  \n",
       "2                                                                                          feuerfester Reparaturkitt für Feuerungsanlagen, Öfen, offene Feuerstellen etc.\\n  \n",
       "3                                                                                                                            Der Bau und die Reparatur der Autostraßen...\\n  \n",
       "4                                                                                              die Mitteilungen sollen den geschäftlichen kommerziellen Charakter tragen.\\n  "
      ]
     },
     "execution_count": 17,
     "metadata": {},
     "output_type": "execute_result"
    }
   ],
   "source": [
    "# Joining commoncrawl dataframes and observing top 5 entries of joined dataframe\n",
    "\n",
    "commoncrawl_df = commoncrawl_en_df.join(commoncrawl_de_df)\n",
    "\n",
    "commoncrawl_df.head(5)"
   ]
  },
  {
   "cell_type": "code",
   "execution_count": 18,
   "metadata": {
    "colab": {
     "base_uri": "https://localhost:8080/"
    },
    "id": "bj-sk6PR68VQ",
    "outputId": "78a03954-f5ec-40d0-ec1c-e353eb8b2c5a"
   },
   "outputs": [
    {
     "name": "stdout",
     "output_type": "stream",
     "text": [
      "<class 'pandas.core.frame.DataFrame'>\n",
      "RangeIndex: 2399123 entries, 0 to 2399122\n",
      "Data columns (total 2 columns):\n",
      " #   Column   Dtype \n",
      "---  ------   ----- \n",
      " 0   English  object\n",
      " 1   German   object\n",
      "dtypes: object(2)\n",
      "memory usage: 36.6+ MB\n"
     ]
    }
   ],
   "source": [
    "# Observing the information of commoncrawl joined dataframe\n",
    "\n",
    "commoncrawl_df.info()"
   ]
  },
  {
   "cell_type": "code",
   "execution_count": 19,
   "metadata": {
    "colab": {
     "base_uri": "https://localhost:8080/",
     "height": 302
    },
    "id": "LHLiRTHB9Jdo",
    "outputId": "d4572d4a-3012-4c44-ec91-42b6d14a1989"
   },
   "outputs": [
    {
     "data": {
      "text/html": [
       "\n",
       "  <div id=\"df-d00af2da-abcc-4ab9-a0c2-7e00cb795861\">\n",
       "    <div class=\"colab-df-container\">\n",
       "      <div>\n",
       "<style scoped>\n",
       "    .dataframe tbody tr th:only-of-type {\n",
       "        vertical-align: middle;\n",
       "    }\n",
       "\n",
       "    .dataframe tbody tr th {\n",
       "        vertical-align: top;\n",
       "    }\n",
       "\n",
       "    .dataframe thead th {\n",
       "        text-align: right;\n",
       "    }\n",
       "</style>\n",
       "<table border=\"1\" class=\"dataframe\">\n",
       "  <thead>\n",
       "    <tr style=\"text-align: right;\">\n",
       "      <th></th>\n",
       "      <th>English</th>\n",
       "      <th>German</th>\n",
       "    </tr>\n",
       "  </thead>\n",
       "  <tbody>\n",
       "    <tr>\n",
       "      <th>0</th>\n",
       "      <td>Resumption of the session\\n</td>\n",
       "      <td>Wiederaufnahme der Sitzungsperiode\\n</td>\n",
       "    </tr>\n",
       "    <tr>\n",
       "      <th>1</th>\n",
       "      <td>I declare resumed the session of the European Parliament adjourned on Friday 17 December 1999, and I would like once again to wish you a happy new year in the hope that you enjoyed a pleasant fest...</td>\n",
       "      <td>Ich erkläre die am Freitag, dem 17. Dezember unterbrochene Sitzungsperiode des Europäischen Parlaments für wiederaufgenommen, wünsche Ihnen nochmals alles Gute zum Jahreswechsel und hoffe, daß Sie...</td>\n",
       "    </tr>\n",
       "    <tr>\n",
       "      <th>2</th>\n",
       "      <td>Although, as you will have seen, the dreaded 'millennium bug' failed to materialise, still the people in a number of countries suffered a series of natural disasters that truly were dreadful.\\n</td>\n",
       "      <td>Wie Sie feststellen konnten, ist der gefürchtete \"Millenium-Bug \" nicht eingetreten. Doch sind Bürger einiger unserer Mitgliedstaaten Opfer von schrecklichen Naturkatastrophen geworden.\\n</td>\n",
       "    </tr>\n",
       "    <tr>\n",
       "      <th>3</th>\n",
       "      <td>You have requested a debate on this subject in the course of the next few days, during this part-session.\\n</td>\n",
       "      <td>Im Parlament besteht der Wunsch nach einer Aussprache im Verlauf dieser Sitzungsperiode in den nächsten Tagen.\\n</td>\n",
       "    </tr>\n",
       "    <tr>\n",
       "      <th>4</th>\n",
       "      <td>In the meantime, I should like to observe a minute' s silence, as a number of Members have requested, on behalf of all the victims concerned, particularly those of the terrible storms, in the vari...</td>\n",
       "      <td>Heute möchte ich Sie bitten - das ist auch der Wunsch einiger Kolleginnen und Kollegen -, allen Opfern der Stürme, insbesondere in den verschiedenen Ländern der Europäischen Union, in einer Schwei...</td>\n",
       "    </tr>\n",
       "  </tbody>\n",
       "</table>\n",
       "</div>\n",
       "      <button class=\"colab-df-convert\" onclick=\"convertToInteractive('df-d00af2da-abcc-4ab9-a0c2-7e00cb795861')\"\n",
       "              title=\"Convert this dataframe to an interactive table.\"\n",
       "              style=\"display:none;\">\n",
       "        \n",
       "  <svg xmlns=\"http://www.w3.org/2000/svg\" height=\"24px\"viewBox=\"0 0 24 24\"\n",
       "       width=\"24px\">\n",
       "    <path d=\"M0 0h24v24H0V0z\" fill=\"none\"/>\n",
       "    <path d=\"M18.56 5.44l.94 2.06.94-2.06 2.06-.94-2.06-.94-.94-2.06-.94 2.06-2.06.94zm-11 1L8.5 8.5l.94-2.06 2.06-.94-2.06-.94L8.5 2.5l-.94 2.06-2.06.94zm10 10l.94 2.06.94-2.06 2.06-.94-2.06-.94-.94-2.06-.94 2.06-2.06.94z\"/><path d=\"M17.41 7.96l-1.37-1.37c-.4-.4-.92-.59-1.43-.59-.52 0-1.04.2-1.43.59L10.3 9.45l-7.72 7.72c-.78.78-.78 2.05 0 2.83L4 21.41c.39.39.9.59 1.41.59.51 0 1.02-.2 1.41-.59l7.78-7.78 2.81-2.81c.8-.78.8-2.07 0-2.86zM5.41 20L4 18.59l7.72-7.72 1.47 1.35L5.41 20z\"/>\n",
       "  </svg>\n",
       "      </button>\n",
       "      \n",
       "  <style>\n",
       "    .colab-df-container {\n",
       "      display:flex;\n",
       "      flex-wrap:wrap;\n",
       "      gap: 12px;\n",
       "    }\n",
       "\n",
       "    .colab-df-convert {\n",
       "      background-color: #E8F0FE;\n",
       "      border: none;\n",
       "      border-radius: 50%;\n",
       "      cursor: pointer;\n",
       "      display: none;\n",
       "      fill: #1967D2;\n",
       "      height: 32px;\n",
       "      padding: 0 0 0 0;\n",
       "      width: 32px;\n",
       "    }\n",
       "\n",
       "    .colab-df-convert:hover {\n",
       "      background-color: #E2EBFA;\n",
       "      box-shadow: 0px 1px 2px rgba(60, 64, 67, 0.3), 0px 1px 3px 1px rgba(60, 64, 67, 0.15);\n",
       "      fill: #174EA6;\n",
       "    }\n",
       "\n",
       "    [theme=dark] .colab-df-convert {\n",
       "      background-color: #3B4455;\n",
       "      fill: #D2E3FC;\n",
       "    }\n",
       "\n",
       "    [theme=dark] .colab-df-convert:hover {\n",
       "      background-color: #434B5C;\n",
       "      box-shadow: 0px 1px 3px 1px rgba(0, 0, 0, 0.15);\n",
       "      filter: drop-shadow(0px 1px 2px rgba(0, 0, 0, 0.3));\n",
       "      fill: #FFFFFF;\n",
       "    }\n",
       "  </style>\n",
       "\n",
       "      <script>\n",
       "        const buttonEl =\n",
       "          document.querySelector('#df-d00af2da-abcc-4ab9-a0c2-7e00cb795861 button.colab-df-convert');\n",
       "        buttonEl.style.display =\n",
       "          google.colab.kernel.accessAllowed ? 'block' : 'none';\n",
       "\n",
       "        async function convertToInteractive(key) {\n",
       "          const element = document.querySelector('#df-d00af2da-abcc-4ab9-a0c2-7e00cb795861');\n",
       "          const dataTable =\n",
       "            await google.colab.kernel.invokeFunction('convertToInteractive',\n",
       "                                                     [key], {});\n",
       "          if (!dataTable) return;\n",
       "\n",
       "          const docLinkHtml = 'Like what you see? Visit the ' +\n",
       "            '<a target=\"_blank\" href=https://colab.research.google.com/notebooks/data_table.ipynb>data table notebook</a>'\n",
       "            + ' to learn more about interactive tables.';\n",
       "          element.innerHTML = '';\n",
       "          dataTable['output_type'] = 'display_data';\n",
       "          await google.colab.output.renderOutput(dataTable, element);\n",
       "          const docLink = document.createElement('div');\n",
       "          docLink.innerHTML = docLinkHtml;\n",
       "          element.appendChild(docLink);\n",
       "        }\n",
       "      </script>\n",
       "    </div>\n",
       "  </div>\n",
       "  "
      ],
      "text/plain": [
       "                                                                                                                                                                                                   English  \\\n",
       "0                                                                                                                                                                              Resumption of the session\\n   \n",
       "1  I declare resumed the session of the European Parliament adjourned on Friday 17 December 1999, and I would like once again to wish you a happy new year in the hope that you enjoyed a pleasant fest...   \n",
       "2        Although, as you will have seen, the dreaded 'millennium bug' failed to materialise, still the people in a number of countries suffered a series of natural disasters that truly were dreadful.\\n   \n",
       "3                                                                                              You have requested a debate on this subject in the course of the next few days, during this part-session.\\n   \n",
       "4  In the meantime, I should like to observe a minute' s silence, as a number of Members have requested, on behalf of all the victims concerned, particularly those of the terrible storms, in the vari...   \n",
       "\n",
       "                                                                                                                                                                                                    German  \n",
       "0                                                                                                                                                                     Wiederaufnahme der Sitzungsperiode\\n  \n",
       "1  Ich erkläre die am Freitag, dem 17. Dezember unterbrochene Sitzungsperiode des Europäischen Parlaments für wiederaufgenommen, wünsche Ihnen nochmals alles Gute zum Jahreswechsel und hoffe, daß Sie...  \n",
       "2              Wie Sie feststellen konnten, ist der gefürchtete \"Millenium-Bug \" nicht eingetreten. Doch sind Bürger einiger unserer Mitgliedstaaten Opfer von schrecklichen Naturkatastrophen geworden.\\n  \n",
       "3                                                                                         Im Parlament besteht der Wunsch nach einer Aussprache im Verlauf dieser Sitzungsperiode in den nächsten Tagen.\\n  \n",
       "4  Heute möchte ich Sie bitten - das ist auch der Wunsch einiger Kolleginnen und Kollegen -, allen Opfern der Stürme, insbesondere in den verschiedenen Ländern der Europäischen Union, in einer Schwei...  "
      ]
     },
     "execution_count": 19,
     "metadata": {},
     "output_type": "execute_result"
    }
   ],
   "source": [
    "# Joining europarl dataframes and observing top 5 entries of joined dataframe\n",
    "\n",
    "europarl_df = europarl_en_df.join(europarl_de_df)\n",
    "\n",
    "europarl_df.head(5)"
   ]
  },
  {
   "cell_type": "code",
   "execution_count": 20,
   "metadata": {
    "colab": {
     "base_uri": "https://localhost:8080/"
    },
    "id": "JjtaNkZo9JNP",
    "outputId": "86b53905-59ab-40da-e11d-b3c15098d49f"
   },
   "outputs": [
    {
     "name": "stdout",
     "output_type": "stream",
     "text": [
      "<class 'pandas.core.frame.DataFrame'>\n",
      "RangeIndex: 1920209 entries, 0 to 1920208\n",
      "Data columns (total 2 columns):\n",
      " #   Column   Dtype \n",
      "---  ------   ----- \n",
      " 0   English  object\n",
      " 1   German   object\n",
      "dtypes: object(2)\n",
      "memory usage: 29.3+ MB\n"
     ]
    }
   ],
   "source": [
    "# Observing the information of europarl joined dataframe\n",
    "\n",
    "europarl_df.info()"
   ]
  },
  {
   "cell_type": "code",
   "execution_count": 21,
   "metadata": {
    "colab": {
     "base_uri": "https://localhost:8080/"
    },
    "id": "FSAj81cH--cw",
    "outputId": "6e7e560d-45b1-4709-ecab-4d4d6078078d"
   },
   "outputs": [
    {
     "name": "stdout",
     "output_type": "stream",
     "text": [
      "<class 'pandas.core.frame.DataFrame'>\n",
      "Int64Index: 4521327 entries, 0 to 1920208\n",
      "Data columns (total 2 columns):\n",
      " #   Column   Dtype \n",
      "---  ------   ----- \n",
      " 0   English  object\n",
      " 1   German   object\n",
      "dtypes: object(2)\n",
      "memory usage: 103.5+ MB\n"
     ]
    }
   ],
   "source": [
    "# Concatenating all 3 joined dataframes\n",
    "\n",
    "translation_df = pd.concat([newscommentary_df,commoncrawl_df, europarl_df])\n",
    "\n",
    "translation_df.info()"
   ]
  },
  {
   "cell_type": "code",
   "execution_count": 22,
   "metadata": {
    "colab": {
     "base_uri": "https://localhost:8080/"
    },
    "id": "MIhFLDhbD1_A",
    "outputId": "a1c4aae8-d734-4bf4-bae9-790335da72a8"
   },
   "outputs": [
    {
     "data": {
      "text/plain": [
       "(4521327, 2)"
      ]
     },
     "execution_count": 22,
     "metadata": {},
     "output_type": "execute_result"
    }
   ],
   "source": [
    "# Observing the shape of merged dataframes\n",
    "\n",
    "translation_df.shape"
   ]
  },
  {
   "cell_type": "code",
   "execution_count": 23,
   "metadata": {
    "colab": {
     "base_uri": "https://localhost:8080/",
     "height": 268
    },
    "id": "UR9T0JU5DrfN",
    "outputId": "58eb5fc8-f238-4385-ee5e-28c8ce4787c9"
   },
   "outputs": [
    {
     "data": {
      "text/html": [
       "\n",
       "  <div id=\"df-24c0dfe1-c4a0-4c96-9d7a-d94bf419a0db\">\n",
       "    <div class=\"colab-df-container\">\n",
       "      <div>\n",
       "<style scoped>\n",
       "    .dataframe tbody tr th:only-of-type {\n",
       "        vertical-align: middle;\n",
       "    }\n",
       "\n",
       "    .dataframe tbody tr th {\n",
       "        vertical-align: top;\n",
       "    }\n",
       "\n",
       "    .dataframe thead th {\n",
       "        text-align: right;\n",
       "    }\n",
       "</style>\n",
       "<table border=\"1\" class=\"dataframe\">\n",
       "  <thead>\n",
       "    <tr style=\"text-align: right;\">\n",
       "      <th></th>\n",
       "      <th>English</th>\n",
       "      <th>German</th>\n",
       "    </tr>\n",
       "  </thead>\n",
       "  <tbody>\n",
       "    <tr>\n",
       "      <th>0</th>\n",
       "      <td>$10,000 Gold?\\n</td>\n",
       "      <td>Steigt Gold auf 10.000 Dollar?\\n</td>\n",
       "    </tr>\n",
       "    <tr>\n",
       "      <th>1</th>\n",
       "      <td>SAN FRANCISCO – It has never been easy to have a rational conversation about the value of gold.\\n</td>\n",
       "      <td>SAN FRANCISCO – Es war noch nie leicht, ein rationales Gespräch über den Wert von Gold zu führen.\\n</td>\n",
       "    </tr>\n",
       "    <tr>\n",
       "      <th>2</th>\n",
       "      <td>Lately, with gold prices up more than 300% over the last decade, it is harder than ever.\\n</td>\n",
       "      <td>In letzter Zeit allerdings ist dies schwieriger denn je, ist doch der Goldpreis im letzten Jahrzehnt um über 300 Prozent angestiegen.\\n</td>\n",
       "    </tr>\n",
       "    <tr>\n",
       "      <th>3</th>\n",
       "      <td>Just last December, fellow economists Martin Feldstein and Nouriel Roubini each penned op-eds bravely questioning bullish market sentiment, sensibly pointing out gold’s risks.\\n</td>\n",
       "      <td>Erst letzten Dezember verfassten meine Kollegen Martin Feldstein und Nouriel Roubini Kommentare, in denen sie mutig die vorherrschende optimistische Marktstimmung hinterfragten und sehr überlegt a...</td>\n",
       "    </tr>\n",
       "    <tr>\n",
       "      <th>4</th>\n",
       "      <td>Wouldn’t you know it?\\n</td>\n",
       "      <td>Und es kam, wie es kommen musste.\\n</td>\n",
       "    </tr>\n",
       "  </tbody>\n",
       "</table>\n",
       "</div>\n",
       "      <button class=\"colab-df-convert\" onclick=\"convertToInteractive('df-24c0dfe1-c4a0-4c96-9d7a-d94bf419a0db')\"\n",
       "              title=\"Convert this dataframe to an interactive table.\"\n",
       "              style=\"display:none;\">\n",
       "        \n",
       "  <svg xmlns=\"http://www.w3.org/2000/svg\" height=\"24px\"viewBox=\"0 0 24 24\"\n",
       "       width=\"24px\">\n",
       "    <path d=\"M0 0h24v24H0V0z\" fill=\"none\"/>\n",
       "    <path d=\"M18.56 5.44l.94 2.06.94-2.06 2.06-.94-2.06-.94-.94-2.06-.94 2.06-2.06.94zm-11 1L8.5 8.5l.94-2.06 2.06-.94-2.06-.94L8.5 2.5l-.94 2.06-2.06.94zm10 10l.94 2.06.94-2.06 2.06-.94-2.06-.94-.94-2.06-.94 2.06-2.06.94z\"/><path d=\"M17.41 7.96l-1.37-1.37c-.4-.4-.92-.59-1.43-.59-.52 0-1.04.2-1.43.59L10.3 9.45l-7.72 7.72c-.78.78-.78 2.05 0 2.83L4 21.41c.39.39.9.59 1.41.59.51 0 1.02-.2 1.41-.59l7.78-7.78 2.81-2.81c.8-.78.8-2.07 0-2.86zM5.41 20L4 18.59l7.72-7.72 1.47 1.35L5.41 20z\"/>\n",
       "  </svg>\n",
       "      </button>\n",
       "      \n",
       "  <style>\n",
       "    .colab-df-container {\n",
       "      display:flex;\n",
       "      flex-wrap:wrap;\n",
       "      gap: 12px;\n",
       "    }\n",
       "\n",
       "    .colab-df-convert {\n",
       "      background-color: #E8F0FE;\n",
       "      border: none;\n",
       "      border-radius: 50%;\n",
       "      cursor: pointer;\n",
       "      display: none;\n",
       "      fill: #1967D2;\n",
       "      height: 32px;\n",
       "      padding: 0 0 0 0;\n",
       "      width: 32px;\n",
       "    }\n",
       "\n",
       "    .colab-df-convert:hover {\n",
       "      background-color: #E2EBFA;\n",
       "      box-shadow: 0px 1px 2px rgba(60, 64, 67, 0.3), 0px 1px 3px 1px rgba(60, 64, 67, 0.15);\n",
       "      fill: #174EA6;\n",
       "    }\n",
       "\n",
       "    [theme=dark] .colab-df-convert {\n",
       "      background-color: #3B4455;\n",
       "      fill: #D2E3FC;\n",
       "    }\n",
       "\n",
       "    [theme=dark] .colab-df-convert:hover {\n",
       "      background-color: #434B5C;\n",
       "      box-shadow: 0px 1px 3px 1px rgba(0, 0, 0, 0.15);\n",
       "      filter: drop-shadow(0px 1px 2px rgba(0, 0, 0, 0.3));\n",
       "      fill: #FFFFFF;\n",
       "    }\n",
       "  </style>\n",
       "\n",
       "      <script>\n",
       "        const buttonEl =\n",
       "          document.querySelector('#df-24c0dfe1-c4a0-4c96-9d7a-d94bf419a0db button.colab-df-convert');\n",
       "        buttonEl.style.display =\n",
       "          google.colab.kernel.accessAllowed ? 'block' : 'none';\n",
       "\n",
       "        async function convertToInteractive(key) {\n",
       "          const element = document.querySelector('#df-24c0dfe1-c4a0-4c96-9d7a-d94bf419a0db');\n",
       "          const dataTable =\n",
       "            await google.colab.kernel.invokeFunction('convertToInteractive',\n",
       "                                                     [key], {});\n",
       "          if (!dataTable) return;\n",
       "\n",
       "          const docLinkHtml = 'Like what you see? Visit the ' +\n",
       "            '<a target=\"_blank\" href=https://colab.research.google.com/notebooks/data_table.ipynb>data table notebook</a>'\n",
       "            + ' to learn more about interactive tables.';\n",
       "          element.innerHTML = '';\n",
       "          dataTable['output_type'] = 'display_data';\n",
       "          await google.colab.output.renderOutput(dataTable, element);\n",
       "          const docLink = document.createElement('div');\n",
       "          docLink.innerHTML = docLinkHtml;\n",
       "          element.appendChild(docLink);\n",
       "        }\n",
       "      </script>\n",
       "    </div>\n",
       "  </div>\n",
       "  "
      ],
      "text/plain": [
       "                                                                                                                                                                             English  \\\n",
       "0                                                                                                                                                                    $10,000 Gold?\\n   \n",
       "1                                                                                  SAN FRANCISCO – It has never been easy to have a rational conversation about the value of gold.\\n   \n",
       "2                                                                                         Lately, with gold prices up more than 300% over the last decade, it is harder than ever.\\n   \n",
       "3  Just last December, fellow economists Martin Feldstein and Nouriel Roubini each penned op-eds bravely questioning bullish market sentiment, sensibly pointing out gold’s risks.\\n   \n",
       "4                                                                                                                                                            Wouldn’t you know it?\\n   \n",
       "\n",
       "                                                                                                                                                                                                    German  \n",
       "0                                                                                                                                                                         Steigt Gold auf 10.000 Dollar?\\n  \n",
       "1                                                                                                      SAN FRANCISCO – Es war noch nie leicht, ein rationales Gespräch über den Wert von Gold zu führen.\\n  \n",
       "2                                                                  In letzter Zeit allerdings ist dies schwieriger denn je, ist doch der Goldpreis im letzten Jahrzehnt um über 300 Prozent angestiegen.\\n  \n",
       "3  Erst letzten Dezember verfassten meine Kollegen Martin Feldstein und Nouriel Roubini Kommentare, in denen sie mutig die vorherrschende optimistische Marktstimmung hinterfragten und sehr überlegt a...  \n",
       "4                                                                                                                                                                      Und es kam, wie es kommen musste.\\n  "
      ]
     },
     "execution_count": 23,
     "metadata": {},
     "output_type": "execute_result"
    }
   ],
   "source": [
    "# Observing the top 5 entries of merged dataframe\n",
    "\n",
    "translation_df.head()"
   ]
  },
  {
   "cell_type": "code",
   "execution_count": 24,
   "metadata": {
    "colab": {
     "base_uri": "https://localhost:8080/",
     "height": 424
    },
    "id": "JEpHL7tK6X8E",
    "outputId": "20bdca30-e007-4baf-da2b-aacb5162e22f"
   },
   "outputs": [
    {
     "data": {
      "text/html": [
       "\n",
       "  <div id=\"df-a5d64d16-7512-49b0-b491-5b08f44b8562\">\n",
       "    <div class=\"colab-df-container\">\n",
       "      <div>\n",
       "<style scoped>\n",
       "    .dataframe tbody tr th:only-of-type {\n",
       "        vertical-align: middle;\n",
       "    }\n",
       "\n",
       "    .dataframe tbody tr th {\n",
       "        vertical-align: top;\n",
       "    }\n",
       "\n",
       "    .dataframe thead th {\n",
       "        text-align: right;\n",
       "    }\n",
       "</style>\n",
       "<table border=\"1\" class=\"dataframe\">\n",
       "  <thead>\n",
       "    <tr style=\"text-align: right;\">\n",
       "      <th></th>\n",
       "      <th>English</th>\n",
       "      <th>German</th>\n",
       "    </tr>\n",
       "  </thead>\n",
       "  <tbody>\n",
       "    <tr>\n",
       "      <th>0</th>\n",
       "      <td>False</td>\n",
       "      <td>False</td>\n",
       "    </tr>\n",
       "    <tr>\n",
       "      <th>1</th>\n",
       "      <td>False</td>\n",
       "      <td>False</td>\n",
       "    </tr>\n",
       "    <tr>\n",
       "      <th>2</th>\n",
       "      <td>False</td>\n",
       "      <td>False</td>\n",
       "    </tr>\n",
       "    <tr>\n",
       "      <th>3</th>\n",
       "      <td>False</td>\n",
       "      <td>False</td>\n",
       "    </tr>\n",
       "    <tr>\n",
       "      <th>4</th>\n",
       "      <td>False</td>\n",
       "      <td>False</td>\n",
       "    </tr>\n",
       "    <tr>\n",
       "      <th>...</th>\n",
       "      <td>...</td>\n",
       "      <td>...</td>\n",
       "    </tr>\n",
       "    <tr>\n",
       "      <th>1920204</th>\n",
       "      <td>False</td>\n",
       "      <td>False</td>\n",
       "    </tr>\n",
       "    <tr>\n",
       "      <th>1920205</th>\n",
       "      <td>False</td>\n",
       "      <td>False</td>\n",
       "    </tr>\n",
       "    <tr>\n",
       "      <th>1920206</th>\n",
       "      <td>False</td>\n",
       "      <td>False</td>\n",
       "    </tr>\n",
       "    <tr>\n",
       "      <th>1920207</th>\n",
       "      <td>False</td>\n",
       "      <td>False</td>\n",
       "    </tr>\n",
       "    <tr>\n",
       "      <th>1920208</th>\n",
       "      <td>False</td>\n",
       "      <td>False</td>\n",
       "    </tr>\n",
       "  </tbody>\n",
       "</table>\n",
       "<p>4521327 rows × 2 columns</p>\n",
       "</div>\n",
       "      <button class=\"colab-df-convert\" onclick=\"convertToInteractive('df-a5d64d16-7512-49b0-b491-5b08f44b8562')\"\n",
       "              title=\"Convert this dataframe to an interactive table.\"\n",
       "              style=\"display:none;\">\n",
       "        \n",
       "  <svg xmlns=\"http://www.w3.org/2000/svg\" height=\"24px\"viewBox=\"0 0 24 24\"\n",
       "       width=\"24px\">\n",
       "    <path d=\"M0 0h24v24H0V0z\" fill=\"none\"/>\n",
       "    <path d=\"M18.56 5.44l.94 2.06.94-2.06 2.06-.94-2.06-.94-.94-2.06-.94 2.06-2.06.94zm-11 1L8.5 8.5l.94-2.06 2.06-.94-2.06-.94L8.5 2.5l-.94 2.06-2.06.94zm10 10l.94 2.06.94-2.06 2.06-.94-2.06-.94-.94-2.06-.94 2.06-2.06.94z\"/><path d=\"M17.41 7.96l-1.37-1.37c-.4-.4-.92-.59-1.43-.59-.52 0-1.04.2-1.43.59L10.3 9.45l-7.72 7.72c-.78.78-.78 2.05 0 2.83L4 21.41c.39.39.9.59 1.41.59.51 0 1.02-.2 1.41-.59l7.78-7.78 2.81-2.81c.8-.78.8-2.07 0-2.86zM5.41 20L4 18.59l7.72-7.72 1.47 1.35L5.41 20z\"/>\n",
       "  </svg>\n",
       "      </button>\n",
       "      \n",
       "  <style>\n",
       "    .colab-df-container {\n",
       "      display:flex;\n",
       "      flex-wrap:wrap;\n",
       "      gap: 12px;\n",
       "    }\n",
       "\n",
       "    .colab-df-convert {\n",
       "      background-color: #E8F0FE;\n",
       "      border: none;\n",
       "      border-radius: 50%;\n",
       "      cursor: pointer;\n",
       "      display: none;\n",
       "      fill: #1967D2;\n",
       "      height: 32px;\n",
       "      padding: 0 0 0 0;\n",
       "      width: 32px;\n",
       "    }\n",
       "\n",
       "    .colab-df-convert:hover {\n",
       "      background-color: #E2EBFA;\n",
       "      box-shadow: 0px 1px 2px rgba(60, 64, 67, 0.3), 0px 1px 3px 1px rgba(60, 64, 67, 0.15);\n",
       "      fill: #174EA6;\n",
       "    }\n",
       "\n",
       "    [theme=dark] .colab-df-convert {\n",
       "      background-color: #3B4455;\n",
       "      fill: #D2E3FC;\n",
       "    }\n",
       "\n",
       "    [theme=dark] .colab-df-convert:hover {\n",
       "      background-color: #434B5C;\n",
       "      box-shadow: 0px 1px 3px 1px rgba(0, 0, 0, 0.15);\n",
       "      filter: drop-shadow(0px 1px 2px rgba(0, 0, 0, 0.3));\n",
       "      fill: #FFFFFF;\n",
       "    }\n",
       "  </style>\n",
       "\n",
       "      <script>\n",
       "        const buttonEl =\n",
       "          document.querySelector('#df-a5d64d16-7512-49b0-b491-5b08f44b8562 button.colab-df-convert');\n",
       "        buttonEl.style.display =\n",
       "          google.colab.kernel.accessAllowed ? 'block' : 'none';\n",
       "\n",
       "        async function convertToInteractive(key) {\n",
       "          const element = document.querySelector('#df-a5d64d16-7512-49b0-b491-5b08f44b8562');\n",
       "          const dataTable =\n",
       "            await google.colab.kernel.invokeFunction('convertToInteractive',\n",
       "                                                     [key], {});\n",
       "          if (!dataTable) return;\n",
       "\n",
       "          const docLinkHtml = 'Like what you see? Visit the ' +\n",
       "            '<a target=\"_blank\" href=https://colab.research.google.com/notebooks/data_table.ipynb>data table notebook</a>'\n",
       "            + ' to learn more about interactive tables.';\n",
       "          element.innerHTML = '';\n",
       "          dataTable['output_type'] = 'display_data';\n",
       "          await google.colab.output.renderOutput(dataTable, element);\n",
       "          const docLink = document.createElement('div');\n",
       "          docLink.innerHTML = docLinkHtml;\n",
       "          element.appendChild(docLink);\n",
       "        }\n",
       "      </script>\n",
       "    </div>\n",
       "  </div>\n",
       "  "
      ],
      "text/plain": [
       "         English  German\n",
       "0          False   False\n",
       "1          False   False\n",
       "2          False   False\n",
       "3          False   False\n",
       "4          False   False\n",
       "...          ...     ...\n",
       "1920204    False   False\n",
       "1920205    False   False\n",
       "1920206    False   False\n",
       "1920207    False   False\n",
       "1920208    False   False\n",
       "\n",
       "[4521327 rows x 2 columns]"
      ]
     },
     "execution_count": 24,
     "metadata": {},
     "output_type": "execute_result"
    }
   ],
   "source": [
    "# Checking the null values in the dataframe\n",
    "\n",
    "translation_df.isna()"
   ]
  },
  {
   "cell_type": "code",
   "execution_count": 25,
   "metadata": {
    "colab": {
     "base_uri": "https://localhost:8080/"
    },
    "id": "Dbs9EHfPa7od",
    "outputId": "2bfb9b6b-148f-4aee-b41b-2908d0e8fd27"
   },
   "outputs": [
    {
     "data": {
      "text/plain": [
       "English      0\n",
       "German     141\n",
       "dtype: int64"
      ]
     },
     "execution_count": 25,
     "metadata": {},
     "output_type": "execute_result"
    }
   ],
   "source": [
    "# Checking the null values in the dataframe\n",
    "\n",
    "translation_df.isna().sum()"
   ]
  },
  {
   "cell_type": "code",
   "execution_count": 26,
   "metadata": {
    "colab": {
     "base_uri": "https://localhost:8080/"
    },
    "id": "-S-2WibqtFai",
    "outputId": "5e6a21d0-6ef4-43c5-ee57-d1fbc394cd8f"
   },
   "outputs": [
    {
     "data": {
      "text/plain": [
       "45016"
      ]
     },
     "execution_count": 26,
     "metadata": {},
     "output_type": "execute_result"
    }
   ],
   "source": [
    "# Checking the duplicates in the dataframe\n",
    "\n",
    "translation_df.duplicated().sum()"
   ]
  },
  {
   "cell_type": "markdown",
   "metadata": {
    "id": "CH8Eg42xgnM1"
   },
   "source": [
    "**Observetion:**\n",
    "\n",
    "*   Europarl and Commoncrawl datasets have matching entries in both English and German sources.\n",
    "*   Entries in Newscommentary dataset in English and German sources are not matching.\n",
    "*   German data sources has 141 null entries\n",
    "*   Merged dataframe has 45016 duplicate entries.\n",
    "*   All the sentences are finishing with \\n.\n",
    "*   All duplicate and null values are required be removed as a part of data cleaning activity.\n",
    "\n",
    "\n",
    "\n",
    "\n",
    "\n",
    "\n",
    "\n",
    "\n"
   ]
  },
  {
   "cell_type": "markdown",
   "metadata": {
    "id": "-pv_IovwK1EU"
   },
   "source": [
    "\n",
    "**Model 1: Basic LSTM Model With Full Length Sentences**"
   ]
  },
  {
   "cell_type": "markdown",
   "metadata": {
    "id": "-Pic64MBK1zc"
   },
   "source": [
    "**Data Cleansing**"
   ]
  },
  {
   "cell_type": "code",
   "execution_count": 27,
   "metadata": {
    "colab": {
     "base_uri": "https://localhost:8080/",
     "height": 502
    },
    "id": "k3JWjO7l6SSs",
    "outputId": "71f46d91-c5a8-40fc-a136-8ce059c4e81c"
   },
   "outputs": [
    {
     "data": {
      "text/html": [
       "\n",
       "  <div id=\"df-5a7d1184-8926-4b5b-a930-0d7638be1d79\">\n",
       "    <div class=\"colab-df-container\">\n",
       "      <div>\n",
       "<style scoped>\n",
       "    .dataframe tbody tr th:only-of-type {\n",
       "        vertical-align: middle;\n",
       "    }\n",
       "\n",
       "    .dataframe tbody tr th {\n",
       "        vertical-align: top;\n",
       "    }\n",
       "\n",
       "    .dataframe thead th {\n",
       "        text-align: right;\n",
       "    }\n",
       "</style>\n",
       "<table border=\"1\" class=\"dataframe\">\n",
       "  <thead>\n",
       "    <tr style=\"text-align: right;\">\n",
       "      <th></th>\n",
       "      <th>English</th>\n",
       "      <th>German</th>\n",
       "    </tr>\n",
       "  </thead>\n",
       "  <tbody>\n",
       "    <tr>\n",
       "      <th>0</th>\n",
       "      <td>$10,000 Gold?\\n</td>\n",
       "      <td>Steigt Gold auf 10.000 Dollar?\\n</td>\n",
       "    </tr>\n",
       "    <tr>\n",
       "      <th>1</th>\n",
       "      <td>SAN FRANCISCO – It has never been easy to have a rational conversation about the value of gold.\\n</td>\n",
       "      <td>SAN FRANCISCO – Es war noch nie leicht, ein rationales Gespräch über den Wert von Gold zu führen.\\n</td>\n",
       "    </tr>\n",
       "    <tr>\n",
       "      <th>2</th>\n",
       "      <td>Lately, with gold prices up more than 300% over the last decade, it is harder than ever.\\n</td>\n",
       "      <td>In letzter Zeit allerdings ist dies schwieriger denn je, ist doch der Goldpreis im letzten Jahrzehnt um über 300 Prozent angestiegen.\\n</td>\n",
       "    </tr>\n",
       "    <tr>\n",
       "      <th>3</th>\n",
       "      <td>Just last December, fellow economists Martin Feldstein and Nouriel Roubini each penned op-eds bravely questioning bullish market sentiment, sensibly pointing out gold’s risks.\\n</td>\n",
       "      <td>Erst letzten Dezember verfassten meine Kollegen Martin Feldstein und Nouriel Roubini Kommentare, in denen sie mutig die vorherrschende optimistische Marktstimmung hinterfragten und sehr überlegt a...</td>\n",
       "    </tr>\n",
       "    <tr>\n",
       "      <th>4</th>\n",
       "      <td>Wouldn’t you know it?\\n</td>\n",
       "      <td>Und es kam, wie es kommen musste.\\n</td>\n",
       "    </tr>\n",
       "    <tr>\n",
       "      <th>...</th>\n",
       "      <td>...</td>\n",
       "      <td>...</td>\n",
       "    </tr>\n",
       "    <tr>\n",
       "      <th>1920204</th>\n",
       "      <td>I would also like, although they are absent, to mention the Commission and the Council.\\n</td>\n",
       "      <td>Ich möchte mir sogar erlauben, die Kommission und den Rat zu nennen, auch wenn sie nicht anwesend sind.\\n</td>\n",
       "    </tr>\n",
       "    <tr>\n",
       "      <th>1920205</th>\n",
       "      <td>I am not going to re-open the 'Millennium or not the Millennium' debate, but I am going to wish all of you, and by extension, all the citizens of Europe which we represent, a happy year 2000.\\n</td>\n",
       "      <td>Ich will die Aussprache über \"Millennium ja, Millennium nein \" nicht noch einmal eröffnen, aber ich möchte Ihnen allen und darüber hinaus den von uns vertretenen europäischen Bürgern ein glücklich...</td>\n",
       "    </tr>\n",
       "    <tr>\n",
       "      <th>1920206</th>\n",
       "      <td>Adjournment of the session\\n</td>\n",
       "      <td>Unterbrechung der Sitzungsperiode\\n</td>\n",
       "    </tr>\n",
       "    <tr>\n",
       "      <th>1920207</th>\n",
       "      <td>I declare the session of the European Parliament adjourned.\\n</td>\n",
       "      <td>Ich erkläre die Sitzungsperiode des Europäischen Parlaments für unterbrochen.\\n</td>\n",
       "    </tr>\n",
       "    <tr>\n",
       "      <th>1920208</th>\n",
       "      <td>(The sitting was closed at 10.50 a.m.)\\n</td>\n",
       "      <td>(Die Sitzung wird um 10.50 Uhr geschlossen.)\\n</td>\n",
       "    </tr>\n",
       "  </tbody>\n",
       "</table>\n",
       "<p>4521186 rows × 2 columns</p>\n",
       "</div>\n",
       "      <button class=\"colab-df-convert\" onclick=\"convertToInteractive('df-5a7d1184-8926-4b5b-a930-0d7638be1d79')\"\n",
       "              title=\"Convert this dataframe to an interactive table.\"\n",
       "              style=\"display:none;\">\n",
       "        \n",
       "  <svg xmlns=\"http://www.w3.org/2000/svg\" height=\"24px\"viewBox=\"0 0 24 24\"\n",
       "       width=\"24px\">\n",
       "    <path d=\"M0 0h24v24H0V0z\" fill=\"none\"/>\n",
       "    <path d=\"M18.56 5.44l.94 2.06.94-2.06 2.06-.94-2.06-.94-.94-2.06-.94 2.06-2.06.94zm-11 1L8.5 8.5l.94-2.06 2.06-.94-2.06-.94L8.5 2.5l-.94 2.06-2.06.94zm10 10l.94 2.06.94-2.06 2.06-.94-2.06-.94-.94-2.06-.94 2.06-2.06.94z\"/><path d=\"M17.41 7.96l-1.37-1.37c-.4-.4-.92-.59-1.43-.59-.52 0-1.04.2-1.43.59L10.3 9.45l-7.72 7.72c-.78.78-.78 2.05 0 2.83L4 21.41c.39.39.9.59 1.41.59.51 0 1.02-.2 1.41-.59l7.78-7.78 2.81-2.81c.8-.78.8-2.07 0-2.86zM5.41 20L4 18.59l7.72-7.72 1.47 1.35L5.41 20z\"/>\n",
       "  </svg>\n",
       "      </button>\n",
       "      \n",
       "  <style>\n",
       "    .colab-df-container {\n",
       "      display:flex;\n",
       "      flex-wrap:wrap;\n",
       "      gap: 12px;\n",
       "    }\n",
       "\n",
       "    .colab-df-convert {\n",
       "      background-color: #E8F0FE;\n",
       "      border: none;\n",
       "      border-radius: 50%;\n",
       "      cursor: pointer;\n",
       "      display: none;\n",
       "      fill: #1967D2;\n",
       "      height: 32px;\n",
       "      padding: 0 0 0 0;\n",
       "      width: 32px;\n",
       "    }\n",
       "\n",
       "    .colab-df-convert:hover {\n",
       "      background-color: #E2EBFA;\n",
       "      box-shadow: 0px 1px 2px rgba(60, 64, 67, 0.3), 0px 1px 3px 1px rgba(60, 64, 67, 0.15);\n",
       "      fill: #174EA6;\n",
       "    }\n",
       "\n",
       "    [theme=dark] .colab-df-convert {\n",
       "      background-color: #3B4455;\n",
       "      fill: #D2E3FC;\n",
       "    }\n",
       "\n",
       "    [theme=dark] .colab-df-convert:hover {\n",
       "      background-color: #434B5C;\n",
       "      box-shadow: 0px 1px 3px 1px rgba(0, 0, 0, 0.15);\n",
       "      filter: drop-shadow(0px 1px 2px rgba(0, 0, 0, 0.3));\n",
       "      fill: #FFFFFF;\n",
       "    }\n",
       "  </style>\n",
       "\n",
       "      <script>\n",
       "        const buttonEl =\n",
       "          document.querySelector('#df-5a7d1184-8926-4b5b-a930-0d7638be1d79 button.colab-df-convert');\n",
       "        buttonEl.style.display =\n",
       "          google.colab.kernel.accessAllowed ? 'block' : 'none';\n",
       "\n",
       "        async function convertToInteractive(key) {\n",
       "          const element = document.querySelector('#df-5a7d1184-8926-4b5b-a930-0d7638be1d79');\n",
       "          const dataTable =\n",
       "            await google.colab.kernel.invokeFunction('convertToInteractive',\n",
       "                                                     [key], {});\n",
       "          if (!dataTable) return;\n",
       "\n",
       "          const docLinkHtml = 'Like what you see? Visit the ' +\n",
       "            '<a target=\"_blank\" href=https://colab.research.google.com/notebooks/data_table.ipynb>data table notebook</a>'\n",
       "            + ' to learn more about interactive tables.';\n",
       "          element.innerHTML = '';\n",
       "          dataTable['output_type'] = 'display_data';\n",
       "          await google.colab.output.renderOutput(dataTable, element);\n",
       "          const docLink = document.createElement('div');\n",
       "          docLink.innerHTML = docLinkHtml;\n",
       "          element.appendChild(docLink);\n",
       "        }\n",
       "      </script>\n",
       "    </div>\n",
       "  </div>\n",
       "  "
      ],
      "text/plain": [
       "                                                                                                                                                                                                   English  \\\n",
       "0                                                                                                                                                                                          $10,000 Gold?\\n   \n",
       "1                                                                                                        SAN FRANCISCO – It has never been easy to have a rational conversation about the value of gold.\\n   \n",
       "2                                                                                                               Lately, with gold prices up more than 300% over the last decade, it is harder than ever.\\n   \n",
       "3                        Just last December, fellow economists Martin Feldstein and Nouriel Roubini each penned op-eds bravely questioning bullish market sentiment, sensibly pointing out gold’s risks.\\n   \n",
       "4                                                                                                                                                                                  Wouldn’t you know it?\\n   \n",
       "...                                                                                                                                                                                                    ...   \n",
       "1920204                                                                                                          I would also like, although they are absent, to mention the Commission and the Council.\\n   \n",
       "1920205  I am not going to re-open the 'Millennium or not the Millennium' debate, but I am going to wish all of you, and by extension, all the citizens of Europe which we represent, a happy year 2000.\\n   \n",
       "1920206                                                                                                                                                                       Adjournment of the session\\n   \n",
       "1920207                                                                                                                                      I declare the session of the European Parliament adjourned.\\n   \n",
       "1920208                                                                                                                                                           (The sitting was closed at 10.50 a.m.)\\n   \n",
       "\n",
       "                                                                                                                                                                                                          German  \n",
       "0                                                                                                                                                                               Steigt Gold auf 10.000 Dollar?\\n  \n",
       "1                                                                                                            SAN FRANCISCO – Es war noch nie leicht, ein rationales Gespräch über den Wert von Gold zu führen.\\n  \n",
       "2                                                                        In letzter Zeit allerdings ist dies schwieriger denn je, ist doch der Goldpreis im letzten Jahrzehnt um über 300 Prozent angestiegen.\\n  \n",
       "3        Erst letzten Dezember verfassten meine Kollegen Martin Feldstein und Nouriel Roubini Kommentare, in denen sie mutig die vorherrschende optimistische Marktstimmung hinterfragten und sehr überlegt a...  \n",
       "4                                                                                                                                                                            Und es kam, wie es kommen musste.\\n  \n",
       "...                                                                                                                                                                                                          ...  \n",
       "1920204                                                                                                Ich möchte mir sogar erlauben, die Kommission und den Rat zu nennen, auch wenn sie nicht anwesend sind.\\n  \n",
       "1920205  Ich will die Aussprache über \"Millennium ja, Millennium nein \" nicht noch einmal eröffnen, aber ich möchte Ihnen allen und darüber hinaus den von uns vertretenen europäischen Bürgern ein glücklich...  \n",
       "1920206                                                                                                                                                                      Unterbrechung der Sitzungsperiode\\n  \n",
       "1920207                                                                                                                          Ich erkläre die Sitzungsperiode des Europäischen Parlaments für unterbrochen.\\n  \n",
       "1920208                                                                                                                                                           (Die Sitzung wird um 10.50 Uhr geschlossen.)\\n  \n",
       "\n",
       "[4521186 rows x 2 columns]"
      ]
     },
     "execution_count": 27,
     "metadata": {},
     "output_type": "execute_result"
    }
   ],
   "source": [
    "# Dropping the null values from the dataframe\n",
    "\n",
    "translation_df.dropna()"
   ]
  },
  {
   "cell_type": "code",
   "execution_count": 28,
   "metadata": {
    "id": "tvhTY8aGsTnR"
   },
   "outputs": [],
   "source": [
    "# Dropping the duplicates from the dataframe\n",
    "\n",
    "translation_df = translation_df.drop_duplicates()"
   ]
  },
  {
   "cell_type": "code",
   "execution_count": 29,
   "metadata": {
    "colab": {
     "base_uri": "https://localhost:8080/"
    },
    "id": "hoAEngGPs75z",
    "outputId": "1b6de1a5-bac1-488f-f156-624e238644b5"
   },
   "outputs": [
    {
     "data": {
      "text/plain": [
       "(4476311, 2)"
      ]
     },
     "execution_count": 29,
     "metadata": {},
     "output_type": "execute_result"
    }
   ],
   "source": [
    "# Observing shape of the dataframe after dropping null values and duplicates \n",
    "\n",
    "translation_df.shape"
   ]
  },
  {
   "cell_type": "code",
   "execution_count": 30,
   "metadata": {
    "id": "yKB2Hbd3mK-L"
   },
   "outputs": [],
   "source": [
    "# Randomly sample 5% of dataframe\n",
    "\n",
    "translation_df_sample = translation_df.sample(frac = 0.005)"
   ]
  },
  {
   "cell_type": "code",
   "execution_count": 31,
   "metadata": {
    "colab": {
     "base_uri": "https://localhost:8080/"
    },
    "id": "gBdoDgHzmTaE",
    "outputId": "20897964-d232-47a2-f940-7acbfb3fa89f"
   },
   "outputs": [
    {
     "data": {
      "text/plain": [
       "(22382, 2)"
      ]
     },
     "execution_count": 31,
     "metadata": {},
     "output_type": "execute_result"
    }
   ],
   "source": [
    "# Observing the shape of sampled dataframe\n",
    "\n",
    "translation_df_sample.shape"
   ]
  },
  {
   "cell_type": "code",
   "execution_count": 32,
   "metadata": {
    "id": "wPrcdCZo_Lca"
   },
   "outputs": [],
   "source": [
    "# Adding columns in the dataframe which shows the length of each English and German sentence\n",
    "\n",
    "translation_df_sample['eng_length'] = translation_df_sample['English'].str.len()\n",
    "\n",
    "translation_df_sample['ger_length'] = translation_df_sample['German'].str.len()"
   ]
  },
  {
   "cell_type": "code",
   "execution_count": 33,
   "metadata": {
    "colab": {
     "base_uri": "https://localhost:8080/"
    },
    "id": "1ZfgI-mtZy9J",
    "outputId": "4473bd98-b331-4f80-d397-9f1aced149d1"
   },
   "outputs": [
    {
     "name": "stdout",
     "output_type": "stream",
     "text": [
      "<class 'pandas.core.frame.DataFrame'>\n",
      "Int64Index: 22382 entries, 664830 to 1242403\n",
      "Data columns (total 4 columns):\n",
      " #   Column      Non-Null Count  Dtype \n",
      "---  ------      --------------  ----- \n",
      " 0   English     22382 non-null  object\n",
      " 1   German      22382 non-null  object\n",
      " 2   eng_length  22382 non-null  int64 \n",
      " 3   ger_length  22382 non-null  int64 \n",
      "dtypes: int64(2), object(2)\n",
      "memory usage: 874.3+ KB\n"
     ]
    }
   ],
   "source": [
    "# Observing the information of sampled dataframe\n",
    "\n",
    "translation_df_sample.info()"
   ]
  },
  {
   "cell_type": "code",
   "execution_count": 34,
   "metadata": {
    "colab": {
     "base_uri": "https://localhost:8080/",
     "height": 302
    },
    "id": "Bog8yQFTY0tx",
    "outputId": "72d14d1d-59ff-4262-c6c3-b92a05f26ff6"
   },
   "outputs": [
    {
     "data": {
      "text/html": [
       "\n",
       "  <div id=\"df-c986fe3f-94a4-4fb8-bfe3-aaa2f300aa85\">\n",
       "    <div class=\"colab-df-container\">\n",
       "      <div>\n",
       "<style scoped>\n",
       "    .dataframe tbody tr th:only-of-type {\n",
       "        vertical-align: middle;\n",
       "    }\n",
       "\n",
       "    .dataframe tbody tr th {\n",
       "        vertical-align: top;\n",
       "    }\n",
       "\n",
       "    .dataframe thead th {\n",
       "        text-align: right;\n",
       "    }\n",
       "</style>\n",
       "<table border=\"1\" class=\"dataframe\">\n",
       "  <thead>\n",
       "    <tr style=\"text-align: right;\">\n",
       "      <th></th>\n",
       "      <th>English</th>\n",
       "      <th>German</th>\n",
       "      <th>eng_length</th>\n",
       "      <th>ger_length</th>\n",
       "    </tr>\n",
       "  </thead>\n",
       "  <tbody>\n",
       "    <tr>\n",
       "      <th>664830</th>\n",
       "      <td>. The trans-European networks are a very important instrument in creating and developing the infrastructure of the transport, telecommunications and energy sectors in Europe.\\n</td>\n",
       "      <td>. Die transeuropäischen Verkehrsnetze sind ein äußerst wichtiges Instrument für die Entwicklung und den Aufbau der Infrastrukturen in den Bereichen Verkehr, Telekommunikation und Energie in Eur...</td>\n",
       "      <td>178</td>\n",
       "      <td>201</td>\n",
       "    </tr>\n",
       "    <tr>\n",
       "      <th>979036</th>\n",
       "      <td>Amongst other priorities, the human rights violations in Sri Lanka and Kenya should also be addressed in this session.\\n</td>\n",
       "      <td>Unter anderen mit Priorität zu behandelnden Themen sollten auch die Menschenrechtsverletzungen in Sri Lanka und Kenia während dieser Sitzung angesprochen werden.\\n</td>\n",
       "      <td>119</td>\n",
       "      <td>162</td>\n",
       "    </tr>\n",
       "    <tr>\n",
       "      <th>783707</th>\n",
       "      <td>The gender dimension must be also taken into account in the education of and information for nursing staff.\\n</td>\n",
       "      <td>Die Geschlechterdimension muss ebenfalls bei der Ausbildung und Aufklärung des Betreuungspersonals berücksichtigt werden.\\n</td>\n",
       "      <td>108</td>\n",
       "      <td>122</td>\n",
       "    </tr>\n",
       "    <tr>\n",
       "      <th>847689</th>\n",
       "      <td>The hotel restaurant is also large enough to hold 300 guests for a refined meal comprised of the best local, national and international cuisine.\\n</td>\n",
       "      <td>Das hoteleigene Restaurant bietet ausreichend Platz für bis zu 300 Personen. Hier genießen Sie köstliche Speisen der lokalen, nationalen und internationalen Küche.\\n</td>\n",
       "      <td>145</td>\n",
       "      <td>164</td>\n",
       "    </tr>\n",
       "    <tr>\n",
       "      <th>1416063</th>\n",
       "      <td>In the class-room you can see PET / CBM computers and there are C64s in the nuclear power plant.\\n</td>\n",
       "      <td>Im Klassenzimmer stehen PET / CBM Computer und es gibt C64er im Kernkraftwerk.\\n</td>\n",
       "      <td>97</td>\n",
       "      <td>79</td>\n",
       "    </tr>\n",
       "  </tbody>\n",
       "</table>\n",
       "</div>\n",
       "      <button class=\"colab-df-convert\" onclick=\"convertToInteractive('df-c986fe3f-94a4-4fb8-bfe3-aaa2f300aa85')\"\n",
       "              title=\"Convert this dataframe to an interactive table.\"\n",
       "              style=\"display:none;\">\n",
       "        \n",
       "  <svg xmlns=\"http://www.w3.org/2000/svg\" height=\"24px\"viewBox=\"0 0 24 24\"\n",
       "       width=\"24px\">\n",
       "    <path d=\"M0 0h24v24H0V0z\" fill=\"none\"/>\n",
       "    <path d=\"M18.56 5.44l.94 2.06.94-2.06 2.06-.94-2.06-.94-.94-2.06-.94 2.06-2.06.94zm-11 1L8.5 8.5l.94-2.06 2.06-.94-2.06-.94L8.5 2.5l-.94 2.06-2.06.94zm10 10l.94 2.06.94-2.06 2.06-.94-2.06-.94-.94-2.06-.94 2.06-2.06.94z\"/><path d=\"M17.41 7.96l-1.37-1.37c-.4-.4-.92-.59-1.43-.59-.52 0-1.04.2-1.43.59L10.3 9.45l-7.72 7.72c-.78.78-.78 2.05 0 2.83L4 21.41c.39.39.9.59 1.41.59.51 0 1.02-.2 1.41-.59l7.78-7.78 2.81-2.81c.8-.78.8-2.07 0-2.86zM5.41 20L4 18.59l7.72-7.72 1.47 1.35L5.41 20z\"/>\n",
       "  </svg>\n",
       "      </button>\n",
       "      \n",
       "  <style>\n",
       "    .colab-df-container {\n",
       "      display:flex;\n",
       "      flex-wrap:wrap;\n",
       "      gap: 12px;\n",
       "    }\n",
       "\n",
       "    .colab-df-convert {\n",
       "      background-color: #E8F0FE;\n",
       "      border: none;\n",
       "      border-radius: 50%;\n",
       "      cursor: pointer;\n",
       "      display: none;\n",
       "      fill: #1967D2;\n",
       "      height: 32px;\n",
       "      padding: 0 0 0 0;\n",
       "      width: 32px;\n",
       "    }\n",
       "\n",
       "    .colab-df-convert:hover {\n",
       "      background-color: #E2EBFA;\n",
       "      box-shadow: 0px 1px 2px rgba(60, 64, 67, 0.3), 0px 1px 3px 1px rgba(60, 64, 67, 0.15);\n",
       "      fill: #174EA6;\n",
       "    }\n",
       "\n",
       "    [theme=dark] .colab-df-convert {\n",
       "      background-color: #3B4455;\n",
       "      fill: #D2E3FC;\n",
       "    }\n",
       "\n",
       "    [theme=dark] .colab-df-convert:hover {\n",
       "      background-color: #434B5C;\n",
       "      box-shadow: 0px 1px 3px 1px rgba(0, 0, 0, 0.15);\n",
       "      filter: drop-shadow(0px 1px 2px rgba(0, 0, 0, 0.3));\n",
       "      fill: #FFFFFF;\n",
       "    }\n",
       "  </style>\n",
       "\n",
       "      <script>\n",
       "        const buttonEl =\n",
       "          document.querySelector('#df-c986fe3f-94a4-4fb8-bfe3-aaa2f300aa85 button.colab-df-convert');\n",
       "        buttonEl.style.display =\n",
       "          google.colab.kernel.accessAllowed ? 'block' : 'none';\n",
       "\n",
       "        async function convertToInteractive(key) {\n",
       "          const element = document.querySelector('#df-c986fe3f-94a4-4fb8-bfe3-aaa2f300aa85');\n",
       "          const dataTable =\n",
       "            await google.colab.kernel.invokeFunction('convertToInteractive',\n",
       "                                                     [key], {});\n",
       "          if (!dataTable) return;\n",
       "\n",
       "          const docLinkHtml = 'Like what you see? Visit the ' +\n",
       "            '<a target=\"_blank\" href=https://colab.research.google.com/notebooks/data_table.ipynb>data table notebook</a>'\n",
       "            + ' to learn more about interactive tables.';\n",
       "          element.innerHTML = '';\n",
       "          dataTable['output_type'] = 'display_data';\n",
       "          await google.colab.output.renderOutput(dataTable, element);\n",
       "          const docLink = document.createElement('div');\n",
       "          docLink.innerHTML = docLinkHtml;\n",
       "          element.appendChild(docLink);\n",
       "        }\n",
       "      </script>\n",
       "    </div>\n",
       "  </div>\n",
       "  "
      ],
      "text/plain": [
       "                                                                                                                                                                                     English  \\\n",
       "664830      . The trans-European networks are a very important instrument in creating and developing the infrastructure of the transport, telecommunications and energy sectors in Europe.\\n   \n",
       "979036                                                              Amongst other priorities, the human rights violations in Sri Lanka and Kenya should also be addressed in this session.\\n   \n",
       "783707                                                                         The gender dimension must be also taken into account in the education of and information for nursing staff.\\n   \n",
       "847689                                    The hotel restaurant is also large enough to hold 300 guests for a refined meal comprised of the best local, national and international cuisine.\\n   \n",
       "1416063                                                                                   In the class-room you can see PET / CBM computers and there are C64s in the nuclear power plant.\\n   \n",
       "\n",
       "                                                                                                                                                                                                          German  \\\n",
       "664830      . Die transeuropäischen Verkehrsnetze sind ein äußerst wichtiges Instrument für die Entwicklung und den Aufbau der Infrastrukturen in den Bereichen Verkehr, Telekommunikation und Energie in Eur...   \n",
       "979036                                       Unter anderen mit Priorität zu behandelnden Themen sollten auch die Menschenrechtsverletzungen in Sri Lanka und Kenia während dieser Sitzung angesprochen werden.\\n   \n",
       "783707                                                                               Die Geschlechterdimension muss ebenfalls bei der Ausbildung und Aufklärung des Betreuungspersonals berücksichtigt werden.\\n   \n",
       "847689                                     Das hoteleigene Restaurant bietet ausreichend Platz für bis zu 300 Personen. Hier genießen Sie köstliche Speisen der lokalen, nationalen und internationalen Küche.\\n   \n",
       "1416063                                                                                                                         Im Klassenzimmer stehen PET / CBM Computer und es gibt C64er im Kernkraftwerk.\\n   \n",
       "\n",
       "         eng_length  ger_length  \n",
       "664830          178         201  \n",
       "979036          119         162  \n",
       "783707          108         122  \n",
       "847689          145         164  \n",
       "1416063          97          79  "
      ]
     },
     "execution_count": 34,
     "metadata": {},
     "output_type": "execute_result"
    }
   ],
   "source": [
    "# Observing top 5 entries of the sampled dataframe\n",
    "\n",
    "translation_df_sample.head(5)"
   ]
  },
  {
   "cell_type": "code",
   "execution_count": 35,
   "metadata": {
    "id": "QXI1M_jF0LnF"
   },
   "outputs": [],
   "source": [
    "# Function to pre_process data\n",
    "\n",
    "def process_data(df):\n",
    "\n",
    "    transformed_df = df\n",
    "\n",
    "    transformed_df['English'] = transformed_df['English'].str.lower()\n",
    "    transformed_df['German'] = transformed_df['German'].str.lower()\n",
    "\n",
    "    transformed_df = transformed_df.astype(str).applymap(lambda x: str(x.replace('\\n','')))\n",
    "\n",
    "    transformed_df['German'] = transformed_df['German'].str.strip()\n",
    "    transformed_df['English'] = transformed_df['English'].str.strip()\n",
    "\n",
    "    string_punctuation = string.punctuation + \"¡\" + '¿'\n",
    "    transformed_df['English'] = transformed_df['English'].map(lambda x: x.translate(str.maketrans('', '', string.punctuation)))\n",
    "    transformed_df['German'] = transformed_df['German'].map(lambda x: x.translate(str.maketrans('', '', string.punctuation)))\n",
    "\n",
    "    transformed_df = transformed_df.replace('', np.nan)\n",
    "    transformed_df = transformed_df.dropna()\n",
    "\n",
    "    transformed_df['English'] = transformed_df['English'].transform(lambda x : 'START_ '+ x + ' _END')\n",
    "    transformed_df['German'] = transformed_df['German'].transform(lambda x : 'START_ '+ x + ' _END')\n",
    "\n",
    "    return transformed_df"
   ]
  },
  {
   "cell_type": "code",
   "execution_count": 36,
   "metadata": {
    "id": "Nlj6wMlbz8VG"
   },
   "outputs": [],
   "source": [
    "# Calling process_data function on the sampled dataframe\n",
    "\n",
    "translation_df_transformed = process_data(translation_df_sample)"
   ]
  },
  {
   "cell_type": "code",
   "execution_count": 37,
   "metadata": {
    "colab": {
     "base_uri": "https://localhost:8080/",
     "height": 320
    },
    "id": "ZlCwcXefUX4e",
    "outputId": "b28e2f7b-a4d3-4913-b0a3-ed81253d6b16"
   },
   "outputs": [
    {
     "data": {
      "text/html": [
       "\n",
       "  <div id=\"df-9a3967f8-e4d8-4a10-bb3e-1b1413fb45bd\">\n",
       "    <div class=\"colab-df-container\">\n",
       "      <div>\n",
       "<style scoped>\n",
       "    .dataframe tbody tr th:only-of-type {\n",
       "        vertical-align: middle;\n",
       "    }\n",
       "\n",
       "    .dataframe tbody tr th {\n",
       "        vertical-align: top;\n",
       "    }\n",
       "\n",
       "    .dataframe thead th {\n",
       "        text-align: right;\n",
       "    }\n",
       "</style>\n",
       "<table border=\"1\" class=\"dataframe\">\n",
       "  <thead>\n",
       "    <tr style=\"text-align: right;\">\n",
       "      <th></th>\n",
       "      <th>English</th>\n",
       "      <th>German</th>\n",
       "      <th>eng_length</th>\n",
       "      <th>ger_length</th>\n",
       "    </tr>\n",
       "  </thead>\n",
       "  <tbody>\n",
       "    <tr>\n",
       "      <th>664830</th>\n",
       "      <td>START_  the transeuropean networks are a very important instrument in creating and developing the infrastructure of the transport telecommunications and energy sectors in europe _END</td>\n",
       "      <td>START_  die transeuropäischen verkehrsnetze sind ein äußerst wichtiges instrument für die entwicklung und den aufbau der infrastrukturen in den bereichen verkehr telekommunikation und energie in e...</td>\n",
       "      <td>178</td>\n",
       "      <td>201</td>\n",
       "    </tr>\n",
       "    <tr>\n",
       "      <th>979036</th>\n",
       "      <td>START_ amongst other priorities the human rights violations in sri lanka and kenya should also be addressed in this session _END</td>\n",
       "      <td>START_ unter anderen mit priorität zu behandelnden themen sollten auch die menschenrechtsverletzungen in sri lanka und kenia während dieser sitzung angesprochen werden _END</td>\n",
       "      <td>119</td>\n",
       "      <td>162</td>\n",
       "    </tr>\n",
       "    <tr>\n",
       "      <th>783707</th>\n",
       "      <td>START_ the gender dimension must be also taken into account in the education of and information for nursing staff _END</td>\n",
       "      <td>START_ die geschlechterdimension muss ebenfalls bei der ausbildung und aufklärung des betreuungspersonals berücksichtigt werden _END</td>\n",
       "      <td>108</td>\n",
       "      <td>122</td>\n",
       "    </tr>\n",
       "    <tr>\n",
       "      <th>847689</th>\n",
       "      <td>START_ the hotel restaurant is also large enough to hold 300 guests for a refined meal comprised of the best local national and international cuisine _END</td>\n",
       "      <td>START_ das hoteleigene restaurant bietet ausreichend platz für bis zu 300 personen hier genießen sie köstliche speisen der lokalen nationalen und internationalen küche _END</td>\n",
       "      <td>145</td>\n",
       "      <td>164</td>\n",
       "    </tr>\n",
       "    <tr>\n",
       "      <th>1416063</th>\n",
       "      <td>START_ in the classroom you can see pet  cbm computers and there are c64s in the nuclear power plant _END</td>\n",
       "      <td>START_ im klassenzimmer stehen pet  cbm computer und es gibt c64er im kernkraftwerk _END</td>\n",
       "      <td>97</td>\n",
       "      <td>79</td>\n",
       "    </tr>\n",
       "  </tbody>\n",
       "</table>\n",
       "</div>\n",
       "      <button class=\"colab-df-convert\" onclick=\"convertToInteractive('df-9a3967f8-e4d8-4a10-bb3e-1b1413fb45bd')\"\n",
       "              title=\"Convert this dataframe to an interactive table.\"\n",
       "              style=\"display:none;\">\n",
       "        \n",
       "  <svg xmlns=\"http://www.w3.org/2000/svg\" height=\"24px\"viewBox=\"0 0 24 24\"\n",
       "       width=\"24px\">\n",
       "    <path d=\"M0 0h24v24H0V0z\" fill=\"none\"/>\n",
       "    <path d=\"M18.56 5.44l.94 2.06.94-2.06 2.06-.94-2.06-.94-.94-2.06-.94 2.06-2.06.94zm-11 1L8.5 8.5l.94-2.06 2.06-.94-2.06-.94L8.5 2.5l-.94 2.06-2.06.94zm10 10l.94 2.06.94-2.06 2.06-.94-2.06-.94-.94-2.06-.94 2.06-2.06.94z\"/><path d=\"M17.41 7.96l-1.37-1.37c-.4-.4-.92-.59-1.43-.59-.52 0-1.04.2-1.43.59L10.3 9.45l-7.72 7.72c-.78.78-.78 2.05 0 2.83L4 21.41c.39.39.9.59 1.41.59.51 0 1.02-.2 1.41-.59l7.78-7.78 2.81-2.81c.8-.78.8-2.07 0-2.86zM5.41 20L4 18.59l7.72-7.72 1.47 1.35L5.41 20z\"/>\n",
       "  </svg>\n",
       "      </button>\n",
       "      \n",
       "  <style>\n",
       "    .colab-df-container {\n",
       "      display:flex;\n",
       "      flex-wrap:wrap;\n",
       "      gap: 12px;\n",
       "    }\n",
       "\n",
       "    .colab-df-convert {\n",
       "      background-color: #E8F0FE;\n",
       "      border: none;\n",
       "      border-radius: 50%;\n",
       "      cursor: pointer;\n",
       "      display: none;\n",
       "      fill: #1967D2;\n",
       "      height: 32px;\n",
       "      padding: 0 0 0 0;\n",
       "      width: 32px;\n",
       "    }\n",
       "\n",
       "    .colab-df-convert:hover {\n",
       "      background-color: #E2EBFA;\n",
       "      box-shadow: 0px 1px 2px rgba(60, 64, 67, 0.3), 0px 1px 3px 1px rgba(60, 64, 67, 0.15);\n",
       "      fill: #174EA6;\n",
       "    }\n",
       "\n",
       "    [theme=dark] .colab-df-convert {\n",
       "      background-color: #3B4455;\n",
       "      fill: #D2E3FC;\n",
       "    }\n",
       "\n",
       "    [theme=dark] .colab-df-convert:hover {\n",
       "      background-color: #434B5C;\n",
       "      box-shadow: 0px 1px 3px 1px rgba(0, 0, 0, 0.15);\n",
       "      filter: drop-shadow(0px 1px 2px rgba(0, 0, 0, 0.3));\n",
       "      fill: #FFFFFF;\n",
       "    }\n",
       "  </style>\n",
       "\n",
       "      <script>\n",
       "        const buttonEl =\n",
       "          document.querySelector('#df-9a3967f8-e4d8-4a10-bb3e-1b1413fb45bd button.colab-df-convert');\n",
       "        buttonEl.style.display =\n",
       "          google.colab.kernel.accessAllowed ? 'block' : 'none';\n",
       "\n",
       "        async function convertToInteractive(key) {\n",
       "          const element = document.querySelector('#df-9a3967f8-e4d8-4a10-bb3e-1b1413fb45bd');\n",
       "          const dataTable =\n",
       "            await google.colab.kernel.invokeFunction('convertToInteractive',\n",
       "                                                     [key], {});\n",
       "          if (!dataTable) return;\n",
       "\n",
       "          const docLinkHtml = 'Like what you see? Visit the ' +\n",
       "            '<a target=\"_blank\" href=https://colab.research.google.com/notebooks/data_table.ipynb>data table notebook</a>'\n",
       "            + ' to learn more about interactive tables.';\n",
       "          element.innerHTML = '';\n",
       "          dataTable['output_type'] = 'display_data';\n",
       "          await google.colab.output.renderOutput(dataTable, element);\n",
       "          const docLink = document.createElement('div');\n",
       "          docLink.innerHTML = docLinkHtml;\n",
       "          element.appendChild(docLink);\n",
       "        }\n",
       "      </script>\n",
       "    </div>\n",
       "  </div>\n",
       "  "
      ],
      "text/plain": [
       "                                                                                                                                                                                        English  \\\n",
       "664830   START_  the transeuropean networks are a very important instrument in creating and developing the infrastructure of the transport telecommunications and energy sectors in europe _END   \n",
       "979036                                                         START_ amongst other priorities the human rights violations in sri lanka and kenya should also be addressed in this session _END   \n",
       "783707                                                                   START_ the gender dimension must be also taken into account in the education of and information for nursing staff _END   \n",
       "847689                               START_ the hotel restaurant is also large enough to hold 300 guests for a refined meal comprised of the best local national and international cuisine _END   \n",
       "1416063                                                                               START_ in the classroom you can see pet  cbm computers and there are c64s in the nuclear power plant _END   \n",
       "\n",
       "                                                                                                                                                                                                          German  \\\n",
       "664830   START_  die transeuropäischen verkehrsnetze sind ein äußerst wichtiges instrument für die entwicklung und den aufbau der infrastrukturen in den bereichen verkehr telekommunikation und energie in e...   \n",
       "979036                              START_ unter anderen mit priorität zu behandelnden themen sollten auch die menschenrechtsverletzungen in sri lanka und kenia während dieser sitzung angesprochen werden _END   \n",
       "783707                                                                      START_ die geschlechterdimension muss ebenfalls bei der ausbildung und aufklärung des betreuungspersonals berücksichtigt werden _END   \n",
       "847689                              START_ das hoteleigene restaurant bietet ausreichend platz für bis zu 300 personen hier genießen sie köstliche speisen der lokalen nationalen und internationalen küche _END   \n",
       "1416063                                                                                                                 START_ im klassenzimmer stehen pet  cbm computer und es gibt c64er im kernkraftwerk _END   \n",
       "\n",
       "        eng_length ger_length  \n",
       "664830         178        201  \n",
       "979036         119        162  \n",
       "783707         108        122  \n",
       "847689         145        164  \n",
       "1416063         97         79  "
      ]
     },
     "execution_count": 37,
     "metadata": {},
     "output_type": "execute_result"
    }
   ],
   "source": [
    "# Observing top 5 entries of the processed dataframe\n",
    "\n",
    "translation_df_transformed.head(5)"
   ]
  },
  {
   "cell_type": "markdown",
   "metadata": {
    "id": "5DmThxDkK1aD"
   },
   "source": [
    "**Pre Processing - Dataset suitable to be used for AIML model learning**"
   ]
  },
  {
   "cell_type": "code",
   "execution_count": 38,
   "metadata": {
    "id": "a1YvxWww9zyS"
   },
   "outputs": [],
   "source": [
    "# Function to generate word tokens\n",
    "\n",
    "def tokenize(sentences):\n",
    "    # Create tokenizer\n",
    "    text_tokenizer = Tokenizer()\n",
    "\n",
    "    # Fit texts\n",
    "    text_tokenizer.fit_on_texts(sentences)\n",
    "    return text_tokenizer.texts_to_sequences(sentences), text_tokenizer"
   ]
  },
  {
   "cell_type": "code",
   "execution_count": 39,
   "metadata": {
    "id": "tOtmA5Tnhvi6"
   },
   "outputs": [],
   "source": [
    "# Generate word index\n",
    "\n",
    "eng_tokenized, eng_tokenizer = tokenize(translation_df_transformed['English'])\n",
    "ger_tokenized, ger_tokenizer = tokenize(translation_df_transformed['German'])\n",
    "\n",
    "eng_word_index = eng_tokenizer.word_index\n",
    "ger_word_index = ger_tokenizer.word_index"
   ]
  },
  {
   "cell_type": "code",
   "execution_count": 40,
   "metadata": {
    "colab": {
     "base_uri": "https://localhost:8080/"
    },
    "id": "kbRTs3AgiO0F",
    "outputId": "1f7d9717-f176-4aad-e59d-76b92067179f"
   },
   "outputs": [
    {
     "name": "stdout",
     "output_type": "stream",
     "text": [
      "English vocabulary is of 38664 unique words\n",
      "german vocabulary is of 63178 unique words\n"
     ]
    }
   ],
   "source": [
    "# Finding the vocabulary size with number of unique tokens\n",
    "\n",
    "english_vocab = len(eng_tokenizer.word_index) + 1\n",
    "german_vocab = len(ger_tokenizer.word_index) + 1\n",
    "\n",
    "print(\"English vocabulary is of {} unique words\".format(english_vocab))\n",
    "print(\"german vocabulary is of {} unique words\".format(german_vocab))"
   ]
  },
  {
   "cell_type": "code",
   "execution_count": 41,
   "metadata": {
    "colab": {
     "base_uri": "https://localhost:8080/"
    },
    "id": "qcHxBGBW9hwS",
    "outputId": "f242adfa-5047-4354-dfe2-48c9cc49a75f"
   },
   "outputs": [
    {
     "name": "stdout",
     "output_type": "stream",
     "text": [
      "Maximum Length of English tokens is 227\n",
      "Maximum Length of German tokens is 234\n"
     ]
    }
   ],
   "source": [
    "# Define the parameters\n",
    "\n",
    "maxlen_eng = int(len(max(eng_tokenized, key=len)))\n",
    "maxlen_ger = int(len(max(ger_tokenized, key=len)))\n",
    "\n",
    "print(\"Maximum Length of English tokens is {}\".format(maxlen_eng))\n",
    "print(\"Maximum Length of German tokens is {}\".format(maxlen_ger))"
   ]
  },
  {
   "cell_type": "code",
   "execution_count": 42,
   "metadata": {
    "colab": {
     "base_uri": "https://localhost:8080/"
    },
    "id": "IbNFo9ihmwwV",
    "outputId": "350c4b5f-e7d6-4552-baef-a054e1642a43"
   },
   "outputs": [
    {
     "name": "stdout",
     "output_type": "stream",
     "text": [
      "Number of English Samples are {}: 22335\n",
      "Number of German Samples are {}: 22335\n"
     ]
    }
   ],
   "source": [
    "# Generate token sequence\n",
    "\n",
    "eng_pad_sentence = pad_sequences(eng_tokenized, maxlen_eng, padding = \"post\")\n",
    "ger_pad_sentence = pad_sequences(ger_tokenized, maxlen_ger, padding = \"post\")\n",
    "\n",
    "print('Number of English Samples are {}:', len(eng_pad_sentence))\n",
    "print('Number of German Samples are {}:', len(ger_pad_sentence))"
   ]
  },
  {
   "cell_type": "markdown",
   "metadata": {
    "id": "1qBCokBuKIS5"
   },
   "source": [
    "**Model Design**"
   ]
  },
  {
   "cell_type": "code",
   "execution_count": 43,
   "metadata": {
    "colab": {
     "base_uri": "https://localhost:8080/"
    },
    "id": "kmox65vXoWQs",
    "outputId": "8137405b-640f-4cc2-f12a-ad1e584d5d5a"
   },
   "outputs": [
    {
     "name": "stdout",
     "output_type": "stream",
     "text": [
      "(16751, 227)\n",
      "(5584, 227)\n",
      "(16751, 234)\n",
      "(5584, 234)\n"
     ]
    }
   ],
   "source": [
    "# Creating the tarin and test datasets using train_test_split\n",
    "\n",
    "from sklearn.model_selection import train_test_split\n",
    "\n",
    "X_train, X_test, Y_train, Y_test = train_test_split(eng_pad_sentence,ger_pad_sentence,test_size=0.25,shuffle=True,random_state=101)\n",
    "\n",
    "print(X_train.shape)\n",
    "print(X_test.shape)\n",
    "print(Y_train.shape)\n",
    "print(Y_test.shape)"
   ]
  },
  {
   "cell_type": "code",
   "execution_count": 44,
   "metadata": {
    "id": "B96pCMwYof7M"
   },
   "outputs": [],
   "source": [
    "# Designing the basic LSTM model\n",
    "\n",
    "model_translate_lstm = Sequential()\n",
    "\n",
    "model_translate_lstm.add(Embedding(input_dim = english_vocab, output_dim = 128, input_length = maxlen_eng, trainable = False))\n",
    "\n",
    "model_translate_lstm.add(LSTM(64, return_sequences=False))\n",
    "\n",
    "model_translate_lstm.add(RepeatVector(maxlen_ger))\n",
    "\n",
    "model_translate_lstm.add(LSTM(64, return_sequences=True, dropout=0.2))\n",
    "\n",
    "model_translate_lstm.add(TimeDistributed(Dense(1000)))\n",
    "\n",
    "model_translate_lstm.add(Dense(1000,activation = 'softmax'))"
   ]
  },
  {
   "cell_type": "code",
   "execution_count": 45,
   "metadata": {
    "id": "W20bi7UBpl7e"
   },
   "outputs": [],
   "source": [
    "# Compiling the model\n",
    "\n",
    "model_translate_lstm.compile(loss=sparse_categorical_crossentropy, optimizer=Adam(1e-3), metrics=['accuracy'])"
   ]
  },
  {
   "cell_type": "code",
   "execution_count": 46,
   "metadata": {
    "colab": {
     "base_uri": "https://localhost:8080/",
     "height": 1000
    },
    "id": "1sgNxtZrp7QM",
    "outputId": "811f0db9-7ffd-423d-e40d-3d40f9bdf9ac"
   },
   "outputs": [
    {
     "name": "stdout",
     "output_type": "stream",
     "text": [
      "Model: \"sequential\"\n",
      "_________________________________________________________________\n",
      " Layer (type)                Output Shape              Param #   \n",
      "=================================================================\n",
      " embedding (Embedding)       (None, 227, 128)          4948992   \n",
      "                                                                 \n",
      " lstm (LSTM)                 (None, 64)                49408     \n",
      "                                                                 \n",
      " repeat_vector (RepeatVector  (None, 234, 64)          0         \n",
      " )                                                               \n",
      "                                                                 \n",
      " lstm_1 (LSTM)               (None, 234, 64)           33024     \n",
      "                                                                 \n",
      " time_distributed (TimeDistr  (None, 234, 1000)        65000     \n",
      " ibuted)                                                         \n",
      "                                                                 \n",
      " dense_1 (Dense)             (None, 234, 1000)         1001000   \n",
      "                                                                 \n",
      "=================================================================\n",
      "Total params: 6,097,424\n",
      "Trainable params: 1,148,432\n",
      "Non-trainable params: 4,948,992\n",
      "_________________________________________________________________\n"
     ]
    },
    {
     "data": {
      "image/png": "[encoded data removed]",
      "text/plain": [
       "<IPython.core.display.Image object>"
      ]
     },
     "execution_count": 46,
     "metadata": {},
     "output_type": "execute_result"
    }
   ],
   "source": [
    "# Observing the model summary\n",
    "\n",
    "model_translate_lstm.summary()\n",
    "\n",
    "plot_model(model_translate_lstm, to_file='model.png', show_shapes=True)"
   ]
  },
  {
   "cell_type": "code",
   "execution_count": 47,
   "metadata": {
    "id": "MwBcBnUpBMEN"
   },
   "outputs": [],
   "source": [
    "# Creating the callbacks\n",
    "\n",
    "from tensorflow.keras.callbacks import EarlyStopping, ReduceLROnPlateau, ModelCheckpoint\n",
    "\n",
    "es = EarlyStopping(monitor='val_accuracy',mode='max',verbose=1,patience=40)\n",
    "rl = ReduceLROnPlateau(monitor='val_accuracy',mode='max',verbose=1,patience=5,factor=0.1,min_lr=0.001)\n",
    "mc = ModelCheckpoint('checkpoint/',monitor='val_accuracy',verbose=1,mode='max',save_best_only=True)"
   ]
  },
  {
   "cell_type": "code",
   "execution_count": 48,
   "metadata": {
    "colab": {
     "base_uri": "https://localhost:8080/"
    },
    "id": "BRoVcE4F-NuM",
    "outputId": "efda54a2-ce91-44b7-fae1-63d32feadf88"
   },
   "outputs": [
    {
     "name": "stdout",
     "output_type": "stream",
     "text": [
      "Epoch 1/30\n",
      "92/92 [==============================] - ETA: 0s - loss: nan - accuracy: 0.8910\n",
      "Epoch 1: val_accuracy improved from -inf to 0.90107, saving model to checkpoint/\n"
     ]
    },
    {
     "name": "stderr",
     "output_type": "stream",
     "text": [
      "WARNING:absl:Found untraced functions such as lstm_cell_layer_call_fn, lstm_cell_layer_call_and_return_conditional_losses, lstm_cell_1_layer_call_fn, lstm_cell_1_layer_call_and_return_conditional_losses while saving (showing 4 of 4). These functions will not be directly callable after loading.\n"
     ]
    },
    {
     "name": "stdout",
     "output_type": "stream",
     "text": [
      "\b\b\b\b\b\b\b\b\b\b\b\b\b\b\b\b\b\b\b\b\b\b\b\b\b\b\b\b\b\b\b\b\b\b\b\b\b\b\b\b\b\b\b\b\b\b\b\b\b\b\b\b\b\b\b\b\b\b\b\b\b\b\b\b\b\b\b\b\b\b\b\b\b\b\b\b\b\b\b\r",
      "92/92 [==============================] - 24s 183ms/step - loss: nan - accuracy: 0.8910 - val_loss: nan - val_accuracy: 0.9011 - lr: 0.0010\n",
      "Epoch 2/30\n",
      "91/92 [============================>.] - ETA: 0s - loss: nan - accuracy: 0.9008\n",
      "Epoch 2: val_accuracy did not improve from 0.90107\n",
      "92/92 [==============================] - 8s 84ms/step - loss: nan - accuracy: 0.9009 - val_loss: nan - val_accuracy: 0.9011 - lr: 0.0010\n",
      "Epoch 3/30\n",
      "91/92 [============================>.] - ETA: 0s - loss: nan - accuracy: 0.9009\n",
      "Epoch 3: val_accuracy did not improve from 0.90107\n",
      "92/92 [==============================] - 8s 84ms/step - loss: nan - accuracy: 0.9009 - val_loss: nan - val_accuracy: 0.9011 - lr: 0.0010\n",
      "Epoch 4/30\n",
      "91/92 [============================>.] - ETA: 0s - loss: nan - accuracy: 0.9008\n",
      "Epoch 4: val_accuracy did not improve from 0.90107\n",
      "92/92 [==============================] - 8s 85ms/step - loss: nan - accuracy: 0.9009 - val_loss: nan - val_accuracy: 0.9011 - lr: 0.0010\n",
      "Epoch 5/30\n",
      "91/92 [============================>.] - ETA: 0s - loss: nan - accuracy: 0.9008\n",
      "Epoch 5: val_accuracy did not improve from 0.90107\n",
      "92/92 [==============================] - 8s 85ms/step - loss: nan - accuracy: 0.9009 - val_loss: nan - val_accuracy: 0.9011 - lr: 0.0010\n",
      "Epoch 6/30\n",
      "91/92 [============================>.] - ETA: 0s - loss: nan - accuracy: 0.9009\n",
      "Epoch 6: val_accuracy did not improve from 0.90107\n",
      "92/92 [==============================] - 8s 84ms/step - loss: nan - accuracy: 0.9009 - val_loss: nan - val_accuracy: 0.9011 - lr: 0.0010\n",
      "Epoch 7/30\n",
      "91/92 [============================>.] - ETA: 0s - loss: nan - accuracy: 0.9009\n",
      "Epoch 7: val_accuracy did not improve from 0.90107\n",
      "92/92 [==============================] - 8s 84ms/step - loss: nan - accuracy: 0.9009 - val_loss: nan - val_accuracy: 0.9011 - lr: 0.0010\n",
      "Epoch 8/30\n",
      "91/92 [============================>.] - ETA: 0s - loss: nan - accuracy: 0.9008\n",
      "Epoch 8: val_accuracy did not improve from 0.90107\n",
      "92/92 [==============================] - 8s 84ms/step - loss: nan - accuracy: 0.9009 - val_loss: nan - val_accuracy: 0.9011 - lr: 0.0010\n",
      "Epoch 9/30\n",
      "91/92 [============================>.] - ETA: 0s - loss: nan - accuracy: 0.9009\n",
      "Epoch 9: val_accuracy did not improve from 0.90107\n",
      "92/92 [==============================] - 8s 83ms/step - loss: nan - accuracy: 0.9009 - val_loss: nan - val_accuracy: 0.9011 - lr: 0.0010\n",
      "Epoch 10/30\n",
      "91/92 [============================>.] - ETA: 0s - loss: nan - accuracy: 0.9009\n",
      "Epoch 10: val_accuracy did not improve from 0.90107\n",
      "92/92 [==============================] - 8s 84ms/step - loss: nan - accuracy: 0.9009 - val_loss: nan - val_accuracy: 0.9011 - lr: 0.0010\n",
      "Epoch 11/30\n",
      "91/92 [============================>.] - ETA: 0s - loss: nan - accuracy: 0.9009\n",
      "Epoch 11: val_accuracy did not improve from 0.90107\n",
      "92/92 [==============================] - 8s 83ms/step - loss: nan - accuracy: 0.9009 - val_loss: nan - val_accuracy: 0.9011 - lr: 0.0010\n",
      "Epoch 12/30\n",
      "91/92 [============================>.] - ETA: 0s - loss: nan - accuracy: 0.9009\n",
      "Epoch 12: val_accuracy did not improve from 0.90107\n",
      "92/92 [==============================] - 8s 84ms/step - loss: nan - accuracy: 0.9009 - val_loss: nan - val_accuracy: 0.9011 - lr: 0.0010\n",
      "Epoch 13/30\n",
      "92/92 [==============================] - ETA: 0s - loss: nan - accuracy: 0.9009\n",
      "Epoch 13: val_accuracy did not improve from 0.90107\n",
      "92/92 [==============================] - 8s 84ms/step - loss: nan - accuracy: 0.9009 - val_loss: nan - val_accuracy: 0.9011 - lr: 0.0010\n",
      "Epoch 14/30\n",
      "91/92 [============================>.] - ETA: 0s - loss: nan - accuracy: 0.9009\n",
      "Epoch 14: val_accuracy did not improve from 0.90107\n",
      "92/92 [==============================] - 8s 83ms/step - loss: nan - accuracy: 0.9009 - val_loss: nan - val_accuracy: 0.9011 - lr: 0.0010\n",
      "Epoch 15/30\n",
      "91/92 [============================>.] - ETA: 0s - loss: nan - accuracy: 0.9009\n",
      "Epoch 15: val_accuracy did not improve from 0.90107\n",
      "92/92 [==============================] - 8s 84ms/step - loss: nan - accuracy: 0.9009 - val_loss: nan - val_accuracy: 0.9011 - lr: 0.0010\n",
      "Epoch 16/30\n",
      "91/92 [============================>.] - ETA: 0s - loss: nan - accuracy: 0.9009\n",
      "Epoch 16: val_accuracy did not improve from 0.90107\n",
      "92/92 [==============================] - 8s 84ms/step - loss: nan - accuracy: 0.9009 - val_loss: nan - val_accuracy: 0.9011 - lr: 0.0010\n",
      "Epoch 17/30\n",
      "91/92 [============================>.] - ETA: 0s - loss: nan - accuracy: 0.9008\n",
      "Epoch 17: val_accuracy did not improve from 0.90107\n",
      "92/92 [==============================] - 8s 84ms/step - loss: nan - accuracy: 0.9009 - val_loss: nan - val_accuracy: 0.9011 - lr: 0.0010\n",
      "Epoch 18/30\n",
      "91/92 [============================>.] - ETA: 0s - loss: nan - accuracy: 0.9008\n",
      "Epoch 18: val_accuracy did not improve from 0.90107\n",
      "92/92 [==============================] - 8s 84ms/step - loss: nan - accuracy: 0.9009 - val_loss: nan - val_accuracy: 0.9011 - lr: 0.0010\n",
      "Epoch 19/30\n",
      "91/92 [============================>.] - ETA: 0s - loss: nan - accuracy: 0.9008\n",
      "Epoch 19: val_accuracy did not improve from 0.90107\n",
      "92/92 [==============================] - 8s 84ms/step - loss: nan - accuracy: 0.9009 - val_loss: nan - val_accuracy: 0.9011 - lr: 0.0010\n",
      "Epoch 20/30\n",
      "91/92 [============================>.] - ETA: 0s - loss: nan - accuracy: 0.9009\n",
      "Epoch 20: val_accuracy did not improve from 0.90107\n",
      "92/92 [==============================] - 8s 85ms/step - loss: nan - accuracy: 0.9009 - val_loss: nan - val_accuracy: 0.9011 - lr: 0.0010\n",
      "Epoch 21/30\n",
      "92/92 [==============================] - ETA: 0s - loss: nan - accuracy: 0.9009\n",
      "Epoch 21: val_accuracy did not improve from 0.90107\n",
      "92/92 [==============================] - 8s 85ms/step - loss: nan - accuracy: 0.9009 - val_loss: nan - val_accuracy: 0.9011 - lr: 0.0010\n",
      "Epoch 22/30\n",
      "91/92 [============================>.] - ETA: 0s - loss: nan - accuracy: 0.9008\n",
      "Epoch 22: val_accuracy did not improve from 0.90107\n",
      "92/92 [==============================] - 8s 84ms/step - loss: nan - accuracy: 0.9009 - val_loss: nan - val_accuracy: 0.9011 - lr: 0.0010\n",
      "Epoch 23/30\n",
      "91/92 [============================>.] - ETA: 0s - loss: nan - accuracy: 0.9009\n",
      "Epoch 23: val_accuracy did not improve from 0.90107\n",
      "92/92 [==============================] - 8s 84ms/step - loss: nan - accuracy: 0.9009 - val_loss: nan - val_accuracy: 0.9011 - lr: 0.0010\n",
      "Epoch 24/30\n",
      "91/92 [============================>.] - ETA: 0s - loss: nan - accuracy: 0.9009\n",
      "Epoch 24: val_accuracy did not improve from 0.90107\n",
      "92/92 [==============================] - 8s 84ms/step - loss: nan - accuracy: 0.9009 - val_loss: nan - val_accuracy: 0.9011 - lr: 0.0010\n",
      "Epoch 25/30\n",
      "91/92 [============================>.] - ETA: 0s - loss: nan - accuracy: 0.9009\n",
      "Epoch 25: val_accuracy did not improve from 0.90107\n",
      "92/92 [==============================] - 8s 85ms/step - loss: nan - accuracy: 0.9009 - val_loss: nan - val_accuracy: 0.9011 - lr: 0.0010\n",
      "Epoch 26/30\n",
      "91/92 [============================>.] - ETA: 0s - loss: nan - accuracy: 0.9009\n",
      "Epoch 26: val_accuracy did not improve from 0.90107\n",
      "92/92 [==============================] - 8s 84ms/step - loss: nan - accuracy: 0.9009 - val_loss: nan - val_accuracy: 0.9011 - lr: 0.0010\n",
      "Epoch 27/30\n",
      "91/92 [============================>.] - ETA: 0s - loss: nan - accuracy: 0.9009\n",
      "Epoch 27: val_accuracy did not improve from 0.90107\n",
      "92/92 [==============================] - 8s 83ms/step - loss: nan - accuracy: 0.9009 - val_loss: nan - val_accuracy: 0.9011 - lr: 0.0010\n",
      "Epoch 28/30\n",
      "91/92 [============================>.] - ETA: 0s - loss: nan - accuracy: 0.9009\n",
      "Epoch 28: val_accuracy did not improve from 0.90107\n",
      "92/92 [==============================] - 8s 84ms/step - loss: nan - accuracy: 0.9009 - val_loss: nan - val_accuracy: 0.9011 - lr: 0.0010\n",
      "Epoch 29/30\n",
      "91/92 [============================>.] - ETA: 0s - loss: nan - accuracy: 0.9009\n",
      "Epoch 29: val_accuracy did not improve from 0.90107\n",
      "92/92 [==============================] - 8s 84ms/step - loss: nan - accuracy: 0.9009 - val_loss: nan - val_accuracy: 0.9011 - lr: 0.0010\n",
      "Epoch 30/30\n",
      "91/92 [============================>.] - ETA: 0s - loss: nan - accuracy: 0.9009\n",
      "Epoch 30: val_accuracy did not improve from 0.90107\n",
      "92/92 [==============================] - 8s 84ms/step - loss: nan - accuracy: 0.9009 - val_loss: nan - val_accuracy: 0.9011 - lr: 0.0010\n"
     ]
    }
   ],
   "source": [
    "# Fitting the model on train and test datasets\n",
    "\n",
    "history = model_translate_lstm.fit(X_train, Y_train, epochs = 30, batch_size = 128, validation_split = 0.3, callbacks = [es,rl,mc])"
   ]
  },
  {
   "cell_type": "markdown",
   "metadata": {
    "id": "YoHnFRtkdovr"
   },
   "source": [
    "**Performance Evaluation and Prediction:**"
   ]
  },
  {
   "cell_type": "code",
   "execution_count": 49,
   "metadata": {
    "colab": {
     "base_uri": "https://localhost:8080/",
     "height": 350
    },
    "id": "4THC3mUGf2Ll",
    "outputId": "0b084e7e-8c8f-4b4c-b54c-87ea02d639b8"
   },
   "outputs": [
    {
     "data": {
      "image/png": "[encoded data removed]",
      "text/plain": [
       "<Figure size 720x360 with 1 Axes>"
      ]
     },
     "metadata": {
      "needs_background": "light"
     },
     "output_type": "display_data"
    }
   ],
   "source": [
    "# Plotting accuracy at different epochs\n",
    "\n",
    "plt.figure(figsize=(10,5))\n",
    "plt.plot(history.history['accuracy'],'r',label='train accuracy')\n",
    "plt.plot(history.history['val_accuracy'],'b',label='test accuracy')\n",
    "plt.xlabel('No. of Epochs')\n",
    "plt.ylabel('Accuracy')\n",
    "plt.title('Accuracy Graph')\n",
    "plt.legend();"
   ]
  },
  {
   "cell_type": "code",
   "execution_count": 50,
   "metadata": {
    "colab": {
     "base_uri": "https://localhost:8080/"
    },
    "id": "IcW1z5jKZzF1",
    "outputId": "9ca8fa03-bab7-47db-88a2-a9dbc440c9cd"
   },
   "outputs": [
    {
     "name": "stdout",
     "output_type": "stream",
     "text": [
      "175/175 [==============================] - 3s 15ms/step - loss: nan - accuracy: 0.9001\n"
     ]
    }
   ],
   "source": [
    "# Evaluating the model performance on test data\n",
    "\n",
    "results_translate = model_translate_lstm.evaluate(X_test, Y_test)"
   ]
  },
  {
   "cell_type": "code",
   "execution_count": 51,
   "metadata": {
    "colab": {
     "base_uri": "https://localhost:8080/"
    },
    "id": "DIbXalGWWTWt",
    "outputId": "951b6ff4-4624-492b-df7c-43f35b910de9"
   },
   "outputs": [
    {
     "name": "stdout",
     "output_type": "stream",
     "text": [
      "524/524 [==============================] - 8s 15ms/step - loss: nan - accuracy: 0.9009\n"
     ]
    }
   ],
   "source": [
    "# Evaluating the model performance on train data\n",
    "\n",
    "results_translate_train = model_translate_lstm.evaluate(X_train, Y_train)"
   ]
  },
  {
   "cell_type": "code",
   "execution_count": 52,
   "metadata": {
    "id": "-9O_W5VNZfcG"
   },
   "outputs": [],
   "source": [
    "# Function to generate words from the index\n",
    "\n",
    "def logits_to_sentence(logits, tokenizer):\n",
    "\n",
    "    index_to_words = {idx: word for word, idx in tokenizer.word_index.items()}\n",
    "    index_to_words[0] = '<empty>' \n",
    "\n",
    "    return ' '.join([index_to_words[prediction] for prediction in np.argmax(logits, 1)])"
   ]
  },
  {
   "cell_type": "code",
   "execution_count": 53,
   "metadata": {
    "colab": {
     "base_uri": "https://localhost:8080/"
    },
    "id": "KhOqKPI6lziE",
    "outputId": "9c6b8f40-c548-4a33-f3b7-d43ab46bf5c2"
   },
   "outputs": [
    {
     "name": "stdout",
     "output_type": "stream",
     "text": [
      "The english sentence is: START_ this house has already made a preliminary assessment of what the subsequent costs will be _END\n",
      "The german sentence is: START_ das parlament hat schon einen entwurf für die folgekostenabschätzung verabschiedet _END\n",
      "The predicted sentence is :\n",
      "1/1 [==============================] - 1s 697ms/step\n",
      "<empty> <empty> <empty> <empty> <empty> <empty> <empty> <empty> <empty> <empty> <empty> <empty> <empty> <empty> <empty> <empty> <empty> <empty> <empty> <empty> <empty> <empty> <empty> <empty> <empty> <empty> <empty> <empty> <empty> <empty> <empty> <empty> <empty> <empty> <empty> <empty> <empty> <empty> <empty> <empty> <empty> <empty> <empty> <empty> <empty> <empty> <empty> <empty> <empty> <empty> <empty> <empty> <empty> <empty> <empty> <empty> <empty> <empty> <empty> <empty> <empty> <empty> <empty> <empty> <empty> <empty> <empty> <empty> <empty> <empty> <empty> <empty> <empty> <empty> <empty> <empty> <empty> <empty> <empty> <empty> <empty> <empty> <empty> <empty> <empty> <empty> <empty> <empty> <empty> <empty> <empty> <empty> <empty> <empty> <empty> <empty> <empty> <empty> <empty> <empty> <empty> <empty> <empty> <empty> <empty> <empty> <empty> <empty> <empty> <empty> <empty> <empty> <empty> <empty> <empty> <empty> <empty> <empty> <empty> <empty> <empty> <empty> <empty> <empty> <empty> <empty> <empty> <empty> <empty> <empty> <empty> <empty> <empty> <empty> <empty> <empty> <empty> <empty> <empty> <empty> <empty> <empty> <empty> <empty> <empty> <empty> <empty> <empty> <empty> <empty> <empty> <empty> <empty> <empty> <empty> <empty> <empty> <empty> <empty> <empty> <empty> <empty> <empty> <empty> <empty> <empty> <empty> <empty> <empty> <empty> <empty> <empty> <empty> <empty> <empty> <empty> <empty> <empty> <empty> <empty> <empty> <empty> <empty> <empty> <empty> <empty> <empty> <empty> <empty> <empty> <empty> <empty> <empty> <empty> <empty> <empty> <empty> <empty> <empty> <empty> <empty> <empty> <empty> <empty> <empty> <empty> <empty> <empty> <empty> <empty> <empty> <empty> <empty> <empty> <empty> <empty> <empty> <empty> <empty> <empty> <empty> <empty> <empty> <empty> <empty> <empty> <empty> <empty> <empty> <empty> <empty> <empty> <empty> <empty>\n"
     ]
    }
   ],
   "source": [
    "# Making predictions using model on randomly selected X_test sample \n",
    "\n",
    "index = 10\n",
    "\n",
    "# Printing original sentences from both the languages\n",
    "\n",
    "print(\"The english sentence is: {}\".format(translation_df_transformed.iloc[index]['English']))\n",
    "print(\"The german sentence is: {}\".format(translation_df_transformed.iloc[index]['German']))\n",
    "\n",
    "# Printing predicted sentence\n",
    "\n",
    "print('The predicted sentence is :')\n",
    "\n",
    "print(logits_to_sentence(model_translate_lstm.predict(X_test[index:index+1])[0], ger_tokenizer))\n"
   ]
  },
  {
   "cell_type": "markdown",
   "metadata": {
    "id": "steRXhiRnSiG"
   },
   "source": [
    "**Observation:**\n",
    "\n",
    "\n",
    "\n",
    "* Basic LSTM model is trained on 5% sample data. Due to the very large size of source data, unable to pre-process the entire dataset.\n",
    "* Considering the large vocabulary size even with 5% sample data, the output node of the model is restricted to 1000.\n",
    "* Model is generating similar accuracies on training and test datasets so model is not over fitting.\n",
    "* Model accuracy is not improving after 2nd epoch and loss is ‘nan’ on both train and test datasets.\n",
    "* Model is not predicting well and only generating a sequence of <empty> tokens as predicted sentences.\n",
    "* So, we tried to observe model performance with shorter length of sentence with both LSTM and RNN methods."
   ]
  },
  {
   "cell_type": "markdown",
   "metadata": {
    "id": "0uHMF_rv4Xbw"
   },
   "source": [
    "**Model 2: Basic RNN Model With Short Length Sentences**"
   ]
  },
  {
   "cell_type": "code",
   "execution_count": 54,
   "metadata": {
    "id": "PYWzfOANlApO"
   },
   "outputs": [],
   "source": [
    "# Randomly sample 5% of dataframe\n",
    "\n",
    "translation_df_reduced = translation_df.sample(frac = 0.005)"
   ]
  },
  {
   "cell_type": "markdown",
   "metadata": {
    "id": "R3Fodd8f5oCC"
   },
   "source": [
    "**Data Cleaning**\n",
    "\n"
   ]
  },
  {
   "cell_type": "code",
   "execution_count": 55,
   "metadata": {
    "id": "C0mGYlkJSfFB"
   },
   "outputs": [],
   "source": [
    "# Processing the data and get sentences lengthn upto 6 words.\n",
    "\n",
    "translation_df_reduced = translation_df_reduced[translation_df_reduced.English.str.count('\\s+').lt(6)]\n",
    "\n",
    "translation_df_reduced = translation_df_reduced.astype(str).applymap(lambda x: str(x.replace('\\n','')))\n",
    "\n",
    "translation_df_reduced['German'] = translation_df_reduced['German'].str.strip()\n",
    "\n",
    "translation_df_reduced['English'] = translation_df_reduced['English'].str.strip()\n",
    "\n",
    "translation_df_reduced = translation_df_reduced.replace('', np.nan)\n",
    "\n",
    "translation_df_reduced = translation_df_reduced.dropna()"
   ]
  },
  {
   "cell_type": "code",
   "execution_count": 56,
   "metadata": {
    "colab": {
     "base_uri": "https://localhost:8080/"
    },
    "id": "1SgJXuOLLve6",
    "outputId": "68c20ef5-a5e3-4a95-a990-870229170c24"
   },
   "outputs": [
    {
     "data": {
      "text/plain": [
       "English    249\n",
       "German     249\n",
       "dtype: int64"
      ]
     },
     "execution_count": 56,
     "metadata": {},
     "output_type": "execute_result"
    }
   ],
   "source": [
    "translation_df_reduced.count('index')"
   ]
  },
  {
   "cell_type": "code",
   "execution_count": 57,
   "metadata": {
    "colab": {
     "base_uri": "https://localhost:8080/",
     "height": 363
    },
    "id": "lgjl5Z9JgXcd",
    "outputId": "5aded1eb-0857-4c0d-bc90-b426af83c63a"
   },
   "outputs": [
    {
     "data": {
      "text/html": [
       "\n",
       "  <div id=\"df-3003da27-c16a-4ada-9d5d-1486f6faed7a\">\n",
       "    <div class=\"colab-df-container\">\n",
       "      <div>\n",
       "<style scoped>\n",
       "    .dataframe tbody tr th:only-of-type {\n",
       "        vertical-align: middle;\n",
       "    }\n",
       "\n",
       "    .dataframe tbody tr th {\n",
       "        vertical-align: top;\n",
       "    }\n",
       "\n",
       "    .dataframe thead th {\n",
       "        text-align: right;\n",
       "    }\n",
       "</style>\n",
       "<table border=\"1\" class=\"dataframe\">\n",
       "  <thead>\n",
       "    <tr style=\"text-align: right;\">\n",
       "      <th></th>\n",
       "      <th>English</th>\n",
       "      <th>German</th>\n",
       "    </tr>\n",
       "  </thead>\n",
       "  <tbody>\n",
       "    <tr>\n",
       "      <th>1427254</th>\n",
       "      <td>This is plainly a smokescreen.</td>\n",
       "      <td>Dies ist einfach nur ein Vorwand.</td>\n",
       "    </tr>\n",
       "    <tr>\n",
       "      <th>988289</th>\n",
       "      <td>We need to address that.</td>\n",
       "      <td>Darum müssen wir uns kümmern.</td>\n",
       "    </tr>\n",
       "    <tr>\n",
       "      <th>1764967</th>\n",
       "      <td>Let us have action!</td>\n",
       "      <td>Laßt uns handeln!</td>\n",
       "    </tr>\n",
       "    <tr>\n",
       "      <th>1918697</th>\n",
       "      <td>Helsinki European Council</td>\n",
       "      <td>Europäischer Rat von Helsinki</td>\n",
       "    </tr>\n",
       "    <tr>\n",
       "      <th>637527</th>\n",
       "      <td>It is worth it.</td>\n",
       "      <td>Sie ist es wert.</td>\n",
       "    </tr>\n",
       "    <tr>\n",
       "      <th>1088431</th>\n",
       "      <td>Do not reject it.</td>\n",
       "      <td>Sie sollten sie nicht zurückweisen.</td>\n",
       "    </tr>\n",
       "    <tr>\n",
       "      <th>563064</th>\n",
       "      <td>Point 5 (k).</td>\n",
       "      <td>Ziffer 5 Buchstabe k).</td>\n",
       "    </tr>\n",
       "    <tr>\n",
       "      <th>839789</th>\n",
       "      <td>Diana Wallis</td>\n",
       "      <td>Diana Wallis</td>\n",
       "    </tr>\n",
       "    <tr>\n",
       "      <th>661557</th>\n",
       "      <td>I feel this is unjustified.</td>\n",
       "      <td>Ich halte das für nicht gerechtfertigt.</td>\n",
       "    </tr>\n",
       "    <tr>\n",
       "      <th>609249</th>\n",
       "      <td>We need that park.</td>\n",
       "      <td>Wir brauchen diesen Park.</td>\n",
       "    </tr>\n",
       "  </tbody>\n",
       "</table>\n",
       "</div>\n",
       "      <button class=\"colab-df-convert\" onclick=\"convertToInteractive('df-3003da27-c16a-4ada-9d5d-1486f6faed7a')\"\n",
       "              title=\"Convert this dataframe to an interactive table.\"\n",
       "              style=\"display:none;\">\n",
       "        \n",
       "  <svg xmlns=\"http://www.w3.org/2000/svg\" height=\"24px\"viewBox=\"0 0 24 24\"\n",
       "       width=\"24px\">\n",
       "    <path d=\"M0 0h24v24H0V0z\" fill=\"none\"/>\n",
       "    <path d=\"M18.56 5.44l.94 2.06.94-2.06 2.06-.94-2.06-.94-.94-2.06-.94 2.06-2.06.94zm-11 1L8.5 8.5l.94-2.06 2.06-.94-2.06-.94L8.5 2.5l-.94 2.06-2.06.94zm10 10l.94 2.06.94-2.06 2.06-.94-2.06-.94-.94-2.06-.94 2.06-2.06.94z\"/><path d=\"M17.41 7.96l-1.37-1.37c-.4-.4-.92-.59-1.43-.59-.52 0-1.04.2-1.43.59L10.3 9.45l-7.72 7.72c-.78.78-.78 2.05 0 2.83L4 21.41c.39.39.9.59 1.41.59.51 0 1.02-.2 1.41-.59l7.78-7.78 2.81-2.81c.8-.78.8-2.07 0-2.86zM5.41 20L4 18.59l7.72-7.72 1.47 1.35L5.41 20z\"/>\n",
       "  </svg>\n",
       "      </button>\n",
       "      \n",
       "  <style>\n",
       "    .colab-df-container {\n",
       "      display:flex;\n",
       "      flex-wrap:wrap;\n",
       "      gap: 12px;\n",
       "    }\n",
       "\n",
       "    .colab-df-convert {\n",
       "      background-color: #E8F0FE;\n",
       "      border: none;\n",
       "      border-radius: 50%;\n",
       "      cursor: pointer;\n",
       "      display: none;\n",
       "      fill: #1967D2;\n",
       "      height: 32px;\n",
       "      padding: 0 0 0 0;\n",
       "      width: 32px;\n",
       "    }\n",
       "\n",
       "    .colab-df-convert:hover {\n",
       "      background-color: #E2EBFA;\n",
       "      box-shadow: 0px 1px 2px rgba(60, 64, 67, 0.3), 0px 1px 3px 1px rgba(60, 64, 67, 0.15);\n",
       "      fill: #174EA6;\n",
       "    }\n",
       "\n",
       "    [theme=dark] .colab-df-convert {\n",
       "      background-color: #3B4455;\n",
       "      fill: #D2E3FC;\n",
       "    }\n",
       "\n",
       "    [theme=dark] .colab-df-convert:hover {\n",
       "      background-color: #434B5C;\n",
       "      box-shadow: 0px 1px 3px 1px rgba(0, 0, 0, 0.15);\n",
       "      filter: drop-shadow(0px 1px 2px rgba(0, 0, 0, 0.3));\n",
       "      fill: #FFFFFF;\n",
       "    }\n",
       "  </style>\n",
       "\n",
       "      <script>\n",
       "        const buttonEl =\n",
       "          document.querySelector('#df-3003da27-c16a-4ada-9d5d-1486f6faed7a button.colab-df-convert');\n",
       "        buttonEl.style.display =\n",
       "          google.colab.kernel.accessAllowed ? 'block' : 'none';\n",
       "\n",
       "        async function convertToInteractive(key) {\n",
       "          const element = document.querySelector('#df-3003da27-c16a-4ada-9d5d-1486f6faed7a');\n",
       "          const dataTable =\n",
       "            await google.colab.kernel.invokeFunction('convertToInteractive',\n",
       "                                                     [key], {});\n",
       "          if (!dataTable) return;\n",
       "\n",
       "          const docLinkHtml = 'Like what you see? Visit the ' +\n",
       "            '<a target=\"_blank\" href=https://colab.research.google.com/notebooks/data_table.ipynb>data table notebook</a>'\n",
       "            + ' to learn more about interactive tables.';\n",
       "          element.innerHTML = '';\n",
       "          dataTable['output_type'] = 'display_data';\n",
       "          await google.colab.output.renderOutput(dataTable, element);\n",
       "          const docLink = document.createElement('div');\n",
       "          docLink.innerHTML = docLinkHtml;\n",
       "          element.appendChild(docLink);\n",
       "        }\n",
       "      </script>\n",
       "    </div>\n",
       "  </div>\n",
       "  "
      ],
      "text/plain": [
       "                                English  \\\n",
       "1427254  This is plainly a smokescreen.   \n",
       "988289         We need to address that.   \n",
       "1764967             Let us have action!   \n",
       "1918697       Helsinki European Council   \n",
       "637527                  It is worth it.   \n",
       "1088431               Do not reject it.   \n",
       "563064                     Point 5 (k).   \n",
       "839789                     Diana Wallis   \n",
       "661557      I feel this is unjustified.   \n",
       "609249               We need that park.   \n",
       "\n",
       "                                          German  \n",
       "1427254        Dies ist einfach nur ein Vorwand.  \n",
       "988289             Darum müssen wir uns kümmern.  \n",
       "1764967                        Laßt uns handeln!  \n",
       "1918697            Europäischer Rat von Helsinki  \n",
       "637527                          Sie ist es wert.  \n",
       "1088431      Sie sollten sie nicht zurückweisen.  \n",
       "563064                    Ziffer 5 Buchstabe k).  \n",
       "839789                              Diana Wallis  \n",
       "661557   Ich halte das für nicht gerechtfertigt.  \n",
       "609249                 Wir brauchen diesen Park.  "
      ]
     },
     "execution_count": 57,
     "metadata": {},
     "output_type": "execute_result"
    }
   ],
   "source": [
    "translation_df_reduced.head(10)"
   ]
  },
  {
   "cell_type": "code",
   "execution_count": 58,
   "metadata": {
    "id": "gqpZw6jn_-3A"
   },
   "outputs": [],
   "source": [
    "# Saving the dataframe into text file\n",
    "\n",
    "np.savetxt('/content/drive/My Drive/PGP_AIML/ColabNotebooks/combined_eng_ger.txt', translation_df_reduced.to_numpy(), delimiter='\\t', fmt='%s')"
   ]
  },
  {
   "cell_type": "markdown",
   "metadata": {
    "id": "hSHmbYiL6Hx5"
   },
   "source": [
    "**Pre Processing - Dataset suitable to be used for AIML model learning**"
   ]
  },
  {
   "cell_type": "code",
   "execution_count": 59,
   "metadata": {
    "id": "vxA8hGo26Htd"
   },
   "outputs": [],
   "source": [
    "# Function to load the data from text file\n",
    "\n",
    "def load_doc(filename):\n",
    "\n",
    "    # open the file as read only\n",
    "    file = open(filename, mode='rt', encoding='utf-8')\n",
    "\n",
    "    # read all text\n",
    "    text = file.read()\n",
    "\n",
    "    # close the file\n",
    "    file.close()\n",
    "    \n",
    "    return text"
   ]
  },
  {
   "cell_type": "code",
   "execution_count": 60,
   "metadata": {
    "id": "kPlJFJ6V6Hxw"
   },
   "outputs": [],
   "source": [
    "# Function to form pairs of the sentences from loaded file \n",
    "\n",
    "def to_pairs(doc):\n",
    "    lines = doc.strip().split('\\n')\n",
    "    pairs = [line.split('\\t') for line in  lines]\n",
    "    return pairs"
   ]
  },
  {
   "cell_type": "code",
   "execution_count": 61,
   "metadata": {
    "id": "fvjs3G7Q6H1Q"
   },
   "outputs": [],
   "source": [
    "from unicodedata import normalize\n",
    "\n",
    "# Function to clean a list of lines\n",
    "\n",
    "def clean_pairs(lines):\n",
    "    cleaned = list()\n",
    "    \n",
    "    # prepare regex for char filtering\n",
    "    re_print = re.compile('[^%s]' % re.escape(string.printable))\n",
    "    \n",
    "    # prepare translation table for removing punctuation\n",
    "    table = str.maketrans('', '', string.punctuation)\n",
    "    \n",
    "    for pair in lines:\n",
    "        clean_pair = list()\n",
    "        for line in pair:\n",
    "            # normalize unicode characters\n",
    "            line = normalize('NFD', line).encode('ascii', 'ignore')\n",
    "            line = line.decode('UTF-8')\n",
    "            \n",
    "            # tokenize on white space\n",
    "            line = line.split()\n",
    "            \n",
    "            # convert to lowercase\n",
    "            line = [word.lower() for word in line]\n",
    "            \n",
    "            # remove punctuation from each token\n",
    "            line = [word.translate(table) for word in line]\n",
    "            \n",
    "            # remove non-printable chars form each token\n",
    "            line = [re_print.sub('', w) for w in line]\n",
    "            \n",
    "            # remove tokens with numbers in them\n",
    "            line = [word for word in line if word.isalpha()]\n",
    "            \n",
    "            # store as string\n",
    "            clean_pair.append(' '.join(line))\n",
    "        cleaned.append(clean_pair)\n",
    "    return array(cleaned)"
   ]
  },
  {
   "cell_type": "code",
   "execution_count": 62,
   "metadata": {
    "id": "-DEl7yNj3lTy"
   },
   "outputs": [],
   "source": [
    "# Function to save clean data\n",
    "\n",
    "from pickle import load,dump\n",
    "def save_clean_data(sentences, filename):\n",
    "    dump(sentences, open(filename, 'wb'))\n",
    "    print('Saved: %s' % filename)"
   ]
  },
  {
   "cell_type": "code",
   "execution_count": 63,
   "metadata": {
    "colab": {
     "base_uri": "https://localhost:8080/"
    },
    "id": "vfpm1ZH_6H6W",
    "outputId": "5164bd2e-0641-4e75-f144-f06ce0dae75f"
   },
   "outputs": [
    {
     "name": "stdout",
     "output_type": "stream",
     "text": [
      "Saved: /content/drive/My Drive/PGP_AIML/ColabNotebooks/german-english.pkl\n"
     ]
    }
   ],
   "source": [
    "# Loading dataset\n",
    "filename = '/content/drive/My Drive/PGP_AIML/ColabNotebooks/combined_eng_ger.txt'\n",
    "\n",
    "doc = load_doc(filename)\n",
    "\n",
    "# Calling to_pair function to split dat into english-german pairs\n",
    "pairs = to_pairs(doc)\n",
    "\n",
    "# Calling clean_pair function to clean the sentences\n",
    "clean_pairs = clean_pairs(pairs)\n",
    "\n",
    "# Calling save_clean_data function to save clean pairs into file\n",
    "save_clean_data(clean_pairs, '/content/drive/My Drive/PGP_AIML/ColabNotebooks/german-english.pkl')"
   ]
  },
  {
   "cell_type": "code",
   "execution_count": 64,
   "metadata": {
    "id": "iFZ20tv64ccZ"
   },
   "outputs": [],
   "source": [
    "# Function to load the clean dataset\n",
    "\n",
    "def load_clean_sentences(filename):\n",
    "    return load(open(filename, 'rb'))"
   ]
  },
  {
   "cell_type": "code",
   "execution_count": 65,
   "metadata": {
    "colab": {
     "base_uri": "https://localhost:8080/"
    },
    "id": "ECSoQRTHHyiR",
    "outputId": "6ba83f81-66cc-43c6-bca7-4beb8cf01398"
   },
   "outputs": [
    {
     "name": "stdout",
     "output_type": "stream",
     "text": [
      "498\n"
     ]
    }
   ],
   "source": [
    "# Observing the size of clean pairs\n",
    "\n",
    "print(clean_pairs.size)"
   ]
  },
  {
   "cell_type": "code",
   "execution_count": 66,
   "metadata": {
    "colab": {
     "base_uri": "https://localhost:8080/"
    },
    "id": "w2QouFqr6IB9",
    "outputId": "e546da4d-515a-4157-b10f-cde6d31929e3"
   },
   "outputs": [
    {
     "name": "stdout",
     "output_type": "stream",
     "text": [
      "Saved: /content/drive/My Drive/PGP_AIML/ColabNotebooks/english-german-both.pkl\n",
      "Saved: /content/drive/My Drive/PGP_AIML/ColabNotebooks/english-german-train.pkl\n",
      "Saved: /content/drive/My Drive/PGP_AIML/ColabNotebooks/english-german-test.pkl\n"
     ]
    }
   ],
   "source": [
    "from numpy.random import shuffle\n",
    "\n",
    "# Loading clean dataset\n",
    "raw_dataset = load_clean_sentences('/content/drive/My Drive/PGP_AIML/ColabNotebooks/german-english.pkl')\n",
    "\n",
    "# Reducing dataset size\n",
    "n_sentences = clean_pairs.size\n",
    "dataset = raw_dataset[:n_sentences, :]\n",
    "\n",
    "# Randomly shuffling the dataset\n",
    "shuffle(dataset)\n",
    "\n",
    "# Generating train and test datasets\n",
    "train, test = train_test_split(dataset, test_size=0.25, random_state=1) \n",
    "\n",
    "# Saving clean, train, test dataset into pickle file\n",
    "save_clean_data(dataset, '/content/drive/My Drive/PGP_AIML/ColabNotebooks/english-german-both.pkl')\n",
    "save_clean_data(train, '/content/drive/My Drive/PGP_AIML/ColabNotebooks/english-german-train.pkl')\n",
    "save_clean_data(test, '/content/drive/My Drive/PGP_AIML/ColabNotebooks/english-german-test.pkl')"
   ]
  },
  {
   "cell_type": "code",
   "execution_count": 67,
   "metadata": {
    "id": "rSvZOl0v3y9q"
   },
   "outputs": [],
   "source": [
    "# Function to generate tokens\n",
    "\n",
    "def create_tokenizer(lines):\n",
    "    tokenizer = Tokenizer()\n",
    "    tokenizer.fit_on_texts(lines)\n",
    "    return tokenizer"
   ]
  },
  {
   "cell_type": "code",
   "execution_count": 68,
   "metadata": {
    "id": "93US17lY37GO"
   },
   "outputs": [],
   "source": [
    "# Function to get maximum length of the sentences\n",
    "\n",
    "def max_length(lines):\n",
    "    return max(len(line.split()) for line in lines)"
   ]
  },
  {
   "cell_type": "code",
   "execution_count": 69,
   "metadata": {
    "id": "KynYbX_B4BxS"
   },
   "outputs": [],
   "source": [
    "# Function to generate sequence of tokens and do the padding\n",
    "\n",
    "def encode_sequences(tokenizer, length, lines):\n",
    "    X = tokenizer.texts_to_sequences(lines)\n",
    "\n",
    "    # padding sequences with 0 values\n",
    "    X = pad_sequences(X, maxlen=length, padding='post')\n",
    "    \n",
    "    return X"
   ]
  },
  {
   "cell_type": "code",
   "execution_count": 70,
   "metadata": {
    "id": "bGiMRSdK4B0-"
   },
   "outputs": [],
   "source": [
    "from keras.utils import to_categorical\n",
    "\n",
    "# Function to convert vectors into binary matrix\n",
    " \n",
    "def encode_output(sequences, vocab_size):\n",
    "    ylist = list()\n",
    "    for sequence in sequences:\n",
    "        encoded = to_categorical(sequence, num_classes=vocab_size)\n",
    "        ylist.append(encoded)\n",
    "    y = array(ylist)\n",
    "    y = y.reshape(sequences.shape[0], sequences.shape[1], vocab_size)\n",
    "    return y"
   ]
  },
  {
   "cell_type": "code",
   "execution_count": 71,
   "metadata": {
    "id": "Tz0Wb9Vs6IVo"
   },
   "outputs": [],
   "source": [
    "from keras.utils.vis_utils import plot_model"
   ]
  },
  {
   "cell_type": "code",
   "execution_count": 72,
   "metadata": {
    "id": "xs1-2jsm4LVh"
   },
   "outputs": [],
   "source": [
    "# Loading clean, train, and test datasets\n",
    "\n",
    "dataset = load_clean_sentences('/content/drive/My Drive/PGP_AIML/ColabNotebooks/english-german-both.pkl')\n",
    "train = load_clean_sentences('/content/drive/My Drive/PGP_AIML/ColabNotebooks/english-german-train.pkl')\n",
    "test = load_clean_sentences('/content/drive/My Drive/PGP_AIML/ColabNotebooks/english-german-test.pkl')"
   ]
  },
  {
   "cell_type": "code",
   "execution_count": 73,
   "metadata": {
    "colab": {
     "base_uri": "https://localhost:8080/"
    },
    "id": "SsZJ2OEc-2rA",
    "outputId": "4d9a00c3-1802-4b12-da1c-cf165d3e7bf6"
   },
   "outputs": [
    {
     "name": "stdout",
     "output_type": "stream",
     "text": [
      "English Vocabulary Size: 510\n",
      "English Max Length: 5\n",
      "German Vocabulary Size: 898\n",
      "German Max Length: 45\n"
     ]
    }
   ],
   "source": [
    "# Preparing English tokenizer\n",
    "\n",
    "eng_tokenizer_rnn = create_tokenizer(dataset[:, 0])\n",
    "eng_vocab_size = len(eng_tokenizer_rnn.word_index) + 1\n",
    "eng_length_rnn = max_length(dataset[:, 0])\n",
    "print('English Vocabulary Size: %d' % eng_vocab_size)\n",
    "print('English Max Length: %d' % (eng_length_rnn))\n",
    "\n",
    "# Preparing German tokenizer\n",
    "\n",
    "ger_tokenizer_rnn = create_tokenizer(dataset[:, 1])\n",
    "ger_vocab_size = len(ger_tokenizer_rnn.word_index) + 1\n",
    "ger_length_rnn = max_length(dataset[:, 1])\n",
    "print('German Vocabulary Size: %d' % ger_vocab_size)\n",
    "print('German Max Length: %d' % (ger_length_rnn))"
   ]
  },
  {
   "cell_type": "code",
   "execution_count": 74,
   "metadata": {
    "id": "nS-XzpGH-Hqc"
   },
   "outputs": [],
   "source": [
    "# prepare training data\n",
    "trainX = encode_sequences(ger_tokenizer_rnn, ger_length_rnn, train[:, 1])\n",
    "trainY = encode_sequences(eng_tokenizer_rnn, eng_length_rnn, train[:, 0])\n",
    "trainY = encode_output(trainY, eng_vocab_size)\n",
    "\n",
    "# prepare validation data\n",
    "testX = encode_sequences(ger_tokenizer_rnn, ger_length_rnn, test[:, 1])\n",
    "testY = encode_sequences(eng_tokenizer_rnn, eng_length_rnn, test[:, 0])\n",
    "testY = encode_output(testY, eng_vocab_size)"
   ]
  },
  {
   "cell_type": "markdown",
   "metadata": {
    "id": "arqrWZtcScuq"
   },
   "source": [
    "**Model Design**"
   ]
  },
  {
   "cell_type": "code",
   "execution_count": 75,
   "metadata": {
    "id": "PvLMA8j4Y9aD"
   },
   "outputs": [],
   "source": [
    "# Function to define RNN model\n",
    "\n",
    "def define_simple_model(src_vocab, tar_vocab, src_timesteps, tar_timesteps, n_units):\n",
    "    model = Sequential()\n",
    "    model.add(Embedding(src_vocab, n_units, input_length=src_timesteps, mask_zero=True))\n",
    "    model.add(SimpleRNN(n_units))\n",
    "    model.add(RepeatVector(tar_timesteps))\n",
    "    model.add(SimpleRNN(n_units, return_sequences=True))\n",
    "    model.add(TimeDistributed(Dense(tar_vocab, activation='softmax')))\n",
    "    return model"
   ]
  },
  {
   "cell_type": "code",
   "execution_count": 76,
   "metadata": {
    "id": "4bNWYuV1-HhY"
   },
   "outputs": [],
   "source": [
    "# Calling LSTM model function\n",
    "\n",
    "model_translate_RNN = define_simple_model(ger_vocab_size, eng_vocab_size, ger_length_rnn, eng_length_rnn, 256)"
   ]
  },
  {
   "cell_type": "code",
   "execution_count": 77,
   "metadata": {
    "id": "3znAhA74-HUI"
   },
   "outputs": [],
   "source": [
    "# Compiling the model\n",
    "\n",
    "model_translate_RNN.compile(optimizer='adam', loss='categorical_crossentropy', metrics=['accuracy'])"
   ]
  },
  {
   "cell_type": "code",
   "execution_count": 78,
   "metadata": {
    "colab": {
     "base_uri": "https://localhost:8080/",
     "height": 1000
    },
    "id": "KO8fuRRE-HLL",
    "outputId": "4ec0b754-35d6-45bd-bccf-9cd4d9b5424f"
   },
   "outputs": [
    {
     "name": "stdout",
     "output_type": "stream",
     "text": [
      "Model: \"sequential_1\"\n",
      "_________________________________________________________________\n",
      " Layer (type)                Output Shape              Param #   \n",
      "=================================================================\n",
      " embedding_1 (Embedding)     (None, 45, 256)           229888    \n",
      "                                                                 \n",
      " simple_rnn (SimpleRNN)      (None, 256)               131328    \n",
      "                                                                 \n",
      " repeat_vector_1 (RepeatVect  (None, 5, 256)           0         \n",
      " or)                                                             \n",
      "                                                                 \n",
      " simple_rnn_1 (SimpleRNN)    (None, 5, 256)            131328    \n",
      "                                                                 \n",
      " time_distributed_1 (TimeDis  (None, 5, 510)           131070    \n",
      " tributed)                                                       \n",
      "                                                                 \n",
      "=================================================================\n",
      "Total params: 623,614\n",
      "Trainable params: 623,614\n",
      "Non-trainable params: 0\n",
      "_________________________________________________________________\n",
      "None\n"
     ]
    },
    {
     "data": {
      "image/png": "[encoded data removed]",
      "text/plain": [
       "<IPython.core.display.Image object>"
      ]
     },
     "execution_count": 78,
     "metadata": {},
     "output_type": "execute_result"
    }
   ],
   "source": [
    "# Printing model summary and plotting the model\n",
    "\n",
    "print(model_translate_RNN.summary())\n",
    "\n",
    "plot_model(model_translate_RNN, to_file='model.png', show_shapes=True)"
   ]
  },
  {
   "cell_type": "code",
   "execution_count": 79,
   "metadata": {
    "colab": {
     "base_uri": "https://localhost:8080/"
    },
    "id": "YbxIsD9V-G3A",
    "outputId": "d0aa767e-5cf2-4ede-bf5c-6e87acd8ebae"
   },
   "outputs": [
    {
     "name": "stdout",
     "output_type": "stream",
     "text": [
      "Epoch 1/30\n",
      "3/3 [==============================] - ETA: 0s - loss: 6.2268 - accuracy: 0.0200\n",
      "Epoch 1: val_accuracy did not improve from 0.90107\n",
      "3/3 [==============================] - 2s 244ms/step - loss: 6.2268 - accuracy: 0.0200 - val_loss: 6.1753 - val_accuracy: 0.1429 - lr: 0.0010\n",
      "Epoch 2/30\n",
      "3/3 [==============================] - ETA: 0s - loss: 5.8547 - accuracy: 0.2631\n",
      "Epoch 2: val_accuracy did not improve from 0.90107\n",
      "3/3 [==============================] - 0s 75ms/step - loss: 5.8547 - accuracy: 0.2631 - val_loss: 5.8882 - val_accuracy: 0.2143 - lr: 0.0010\n",
      "Epoch 3/30\n",
      "3/3 [==============================] - ETA: 0s - loss: 5.3029 - accuracy: 0.2308\n",
      "Epoch 3: val_accuracy did not improve from 0.90107\n",
      "3/3 [==============================] - 0s 75ms/step - loss: 5.3029 - accuracy: 0.2308 - val_loss: 5.6169 - val_accuracy: 0.2071 - lr: 0.0010\n",
      "Epoch 4/30\n",
      "3/3 [==============================] - ETA: 0s - loss: 4.8948 - accuracy: 0.2338\n",
      "Epoch 4: val_accuracy did not improve from 0.90107\n",
      "3/3 [==============================] - 0s 73ms/step - loss: 4.8948 - accuracy: 0.2338 - val_loss: 5.5833 - val_accuracy: 0.1964 - lr: 0.0010\n",
      "Epoch 5/30\n",
      "3/3 [==============================] - ETA: 0s - loss: 4.7369 - accuracy: 0.2569\n",
      "Epoch 5: val_accuracy did not improve from 0.90107\n",
      "3/3 [==============================] - 0s 77ms/step - loss: 4.7369 - accuracy: 0.2569 - val_loss: 5.5355 - val_accuracy: 0.2250 - lr: 0.0010\n",
      "Epoch 6/30\n",
      "3/3 [==============================] - ETA: 0s - loss: 4.6136 - accuracy: 0.2923\n",
      "Epoch 6: val_accuracy did not improve from 0.90107\n",
      "3/3 [==============================] - 0s 73ms/step - loss: 4.6136 - accuracy: 0.2923 - val_loss: 5.5746 - val_accuracy: 0.2250 - lr: 0.0010\n",
      "Epoch 7/30\n",
      "3/3 [==============================] - ETA: 0s - loss: 4.4404 - accuracy: 0.3185\n",
      "Epoch 7: val_accuracy did not improve from 0.90107\n",
      "3/3 [==============================] - 0s 78ms/step - loss: 4.4404 - accuracy: 0.3185 - val_loss: 5.3142 - val_accuracy: 0.2464 - lr: 0.0010\n",
      "Epoch 8/30\n",
      "3/3 [==============================] - ETA: 0s - loss: 4.2328 - accuracy: 0.3154\n",
      "Epoch 8: val_accuracy did not improve from 0.90107\n",
      "3/3 [==============================] - 0s 80ms/step - loss: 4.2328 - accuracy: 0.3154 - val_loss: 5.3016 - val_accuracy: 0.2571 - lr: 0.0010\n",
      "Epoch 9/30\n",
      "3/3 [==============================] - ETA: 0s - loss: 4.1190 - accuracy: 0.2985\n",
      "Epoch 9: val_accuracy did not improve from 0.90107\n",
      "3/3 [==============================] - 0s 76ms/step - loss: 4.1190 - accuracy: 0.2985 - val_loss: 5.3597 - val_accuracy: 0.2464 - lr: 0.0010\n",
      "Epoch 10/30\n",
      "3/3 [==============================] - ETA: 0s - loss: 3.9906 - accuracy: 0.3354\n",
      "Epoch 10: val_accuracy did not improve from 0.90107\n",
      "3/3 [==============================] - 0s 75ms/step - loss: 3.9906 - accuracy: 0.3354 - val_loss: 5.3744 - val_accuracy: 0.2571 - lr: 0.0010\n",
      "Epoch 11/30\n",
      "3/3 [==============================] - ETA: 0s - loss: 3.8464 - accuracy: 0.3615\n",
      "Epoch 11: val_accuracy did not improve from 0.90107\n",
      "3/3 [==============================] - 0s 74ms/step - loss: 3.8464 - accuracy: 0.3615 - val_loss: 5.3826 - val_accuracy: 0.2536 - lr: 0.0010\n",
      "Epoch 12/30\n",
      "3/3 [==============================] - ETA: 0s - loss: 3.7077 - accuracy: 0.3554\n",
      "Epoch 12: val_accuracy did not improve from 0.90107\n",
      "3/3 [==============================] - 0s 76ms/step - loss: 3.7077 - accuracy: 0.3554 - val_loss: 5.3721 - val_accuracy: 0.2571 - lr: 0.0010\n",
      "Epoch 13/30\n",
      "3/3 [==============================] - ETA: 0s - loss: 3.5714 - accuracy: 0.3538\n",
      "Epoch 13: val_accuracy did not improve from 0.90107\n",
      "3/3 [==============================] - 0s 79ms/step - loss: 3.5714 - accuracy: 0.3538 - val_loss: 5.3680 - val_accuracy: 0.2536 - lr: 0.0010\n",
      "Epoch 14/30\n",
      "3/3 [==============================] - ETA: 0s - loss: 3.4208 - accuracy: 0.3615\n",
      "Epoch 14: val_accuracy did not improve from 0.90107\n",
      "3/3 [==============================] - 0s 75ms/step - loss: 3.4208 - accuracy: 0.3615 - val_loss: 5.3774 - val_accuracy: 0.2643 - lr: 0.0010\n",
      "Epoch 15/30\n",
      "3/3 [==============================] - ETA: 0s - loss: 3.2891 - accuracy: 0.3862\n",
      "Epoch 15: val_accuracy did not improve from 0.90107\n",
      "3/3 [==============================] - 0s 75ms/step - loss: 3.2891 - accuracy: 0.3862 - val_loss: 5.4179 - val_accuracy: 0.2571 - lr: 0.0010\n",
      "Epoch 16/30\n",
      "3/3 [==============================] - ETA: 0s - loss: 3.1850 - accuracy: 0.4031\n",
      "Epoch 16: val_accuracy did not improve from 0.90107\n",
      "3/3 [==============================] - 0s 76ms/step - loss: 3.1850 - accuracy: 0.4031 - val_loss: 5.5760 - val_accuracy: 0.2357 - lr: 0.0010\n",
      "Epoch 17/30\n",
      "3/3 [==============================] - ETA: 0s - loss: 3.1427 - accuracy: 0.4062\n",
      "Epoch 17: val_accuracy did not improve from 0.90107\n",
      "3/3 [==============================] - 0s 76ms/step - loss: 3.1427 - accuracy: 0.4062 - val_loss: 5.4517 - val_accuracy: 0.2536 - lr: 0.0010\n",
      "Epoch 18/30\n",
      "3/3 [==============================] - ETA: 0s - loss: 2.9951 - accuracy: 0.4154\n",
      "Epoch 18: val_accuracy did not improve from 0.90107\n",
      "3/3 [==============================] - 0s 77ms/step - loss: 2.9951 - accuracy: 0.4154 - val_loss: 5.3751 - val_accuracy: 0.2607 - lr: 0.0010\n",
      "Epoch 19/30\n",
      "3/3 [==============================] - ETA: 0s - loss: 2.8713 - accuracy: 0.4385\n",
      "Epoch 19: val_accuracy did not improve from 0.90107\n",
      "3/3 [==============================] - 0s 73ms/step - loss: 2.8713 - accuracy: 0.4385 - val_loss: 5.3739 - val_accuracy: 0.2536 - lr: 0.0010\n",
      "Epoch 20/30\n",
      "3/3 [==============================] - ETA: 0s - loss: 2.7431 - accuracy: 0.4585\n",
      "Epoch 20: val_accuracy did not improve from 0.90107\n",
      "3/3 [==============================] - 0s 74ms/step - loss: 2.7431 - accuracy: 0.4585 - val_loss: 5.4309 - val_accuracy: 0.2464 - lr: 0.0010\n",
      "Epoch 21/30\n",
      "3/3 [==============================] - ETA: 0s - loss: 2.6624 - accuracy: 0.4831\n",
      "Epoch 21: val_accuracy did not improve from 0.90107\n",
      "3/3 [==============================] - 0s 77ms/step - loss: 2.6624 - accuracy: 0.4831 - val_loss: 5.4250 - val_accuracy: 0.2429 - lr: 0.0010\n",
      "Epoch 22/30\n",
      "3/3 [==============================] - ETA: 0s - loss: 2.5560 - accuracy: 0.4723\n",
      "Epoch 22: val_accuracy did not improve from 0.90107\n",
      "3/3 [==============================] - 0s 73ms/step - loss: 2.5560 - accuracy: 0.4723 - val_loss: 5.5113 - val_accuracy: 0.2429 - lr: 0.0010\n",
      "Epoch 23/30\n",
      "3/3 [==============================] - ETA: 0s - loss: 2.5259 - accuracy: 0.4646\n",
      "Epoch 23: val_accuracy did not improve from 0.90107\n",
      "3/3 [==============================] - 0s 76ms/step - loss: 2.5259 - accuracy: 0.4646 - val_loss: 5.5324 - val_accuracy: 0.2500 - lr: 0.0010\n",
      "Epoch 24/30\n",
      "3/3 [==============================] - ETA: 0s - loss: 2.3890 - accuracy: 0.4892\n",
      "Epoch 24: val_accuracy did not improve from 0.90107\n",
      "3/3 [==============================] - 0s 78ms/step - loss: 2.3890 - accuracy: 0.4892 - val_loss: 5.4712 - val_accuracy: 0.2393 - lr: 0.0010\n",
      "Epoch 25/30\n",
      "3/3 [==============================] - ETA: 0s - loss: 2.3364 - accuracy: 0.5246\n",
      "Epoch 25: val_accuracy did not improve from 0.90107\n",
      "3/3 [==============================] - 0s 77ms/step - loss: 2.3364 - accuracy: 0.5246 - val_loss: 5.4130 - val_accuracy: 0.2500 - lr: 0.0010\n",
      "Epoch 26/30\n",
      "3/3 [==============================] - ETA: 0s - loss: 2.1993 - accuracy: 0.5492\n",
      "Epoch 26: val_accuracy did not improve from 0.90107\n",
      "3/3 [==============================] - 0s 73ms/step - loss: 2.1993 - accuracy: 0.5492 - val_loss: 5.4499 - val_accuracy: 0.2500 - lr: 0.0010\n",
      "Epoch 27/30\n",
      "3/3 [==============================] - ETA: 0s - loss: 2.1007 - accuracy: 0.5508\n",
      "Epoch 27: val_accuracy did not improve from 0.90107\n",
      "3/3 [==============================] - 0s 76ms/step - loss: 2.1007 - accuracy: 0.5508 - val_loss: 5.4859 - val_accuracy: 0.2571 - lr: 0.0010\n",
      "Epoch 28/30\n",
      "3/3 [==============================] - ETA: 0s - loss: 2.0037 - accuracy: 0.5815\n",
      "Epoch 28: val_accuracy did not improve from 0.90107\n",
      "3/3 [==============================] - 0s 78ms/step - loss: 2.0037 - accuracy: 0.5815 - val_loss: 5.4836 - val_accuracy: 0.2571 - lr: 0.0010\n",
      "Epoch 29/30\n",
      "3/3 [==============================] - ETA: 0s - loss: 1.8963 - accuracy: 0.6185\n",
      "Epoch 29: val_accuracy did not improve from 0.90107\n",
      "3/3 [==============================] - 0s 78ms/step - loss: 1.8963 - accuracy: 0.6185 - val_loss: 5.5176 - val_accuracy: 0.2536 - lr: 0.0010\n",
      "Epoch 30/30\n",
      "3/3 [==============================] - ETA: 0s - loss: 1.8065 - accuracy: 0.6492\n",
      "Epoch 30: val_accuracy did not improve from 0.90107\n",
      "3/3 [==============================] - 0s 76ms/step - loss: 1.8065 - accuracy: 0.6492 - val_loss: 5.5796 - val_accuracy: 0.2500 - lr: 0.0010\n"
     ]
    }
   ],
   "source": [
    "# Fitting model on train and test datasets\n",
    "\n",
    "filename = 'model.h5'\n",
    "\n",
    "history_1 = model_translate_RNN.fit(trainX, trainY, epochs=30, batch_size=64, validation_split = 0.3, callbacks=[es,rl,mc])"
   ]
  },
  {
   "cell_type": "markdown",
   "metadata": {
    "id": "nKHGEKD8c_rL"
   },
   "source": [
    "**Performance Evaluation and Prediction:**"
   ]
  },
  {
   "cell_type": "code",
   "execution_count": 80,
   "metadata": {
    "colab": {
     "base_uri": "https://localhost:8080/",
     "height": 350
    },
    "id": "QWnjSiiXM0Ot",
    "outputId": "b529698d-457c-4ed6-cb38-abc58bd804a2"
   },
   "outputs": [
    {
     "data": {
      "image/png": "[encoded data removed]",
      "text/plain": [
       "<Figure size 720x360 with 1 Axes>"
      ]
     },
     "metadata": {
      "needs_background": "light"
     },
     "output_type": "display_data"
    }
   ],
   "source": [
    "# Plotting loss at different epochs\n",
    "\n",
    "plt.figure(figsize=(10,5))\n",
    "plt.plot(history_1.history['loss'],'r',label='train loss')\n",
    "plt.plot(history_1.history['val_loss'],'b',label='test loss')\n",
    "plt.xlabel('No. of Epochs')\n",
    "plt.ylabel('Loss')\n",
    "plt.title('Loss Graph')\n",
    "plt.legend();"
   ]
  },
  {
   "cell_type": "code",
   "execution_count": 81,
   "metadata": {
    "colab": {
     "base_uri": "https://localhost:8080/",
     "height": 350
    },
    "id": "5zfwPRp_fZL9",
    "outputId": "1607b3b2-d099-441d-e569-7ff2f06d3f0d"
   },
   "outputs": [
    {
     "data": {
      "image/png": "[encoded data removed]",
      "text/plain": [
       "<Figure size 720x360 with 1 Axes>"
      ]
     },
     "metadata": {
      "needs_background": "light"
     },
     "output_type": "display_data"
    }
   ],
   "source": [
    "# Plotting accuracy at different epochs\n",
    "\n",
    "plt.figure(figsize=(10,5))\n",
    "plt.plot(history_1.history['accuracy'],'r',label='train accuracy')\n",
    "plt.plot(history_1.history['val_accuracy'],'b',label='test accuracy')\n",
    "plt.xlabel('No. of Epochs')\n",
    "plt.ylabel('Accuracy')\n",
    "plt.title('Accuracy Graph')\n",
    "plt.legend();"
   ]
  },
  {
   "cell_type": "code",
   "execution_count": 82,
   "metadata": {
    "colab": {
     "base_uri": "https://localhost:8080/"
    },
    "id": "HEc-JY43581E",
    "outputId": "ded1ed71-35af-4e28-a383-a03616869767"
   },
   "outputs": [
    {
     "name": "stdout",
     "output_type": "stream",
     "text": [
      "2/2 [==============================] - 0s 10ms/step - loss: 5.7033 - accuracy: 0.2381\n"
     ]
    }
   ],
   "source": [
    "# Evaluating the model performance\n",
    "\n",
    "results_translate_rnn_test = model_translate_RNN.evaluate(testX, testY)"
   ]
  },
  {
   "cell_type": "code",
   "execution_count": 83,
   "metadata": {
    "colab": {
     "base_uri": "https://localhost:8080/"
    },
    "id": "q0I1uclKVeYA",
    "outputId": "b96ca672-1673-4194-bd39-27cb6d4e3d30"
   },
   "outputs": [
    {
     "name": "stdout",
     "output_type": "stream",
     "text": [
      "6/6 [==============================] - 0s 8ms/step - loss: 2.8821 - accuracy: 0.5484\n"
     ]
    }
   ],
   "source": [
    "# Evaluating the model performance on train data\n",
    "\n",
    "results_translate_rnn_train = model_translate_RNN.evaluate(trainX, trainY)"
   ]
  },
  {
   "cell_type": "code",
   "execution_count": 84,
   "metadata": {
    "id": "eP69GXWc6IFG"
   },
   "outputs": [],
   "source": [
    "# Function to convert index to word\n",
    "\n",
    "def word_for_id(integer, tokenizer):\n",
    "    for word, index in tokenizer.word_index.items():\n",
    "        if index == integer:\n",
    "            return word\n",
    "    return None"
   ]
  },
  {
   "cell_type": "code",
   "execution_count": 85,
   "metadata": {
    "id": "yabLVNZg6IIl"
   },
   "outputs": [],
   "source": [
    "# Function to make predictions\n",
    "\n",
    "def predict_sequence(model, tokenizer, source):\n",
    "    prediction = model.predict(source, verbose=0)[0]\n",
    "    integers = [argmax(vector) for vector in prediction]\n",
    "    target = list()\n",
    "    for i in integers:\n",
    "        word = word_for_id(i, tokenizer)\n",
    "        if word is None:\n",
    "            break\n",
    "        target.append(word)\n",
    "    return ' '.join(target)"
   ]
  },
  {
   "cell_type": "markdown",
   "metadata": {
    "id": "kYMs15iRCQOz"
   },
   "source": [
    "**BLEU Score:**\n",
    "\n",
    "*   BLEU (BiLingual Evaluation Understudy) is a metric for automatically evaluating machine-translated text. The BLEU score is a number between zero and one that measures the similarity of the machine-translated text to a set of high quality reference translations. \n",
    "*   The BLEU score compares a sentence against one or more reference sentences and tells how well does the candidate sentence matched the list of reference sentences. It gives an output score between 0 and 1. A BLEU score of 1 means that the candidate sentence perfectly matches one of the reference sentences."
   ]
  },
  {
   "cell_type": "code",
   "execution_count": 86,
   "metadata": {
    "id": "LbnTqKDI6IL1"
   },
   "outputs": [],
   "source": [
    "from nltk.translate.bleu_score import corpus_bleu\n",
    "\n",
    "# Function to evaluate model performance using BLEU score\n",
    "def evaluate_model(model, tokenizer, sources, raw_dataset):\n",
    "    actual, predicted = list(), list()\n",
    "    for i, source in enumerate(sources):\n",
    "\n",
    "        # Translating encoded source text\n",
    "        source = source.reshape((1, source.shape[0]))\n",
    "        translation = predict_sequence(model, eng_tokenizer_rnn, source)\n",
    "        raw_target, raw_src = raw_dataset[i]\n",
    "        if i < 10:\n",
    "            print(\"The German sentence is:\", raw_src)\n",
    "            print(\"The English sentence is:\", raw_target)\n",
    "            print(\"The predicted sentence is:\", translation)\n",
    "            print(\"*\"*50)\n",
    "        actual.append([raw_target.split()])\n",
    "        predicted.append(translation.split())\n",
    "    \n",
    "    # Calculating BLEU score\n",
    "    print('BLEU-1: %f' % corpus_bleu(actual, predicted, weights=(1.0, 0, 0, 0)))\n",
    "    print('BLEU-2: %f' % corpus_bleu(actual, predicted, weights=(0.5, 0.5, 0, 0)))\n",
    "    print('BLEU-3: %f' % corpus_bleu(actual, predicted, weights=(0.3, 0.3, 0.3, 0)))\n",
    "    print('BLEU-4: %f' % corpus_bleu(actual, predicted, weights=(0.25, 0.25, 0.25, 0.25)))"
   ]
  },
  {
   "cell_type": "code",
   "execution_count": 87,
   "metadata": {
    "colab": {
     "base_uri": "https://localhost:8080/"
    },
    "id": "YuwtUS2x6IO5",
    "outputId": "b640a5ce-03f9-49f5-ba56-1e90a4d95b24"
   },
   "outputs": [
    {
     "name": "stdout",
     "output_type": "stream",
     "text": [
      "Prediction of training sentences:\n",
      "The German sentence is: diana wallis\n",
      "The English sentence is: diana wallis\n",
      "The predicted sentence is: \n",
      "**************************************************\n",
      "The German sentence is: aller voraussicht nach werden auch die ubrigen vier mitgliedstaaten in den nachsten jahren in die wahrungsunion eintreten\n",
      "The English sentence is: that is a complete certainty\n",
      "The predicted sentence is: that is complete complete certainty\n",
      "**************************************************\n",
      "The German sentence is: durch den versuch die uno zu einem instrument des kampfes gegen amerika zu machen wird sie nur noch weiter geschwacht oder vollig marginalisiert\n",
      "The English sentence is: reforming russias military industrial complex\n",
      "The predicted sentence is: reforming russias military industrial complex\n",
      "**************************************************\n",
      "The German sentence is: sobald diese graueltaten entdeckt wurden hat die regierung schnell gehandelt\n",
      "The English sentence is: but no more\n",
      "The predicted sentence is: but no no\n",
      "**************************************************\n",
      "The German sentence is: das halten wir fur gut\n",
      "The English sentence is: we think that is good\n",
      "The predicted sentence is: we that that that good\n",
      "**************************************************\n",
      "The German sentence is: frau prasidentin\n",
      "The English sentence is: member of the commission\n",
      "The predicted sentence is: the is the commission\n",
      "**************************************************\n",
      "The German sentence is: russland investiert hier\n",
      "The English sentence is: russia invests here\n",
      "The predicted sentence is: they invests\n",
      "**************************************************\n",
      "The German sentence is: ich bitte dafur um entschuldigung\n",
      "The English sentence is: please accept my apologies\n",
      "The predicted sentence is: please accept my apologies\n",
      "**************************************************\n",
      "The German sentence is: vielen dank herr ratsprasident\n",
      "The English sentence is: thank you mr presidentinoffice\n",
      "The predicted sentence is: you you mr mr\n",
      "**************************************************\n",
      "The German sentence is: eine nation in geiselhaft\n",
      "The English sentence is: a nation kidnapped\n",
      "The predicted sentence is: nation nation kidnapped\n",
      "**************************************************\n",
      "BLEU-1: 0.455476\n",
      "BLEU-2: 0.356214\n",
      "BLEU-3: 0.311090\n",
      "BLEU-4: 0.209144\n"
     ]
    }
   ],
   "source": [
    "# Evaluating model on train dataset\n",
    "\n",
    "print('Prediction of training sentences:')\n",
    "evaluate_model(model_translate_RNN, eng_tokenizer_rnn, trainX, train)\n"
   ]
  },
  {
   "cell_type": "code",
   "execution_count": 88,
   "metadata": {
    "colab": {
     "base_uri": "https://localhost:8080/"
    },
    "id": "C2neWBGxnGJC",
    "outputId": "c005a9fc-8ebc-453e-89d6-22a464cb60ca"
   },
   "outputs": [
    {
     "name": "stdout",
     "output_type": "stream",
     "text": [
      "Prediction of test sentences:\n",
      "The German sentence is: das parlament wird sicherlich mithelfen\n",
      "The English sentence is: parliament will certainly provide assistance\n",
      "The predicted sentence is: that is that good good\n",
      "**************************************************\n",
      "The German sentence is: die turkei leugnet den armenischen holocaust\n",
      "The English sentence is: turkey denies its armenian holocaust\n",
      "The predicted sentence is: so is\n",
      "**************************************************\n",
      "The German sentence is: unser standpunkt ist vollkommen klar\n",
      "The English sentence is: our position is absolutely clear\n",
      "The predicted sentence is: we is is\n",
      "**************************************************\n",
      "The German sentence is: wie das funktionieren soll\n",
      "The English sentence is: how\n",
      "The predicted sentence is: they\n",
      "**************************************************\n",
      "The German sentence is: ruckwurfe von fischen\n",
      "The English sentence is: fish discards\n",
      "The predicted sentence is: welcome is\n",
      "**************************************************\n",
      "The German sentence is: bericht guinebertiere\n",
      "The English sentence is: guinebertiere report\n",
      "The predicted sentence is: european\n",
      "**************************************************\n",
      "The German sentence is: wie lange mu das dauern\n",
      "The English sentence is: how long should it take\n",
      "The predicted sentence is: that is should\n",
      "**************************************************\n",
      "The German sentence is: dies ist bedauerlich\n",
      "The English sentence is: this is to be regretted\n",
      "The predicted sentence is: it is\n",
      "**************************************************\n",
      "The German sentence is: haushaltsdisziplin reicht nicht aus\n",
      "The English sentence is: budgetary discipline is not sufficient\n",
      "The predicted sentence is: it is\n",
      "**************************************************\n",
      "The German sentence is: das wird so glauben sie eindeutig zeigen dass folter kontraproduktiv ist\n",
      "The English sentence is: water pipe dreams\n",
      "The predicted sentence is: these these are difficult had\n",
      "**************************************************\n",
      "BLEU-1: 0.081750\n",
      "BLEU-2: 0.021242\n",
      "BLEU-3: 0.000000\n",
      "BLEU-4: 0.000000\n"
     ]
    }
   ],
   "source": [
    "# Evaluating model on test dataset\n",
    "\n",
    "print('Prediction of test sentences:')\n",
    "evaluate_model(model_translate_RNN, eng_tokenizer_rnn, testX, test)"
   ]
  },
  {
   "cell_type": "markdown",
   "metadata": {
    "id": "m9egZE8gSKLq"
   },
   "source": [
    "**Model3: LSTM with Short Length Sentences**\n",
    "\n"
   ]
  },
  {
   "cell_type": "markdown",
   "metadata": {
    "id": "j-rL9V-8JkBe"
   },
   "source": [
    "Data cleaning and Pre processing is used as it is from Model 2. "
   ]
  },
  {
   "cell_type": "markdown",
   "metadata": {
    "id": "pxJui-bSJZ2S"
   },
   "source": [
    "**Model Design**"
   ]
  },
  {
   "cell_type": "code",
   "execution_count": 89,
   "metadata": {
    "id": "tl5_GFKW4LST"
   },
   "outputs": [],
   "source": [
    "# Function to define LSTM model\n",
    "\n",
    "def define_model(src_vocab, tar_vocab, src_timesteps, tar_timesteps, n_units):\n",
    "    model = Sequential()\n",
    "    model.add(Embedding(src_vocab, n_units, input_length=src_timesteps, mask_zero=True))\n",
    "    model.add(LSTM(n_units))\n",
    "    model.add(RepeatVector(tar_timesteps))\n",
    "    model.add(LSTM(n_units, return_sequences=True))\n",
    "    model.add(TimeDistributed(Dense(tar_vocab, activation='softmax')))\n",
    "    return model"
   ]
  },
  {
   "cell_type": "code",
   "execution_count": 90,
   "metadata": {
    "id": "kAuPJjMqTewG"
   },
   "outputs": [],
   "source": [
    "# Calling LSTM model function\n",
    "\n",
    "model_translate_LSTM = define_model(ger_vocab_size, eng_vocab_size, ger_length_rnn, eng_length_rnn, 256)"
   ]
  },
  {
   "cell_type": "code",
   "execution_count": 91,
   "metadata": {
    "id": "HT1M8XzCTewH"
   },
   "outputs": [],
   "source": [
    "# Compiling the model\n",
    "\n",
    "model_translate_LSTM.compile(optimizer='adam', loss='categorical_crossentropy', metrics=['accuracy'])"
   ]
  },
  {
   "cell_type": "code",
   "execution_count": 92,
   "metadata": {
    "colab": {
     "base_uri": "https://localhost:8080/",
     "height": 1000
    },
    "id": "x9ikofn0TewH",
    "outputId": "bbb48866-92cb-4a7a-d363-b01bceac11fd"
   },
   "outputs": [
    {
     "name": "stdout",
     "output_type": "stream",
     "text": [
      "Model: \"sequential_2\"\n",
      "_________________________________________________________________\n",
      " Layer (type)                Output Shape              Param #   \n",
      "=================================================================\n",
      " embedding_2 (Embedding)     (None, 45, 256)           229888    \n",
      "                                                                 \n",
      " lstm_2 (LSTM)               (None, 256)               525312    \n",
      "                                                                 \n",
      " repeat_vector_2 (RepeatVect  (None, 5, 256)           0         \n",
      " or)                                                             \n",
      "                                                                 \n",
      " lstm_3 (LSTM)               (None, 5, 256)            525312    \n",
      "                                                                 \n",
      " time_distributed_2 (TimeDis  (None, 5, 510)           131070    \n",
      " tributed)                                                       \n",
      "                                                                 \n",
      "=================================================================\n",
      "Total params: 1,411,582\n",
      "Trainable params: 1,411,582\n",
      "Non-trainable params: 0\n",
      "_________________________________________________________________\n",
      "None\n"
     ]
    },
    {
     "data": {
      "image/png": "[encoded data removed]",
      "text/plain": [
       "<IPython.core.display.Image object>"
      ]
     },
     "execution_count": 92,
     "metadata": {},
     "output_type": "execute_result"
    }
   ],
   "source": [
    "# Printing model summary and plotting the model\n",
    "\n",
    "print(model_translate_LSTM.summary())\n",
    "\n",
    "plot_model(model_translate_LSTM, to_file='model.png', show_shapes=True)"
   ]
  },
  {
   "cell_type": "code",
   "execution_count": 93,
   "metadata": {
    "colab": {
     "base_uri": "https://localhost:8080/"
    },
    "id": "yIrKXjRVTewI",
    "outputId": "d8b0ad18-7bde-4503-dfac-bee6dbc05ba0"
   },
   "outputs": [
    {
     "name": "stdout",
     "output_type": "stream",
     "text": [
      "Epoch 1/30\n",
      "2/3 [===================>..........] - ETA: 0s - loss: 6.2324 - accuracy: 0.1250\n",
      "Epoch 1: val_accuracy did not improve from 0.90107\n",
      "3/3 [==============================] - 7s 1s/step - loss: 6.2324 - accuracy: 0.1231 - val_loss: 6.2243 - val_accuracy: 0.2179 - lr: 0.0010\n",
      "Epoch 2/30\n",
      "1/3 [=========>....................] - ETA: 0s - loss: 6.2205 - accuracy: 0.2062\n",
      "Epoch 2: val_accuracy did not improve from 0.90107\n",
      "3/3 [==============================] - 0s 26ms/step - loss: 6.2159 - accuracy: 0.2200 - val_loss: 6.2045 - val_accuracy: 0.2179 - lr: 0.0010\n",
      "Epoch 3/30\n",
      "2/3 [===================>..........] - ETA: 0s - loss: 6.1817 - accuracy: 0.2219\n",
      "Epoch 3: val_accuracy did not improve from 0.90107\n",
      "3/3 [==============================] - 0s 75ms/step - loss: 6.1818 - accuracy: 0.2200 - val_loss: 6.1276 - val_accuracy: 0.2179 - lr: 0.0010\n",
      "Epoch 4/30\n",
      "2/3 [===================>..........] - ETA: 0s - loss: 6.0511 - accuracy: 0.2219\n",
      "Epoch 4: val_accuracy did not improve from 0.90107\n",
      "3/3 [==============================] - 0s 74ms/step - loss: 6.0511 - accuracy: 0.2200 - val_loss: 5.8627 - val_accuracy: 0.2179 - lr: 0.0010\n",
      "Epoch 5/30\n",
      "2/3 [===================>..........] - ETA: 0s - loss: 5.7626 - accuracy: 0.2188\n",
      "Epoch 5: val_accuracy did not improve from 0.90107\n",
      "3/3 [==============================] - 0s 75ms/step - loss: 5.7490 - accuracy: 0.2200 - val_loss: 5.6638 - val_accuracy: 0.2179 - lr: 0.0010\n",
      "Epoch 6/30\n",
      "2/3 [===================>..........] - ETA: 0s - loss: 5.3352 - accuracy: 0.2203\n",
      "Epoch 6: val_accuracy did not improve from 0.90107\n",
      "3/3 [==============================] - 0s 75ms/step - loss: 5.3409 - accuracy: 0.2200 - val_loss: 5.4897 - val_accuracy: 0.2179 - lr: 0.0010\n",
      "Epoch 7/30\n",
      "2/3 [===================>..........] - ETA: 0s - loss: 5.0604 - accuracy: 0.2219\n",
      "Epoch 7: val_accuracy did not improve from 0.90107\n",
      "3/3 [==============================] - 0s 74ms/step - loss: 5.0666 - accuracy: 0.2200 - val_loss: 5.4104 - val_accuracy: 0.2179 - lr: 0.0010\n",
      "Epoch 8/30\n",
      "3/3 [==============================] - ETA: 0s - loss: 4.9367 - accuracy: 0.2200\n",
      "Epoch 8: val_accuracy did not improve from 0.90107\n",
      "3/3 [==============================] - 0s 72ms/step - loss: 4.9367 - accuracy: 0.2200 - val_loss: 5.3880 - val_accuracy: 0.2179 - lr: 0.0010\n",
      "Epoch 9/30\n",
      "2/3 [===================>..........] - ETA: 0s - loss: 4.8555 - accuracy: 0.2219\n",
      "Epoch 9: val_accuracy did not improve from 0.90107\n",
      "3/3 [==============================] - 0s 73ms/step - loss: 4.8611 - accuracy: 0.2200 - val_loss: 5.3964 - val_accuracy: 0.2179 - lr: 0.0010\n",
      "Epoch 10/30\n",
      "1/3 [=========>....................] - ETA: 0s - loss: 4.8940 - accuracy: 0.2031\n",
      "Epoch 10: val_accuracy did not improve from 0.90107\n",
      "3/3 [==============================] - 0s 26ms/step - loss: 4.7966 - accuracy: 0.2200 - val_loss: 5.4277 - val_accuracy: 0.2179 - lr: 0.0010\n",
      "Epoch 11/30\n",
      "2/3 [===================>..........] - ETA: 0s - loss: 4.7616 - accuracy: 0.2203\n",
      "Epoch 11: val_accuracy did not improve from 0.90107\n",
      "3/3 [==============================] - 0s 73ms/step - loss: 4.7573 - accuracy: 0.2200 - val_loss: 5.4739 - val_accuracy: 0.2179 - lr: 0.0010\n",
      "Epoch 12/30\n",
      "1/3 [=========>....................] - ETA: 0s - loss: 4.6202 - accuracy: 0.2438\n",
      "Epoch 12: val_accuracy did not improve from 0.90107\n",
      "3/3 [==============================] - 0s 26ms/step - loss: 4.7299 - accuracy: 0.2200 - val_loss: 5.5421 - val_accuracy: 0.2179 - lr: 0.0010\n",
      "Epoch 13/30\n",
      "2/3 [===================>..........] - ETA: 0s - loss: 4.7126 - accuracy: 0.2172\n",
      "Epoch 13: val_accuracy did not improve from 0.90107\n",
      "3/3 [==============================] - 0s 74ms/step - loss: 4.7080 - accuracy: 0.2200 - val_loss: 5.6139 - val_accuracy: 0.2179 - lr: 0.0010\n",
      "Epoch 14/30\n",
      "1/3 [=========>....................] - ETA: 0s - loss: 4.6565 - accuracy: 0.2625\n",
      "Epoch 14: val_accuracy did not improve from 0.90107\n",
      "3/3 [==============================] - 0s 26ms/step - loss: 4.7067 - accuracy: 0.2200 - val_loss: 5.6791 - val_accuracy: 0.2179 - lr: 0.0010\n",
      "Epoch 15/30\n",
      "1/3 [=========>....................] - ETA: 0s - loss: 4.5065 - accuracy: 0.2438\n",
      "Epoch 15: val_accuracy did not improve from 0.90107\n",
      "3/3 [==============================] - 0s 25ms/step - loss: 4.6712 - accuracy: 0.2200 - val_loss: 5.6604 - val_accuracy: 0.2179 - lr: 0.0010\n",
      "Epoch 16/30\n",
      "2/3 [===================>..........] - ETA: 0s - loss: 4.6347 - accuracy: 0.2188\n",
      "Epoch 16: val_accuracy did not improve from 0.90107\n",
      "3/3 [==============================] - 0s 75ms/step - loss: 4.6272 - accuracy: 0.2200 - val_loss: 5.6143 - val_accuracy: 0.2179 - lr: 0.0010\n",
      "Epoch 17/30\n",
      "2/3 [===================>..........] - ETA: 0s - loss: 4.5988 - accuracy: 0.2203\n",
      "Epoch 17: val_accuracy did not improve from 0.90107\n",
      "3/3 [==============================] - 0s 76ms/step - loss: 4.5927 - accuracy: 0.2215 - val_loss: 5.6146 - val_accuracy: 0.2179 - lr: 0.0010\n",
      "Epoch 18/30\n",
      "1/3 [=========>....................] - ETA: 0s - loss: 4.5903 - accuracy: 0.2250\n",
      "Epoch 18: val_accuracy did not improve from 0.90107\n",
      "3/3 [==============================] - 0s 27ms/step - loss: 4.5764 - accuracy: 0.2215 - val_loss: 5.7251 - val_accuracy: 0.2179 - lr: 0.0010\n",
      "Epoch 19/30\n",
      "3/3 [==============================] - ETA: 0s - loss: 4.5793 - accuracy: 0.2215\n",
      "Epoch 19: val_accuracy did not improve from 0.90107\n",
      "3/3 [==============================] - 0s 70ms/step - loss: 4.5793 - accuracy: 0.2215 - val_loss: 5.9130 - val_accuracy: 0.2179 - lr: 0.0010\n",
      "Epoch 20/30\n",
      "2/3 [===================>..........] - ETA: 0s - loss: 4.5980 - accuracy: 0.2203\n",
      "Epoch 20: val_accuracy did not improve from 0.90107\n",
      "3/3 [==============================] - 0s 76ms/step - loss: 4.6010 - accuracy: 0.2215 - val_loss: 5.8355 - val_accuracy: 0.2179 - lr: 0.0010\n",
      "Epoch 21/30\n",
      "1/3 [=========>....................] - ETA: 0s - loss: 4.6137 - accuracy: 0.2031\n",
      "Epoch 21: val_accuracy did not improve from 0.90107\n",
      "3/3 [==============================] - 0s 26ms/step - loss: 4.5193 - accuracy: 0.2262 - val_loss: 5.6856 - val_accuracy: 0.2250 - lr: 0.0010\n",
      "Epoch 22/30\n",
      "1/3 [=========>....................] - ETA: 0s - loss: 4.3267 - accuracy: 0.2937\n",
      "Epoch 22: val_accuracy did not improve from 0.90107\n",
      "3/3 [==============================] - 0s 26ms/step - loss: 4.4996 - accuracy: 0.2446 - val_loss: 5.6680 - val_accuracy: 0.2321 - lr: 0.0010\n",
      "Epoch 23/30\n",
      "2/3 [===================>..........] - ETA: 0s - loss: 4.4997 - accuracy: 0.2391\n",
      "Epoch 23: val_accuracy did not improve from 0.90107\n",
      "3/3 [==============================] - 0s 77ms/step - loss: 4.4753 - accuracy: 0.2446 - val_loss: 5.8114 - val_accuracy: 0.2321 - lr: 0.0010\n",
      "Epoch 24/30\n",
      "2/3 [===================>..........] - ETA: 0s - loss: 4.4559 - accuracy: 0.2422\n",
      "Epoch 24: val_accuracy did not improve from 0.90107\n",
      "3/3 [==============================] - 0s 74ms/step - loss: 4.4617 - accuracy: 0.2415 - val_loss: 6.0080 - val_accuracy: 0.2143 - lr: 0.0010\n",
      "Epoch 25/30\n",
      "2/3 [===================>..........] - ETA: 0s - loss: 4.5120 - accuracy: 0.2328\n",
      "Epoch 25: val_accuracy did not improve from 0.90107\n",
      "3/3 [==============================] - 0s 73ms/step - loss: 4.5241 - accuracy: 0.2308 - val_loss: 5.9187 - val_accuracy: 0.2321 - lr: 0.0010\n",
      "Epoch 26/30\n",
      "2/3 [===================>..........] - ETA: 0s - loss: 4.4590 - accuracy: 0.2422\n",
      "Epoch 26: val_accuracy did not improve from 0.90107\n",
      "3/3 [==============================] - 0s 76ms/step - loss: 4.4480 - accuracy: 0.2446 - val_loss: 5.7995 - val_accuracy: 0.2393 - lr: 0.0010\n",
      "Epoch 27/30\n",
      "2/3 [===================>..........] - ETA: 0s - loss: 4.4113 - accuracy: 0.2438\n",
      "Epoch 27: val_accuracy did not improve from 0.90107\n",
      "3/3 [==============================] - 0s 72ms/step - loss: 4.4185 - accuracy: 0.2431 - val_loss: 5.7812 - val_accuracy: 0.2357 - lr: 0.0010\n",
      "Epoch 28/30\n",
      "1/3 [=========>....................] - ETA: 0s - loss: 4.3729 - accuracy: 0.2719\n",
      "Epoch 28: val_accuracy did not improve from 0.90107\n",
      "3/3 [==============================] - 0s 27ms/step - loss: 4.4042 - accuracy: 0.2462 - val_loss: 5.7937 - val_accuracy: 0.2393 - lr: 0.0010\n",
      "Epoch 29/30\n",
      "1/3 [=========>....................] - ETA: 0s - loss: 4.3190 - accuracy: 0.2656\n",
      "Epoch 29: val_accuracy did not improve from 0.90107\n",
      "3/3 [==============================] - 0s 27ms/step - loss: 4.3661 - accuracy: 0.2462 - val_loss: 5.8384 - val_accuracy: 0.2357 - lr: 0.0010\n",
      "Epoch 30/30\n",
      "1/3 [=========>....................] - ETA: 0s - loss: 4.2769 - accuracy: 0.2594\n",
      "Epoch 30: val_accuracy did not improve from 0.90107\n",
      "3/3 [==============================] - 0s 27ms/step - loss: 4.3322 - accuracy: 0.2462 - val_loss: 5.8896 - val_accuracy: 0.2357 - lr: 0.0010\n"
     ]
    }
   ],
   "source": [
    "# Fitting model on train and test datasets\n",
    "\n",
    "filename = 'model.h5'\n",
    "checkpoint = ModelCheckpoint(filename, monitor='val_accuracy', verbose=1, save_best_only=True, mode='min')\n",
    "\n",
    "history_2 = model_translate_LSTM.fit(trainX, trainY, epochs=30, batch_size=64, validation_split = 0.3, callbacks=[es,rl,mc])"
   ]
  },
  {
   "cell_type": "markdown",
   "metadata": {
    "id": "kek2gh0fdeKe"
   },
   "source": [
    "**Performance Evaluation and Prediction:**"
   ]
  },
  {
   "cell_type": "code",
   "execution_count": 94,
   "metadata": {
    "colab": {
     "base_uri": "https://localhost:8080/",
     "height": 350
    },
    "id": "Lj3xpZ89NKqO",
    "outputId": "b20eee1c-9853-445b-f131-b1ea147145c5"
   },
   "outputs": [
    {
     "data": {
      "image/png": "[encoded data removed]",
      "text/plain": [
       "<Figure size 720x360 with 1 Axes>"
      ]
     },
     "metadata": {
      "needs_background": "light"
     },
     "output_type": "display_data"
    }
   ],
   "source": [
    "# Plotting loss at different epochs\n",
    "\n",
    "plt.figure(figsize=(10,5))\n",
    "plt.plot(history_2.history['loss'],'r',label='train loss')\n",
    "plt.plot(history_2.history['val_loss'],'b',label='test loss')\n",
    "plt.xlabel('No. of Epochs')\n",
    "plt.ylabel('Loss')\n",
    "plt.title('Loss Graph')\n",
    "plt.legend();"
   ]
  },
  {
   "cell_type": "code",
   "execution_count": 95,
   "metadata": {
    "colab": {
     "base_uri": "https://localhost:8080/",
     "height": 350
    },
    "id": "ZvmJduPRgKnX",
    "outputId": "745a5a63-f1bd-41e4-8a67-2d3a39bc3c1a"
   },
   "outputs": [
    {
     "data": {
      "image/png": "[encoded data removed]",
      "text/plain": [
       "<Figure size 720x360 with 1 Axes>"
      ]
     },
     "metadata": {
      "needs_background": "light"
     },
     "output_type": "display_data"
    }
   ],
   "source": [
    "# Plotting accuracy at different epochs\n",
    "\n",
    "plt.figure(figsize=(10,5))\n",
    "plt.plot(history_2.history['accuracy'],'r',label='train accuracy')\n",
    "plt.plot(history_2.history['val_accuracy'],'b',label='test accuracy')\n",
    "plt.xlabel('No. of Epochs')\n",
    "plt.ylabel('Accuracy')\n",
    "plt.title('Accuracy Graph')\n",
    "plt.legend();"
   ]
  },
  {
   "cell_type": "code",
   "execution_count": 96,
   "metadata": {
    "colab": {
     "base_uri": "https://localhost:8080/"
    },
    "id": "Y9ZVwzkyTewI",
    "outputId": "5cd8328c-45ab-43f8-aaa2-a189a8c4f8d1"
   },
   "outputs": [
    {
     "name": "stdout",
     "output_type": "stream",
     "text": [
      "2/2 [==============================] - 0s 7ms/step - loss: 5.9571 - accuracy: 0.2571\n"
     ]
    }
   ],
   "source": [
    "# Evaluating the model performance on test data\n",
    "\n",
    "results_translate_lstm_test = model_translate_LSTM.evaluate(testX, testY)"
   ]
  },
  {
   "cell_type": "code",
   "execution_count": 97,
   "metadata": {
    "colab": {
     "base_uri": "https://localhost:8080/"
    },
    "id": "TBDaQWnNT-Re",
    "outputId": "22547dda-7a52-4590-dfe7-59c56acd31b2"
   },
   "outputs": [
    {
     "name": "stdout",
     "output_type": "stream",
     "text": [
      "6/6 [==============================] - 0s 8ms/step - loss: 4.7856 - accuracy: 0.2441\n"
     ]
    }
   ],
   "source": [
    "# Evaluating the model performance on train data\n",
    "\n",
    "results_translate_lstm_train = model_translate_LSTM.evaluate(trainX, trainY)"
   ]
  },
  {
   "cell_type": "code",
   "execution_count": 98,
   "metadata": {
    "colab": {
     "base_uri": "https://localhost:8080/"
    },
    "id": "FBF_r2l2TewK",
    "outputId": "18d0069e-72d5-4a60-cbf5-140db4edc818"
   },
   "outputs": [
    {
     "name": "stdout",
     "output_type": "stream",
     "text": [
      "Prediction of training sentences:\n",
      "The German sentence is: diana wallis\n",
      "The English sentence is: diana wallis\n",
      "The predicted sentence is: is\n",
      "**************************************************\n",
      "The German sentence is: aller voraussicht nach werden auch die ubrigen vier mitgliedstaaten in den nachsten jahren in die wahrungsunion eintreten\n",
      "The English sentence is: that is a complete certainty\n",
      "The predicted sentence is: is is is\n",
      "**************************************************\n",
      "The German sentence is: durch den versuch die uno zu einem instrument des kampfes gegen amerika zu machen wird sie nur noch weiter geschwacht oder vollig marginalisiert\n",
      "The English sentence is: reforming russias military industrial complex\n",
      "The predicted sentence is: is is is\n",
      "**************************************************\n",
      "The German sentence is: sobald diese graueltaten entdeckt wurden hat die regierung schnell gehandelt\n",
      "The English sentence is: but no more\n",
      "The predicted sentence is: is is\n",
      "**************************************************\n",
      "The German sentence is: das halten wir fur gut\n",
      "The English sentence is: we think that is good\n",
      "The predicted sentence is: is is is\n",
      "**************************************************\n",
      "The German sentence is: frau prasidentin\n",
      "The English sentence is: member of the commission\n",
      "The predicted sentence is: is\n",
      "**************************************************\n",
      "The German sentence is: russland investiert hier\n",
      "The English sentence is: russia invests here\n",
      "The predicted sentence is: is\n",
      "**************************************************\n",
      "The German sentence is: ich bitte dafur um entschuldigung\n",
      "The English sentence is: please accept my apologies\n",
      "The predicted sentence is: is is\n",
      "**************************************************\n",
      "The German sentence is: vielen dank herr ratsprasident\n",
      "The English sentence is: thank you mr presidentinoffice\n",
      "The predicted sentence is: is is\n",
      "**************************************************\n",
      "The German sentence is: eine nation in geiselhaft\n",
      "The English sentence is: a nation kidnapped\n",
      "The predicted sentence is: is is\n",
      "**************************************************\n",
      "BLEU-1: 0.048934\n",
      "BLEU-2: 0.000000\n",
      "BLEU-3: 0.000000\n",
      "BLEU-4: 0.000000\n"
     ]
    }
   ],
   "source": [
    "# Evaluating model on train dataset\n",
    "\n",
    "print('Prediction of training sentences:')\n",
    "evaluate_model(model_translate_LSTM, eng_tokenizer_rnn, trainX, train)\n"
   ]
  },
  {
   "cell_type": "code",
   "execution_count": 99,
   "metadata": {
    "colab": {
     "base_uri": "https://localhost:8080/"
    },
    "id": "_xD5W-qCTewL",
    "outputId": "ca376928-ddb6-4d91-b6dd-6c9b8b21a462"
   },
   "outputs": [
    {
     "name": "stdout",
     "output_type": "stream",
     "text": [
      "Prediction of test sentences:\n",
      "The German sentence is: das parlament wird sicherlich mithelfen\n",
      "The English sentence is: parliament will certainly provide assistance\n",
      "The predicted sentence is: is is\n",
      "**************************************************\n",
      "The German sentence is: die turkei leugnet den armenischen holocaust\n",
      "The English sentence is: turkey denies its armenian holocaust\n",
      "The predicted sentence is: is is\n",
      "**************************************************\n",
      "The German sentence is: unser standpunkt ist vollkommen klar\n",
      "The English sentence is: our position is absolutely clear\n",
      "The predicted sentence is: is is\n",
      "**************************************************\n",
      "The German sentence is: wie das funktionieren soll\n",
      "The English sentence is: how\n",
      "The predicted sentence is: is is\n",
      "**************************************************\n",
      "The German sentence is: ruckwurfe von fischen\n",
      "The English sentence is: fish discards\n",
      "The predicted sentence is: is\n",
      "**************************************************\n",
      "The German sentence is: bericht guinebertiere\n",
      "The English sentence is: guinebertiere report\n",
      "The predicted sentence is: is\n",
      "**************************************************\n",
      "The German sentence is: wie lange mu das dauern\n",
      "The English sentence is: how long should it take\n",
      "The predicted sentence is: is is\n",
      "**************************************************\n",
      "The German sentence is: dies ist bedauerlich\n",
      "The English sentence is: this is to be regretted\n",
      "The predicted sentence is: is is\n",
      "**************************************************\n",
      "The German sentence is: haushaltsdisziplin reicht nicht aus\n",
      "The English sentence is: budgetary discipline is not sufficient\n",
      "The predicted sentence is: is is\n",
      "**************************************************\n",
      "The German sentence is: das wird so glauben sie eindeutig zeigen dass folter kontraproduktiv ist\n",
      "The English sentence is: water pipe dreams\n",
      "The predicted sentence is: is is is\n",
      "**************************************************\n",
      "BLEU-1: 0.056597\n",
      "BLEU-2: 0.000000\n",
      "BLEU-3: 0.000000\n",
      "BLEU-4: 0.000000\n"
     ]
    }
   ],
   "source": [
    "# Evaluating model on test dataset\n",
    "\n",
    "print('Prediction of test sentences:')\n",
    "evaluate_model(model_translate_LSTM, eng_tokenizer_rnn, testX, test)"
   ]
  },
  {
   "cell_type": "markdown",
   "metadata": {
    "id": "PaYYq5-jUQcN"
   },
   "source": [
    "**Observation:**\n",
    "\n",
    "* Model 1 is predicting the German sentences from English sentences.\n",
    "* Model is generating similar accuracies on training and test datasets so model is not over fitting.\n",
    "* Model 1 accuracy is not improving after 2nd epoch and loss is ‘nan’ on both train and test datasets.\n",
    "* Model 1 has high test accuracy 92.87% and train accuracy of 92.91%, however it is predicting only empty string.\n",
    "* Model 2 and 3 are predicting English sentences from German sentences.\n",
    "* Model 2 has test accuracy of 23.81% and train accuracy of 54.84%. It is predicting training sentences with more accurate words. However, it looks overfitted model.\n",
    "* BLEU score of Model 2 on test data is 0.081 and on train data is 0.45.\n",
    "* Model 2 accuracy on test dataset is staying in same range after 7th epoch, however it is contentiously increasing on train dataset.\n",
    "* Model 2 loss is sharply decreasing on train dataset, however it is slightly increasing after 7th epoch on test dataset.\n",
    "* Model 2 is predicting some words on test data, but it does not look like a generalized and stable model.\n",
    "* Model 3 is not overfitting. Training data accuracy and test data accuracy is almost similar (25%), however it is predicting shorter sentences only with the specific words.\n",
    "* Model accuracy on both test and train dataset is staying stable till 20th epoch then starts increasing.\n",
    "* Model loss on train dataset is declining sharply, however loss on test dataset is decreasing up to 5th epoch then starts increasing.\n",
    "* BLEU score of Model 3 on train data is 0.048 and on test data is 0.056. \n",
    "* Considering the performance of all the 3 basic models implemented, both LSTM models are not over fitting but they are not predicting well.Model 2 (RNN with shorter lenght of sentences) is predicting few words correctly in test data but it is not looking generalised model.\n",
    "* We will need to consider other approaches to get better performance and outcome.\n",
    "\n"
   ]
  },
  {
   "cell_type": "markdown",
   "metadata": {
    "id": "iYM0jnRtPIcX"
   },
   "source": [
    "**Improvement:**\n",
    "\n",
    "*   Based on the performances of the basic models, we shall look for advance models like Encoder_Decoder approach, Bi-directional LSTM, and LSTM model with attention layer to expect improved performace.\n",
    "\n"
   ]
  }
 ],
 "metadata": {
  "accelerator": "GPU",
  "colab": {
   "machine_shape": "hm",
   "provenance": []
  },
  "gpuClass": "premium",
  "kernelspec": {
   "display_name": "Python 3 (ipykernel)",
   "language": "python",
   "name": "python3"
  },
  "language_info": {
   "codemirror_mode": {
    "name": "ipython",
    "version": 3
   },
   "file_extension": ".py",
   "mimetype": "text/x-python",
   "name": "python",
   "nbconvert_exporter": "python",
   "pygments_lexer": "ipython3",
   "version": "3.9.12"
  }
 },
 "nbformat": 4,
 "nbformat_minor": 1
}
